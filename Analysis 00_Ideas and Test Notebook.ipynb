{
 "cells": [
  {
   "cell_type": "markdown",
   "id": "65a7a9e7-89c7-4521-a03e-8689c0f8bc59",
   "metadata": {},
   "source": [
    "# Test Notebook - Microtubule Project\n",
    "Author: Bettina Vignolo\n",
    "\n",
    "This notebook aims to test a few changes to the original code written by Valentin and moreover test some ideas for analysis. \n",
    "\n",
    "**Possible changes might include:**\n",
    "- simpler syntax\n",
    "- plotting aesthetics\n",
    "- using count() instead of StatsBase Pkg\n",
    "- using seeds similar to publication (not single seeds but longer ones and with different color)\n",
    "- 3 Dimensions\n",
    "- different growth directions (and possibility to cross) as seen in publication\n",
    "\n",
    "**General questions to be solved:**\n",
    "- Translation of experiment to modell:  What are realistic ranges for our parameters?\n",
    "- how are realistic timesteps defined? which dimensions and tubulin concentrations should be chosen for parameter sweep?\n",
    "- how can the runtime be improved? what data do we really need for analysis?"
   ]
  },
  {
   "cell_type": "markdown",
   "id": "b38814cc-3f90-4321-91ca-ac3c6e916f39",
   "metadata": {},
   "source": [
    "## 1. Loading Packages and Functions:"
   ]
  },
  {
   "cell_type": "code",
   "execution_count": 1,
   "id": "d82b9290-1f9f-46b5-b7e5-6efbd3650cea",
   "metadata": {
    "tags": []
   },
   "outputs": [
    {
     "data": {
      "text/plain": [
       "MT_size_each (generic function with 1 method)"
      ]
     },
     "metadata": {},
     "output_type": "display_data"
    }
   ],
   "source": [
    "# load Packages:\n",
    "\n",
    "using Agents\n",
    "using Statistics\n",
    "using DataFrames\n",
    "using Distributions\n",
    "using StatsBase\n",
    "using DrWatson: @dict\n",
    "using Serialization\n",
    "using InteractiveDynamics\n",
    "using GLMakie\n",
    "import ColorSchemes as co\n",
    "using DataFramesMeta\n",
    "\n",
    "\n",
    "# load Functions: \n",
    "#include(\"functions/init.jl\")\n",
    "#include(\"functions/agentstep.jl\")\n",
    "#include(\"functions/agent.jl\")\n",
    "#include(\"functions/analysis_funs.jl\")\n",
    "#include(\"functions/modelstep.jl\")\n",
    "include(\"01_Agent.jl\")\n",
    "include(\"02_Initialization.jl\")\n",
    "include(\"03_AgentStep.jl\")\n",
    "include(\"04_ModelStep.jl\")\n",
    "include(\"05_Analysis.jl\")"
   ]
  },
  {
   "cell_type": "code",
   "execution_count": null,
   "id": "7b3e6e0a-7b33-472a-b8de-15cc25809870",
   "metadata": {},
   "outputs": [],
   "source": [
    "using Distributed\n",
    "addprocs(4)\n",
    "\n",
    "@everywhere begin\n",
    "    # load Packages:\n",
    "    using Agents\n",
    "    using Statistics\n",
    "    using DataFrames\n",
    "    using Distributions\n",
    "    using StatsBase\n",
    "    using DrWatson: @dict\n",
    "    using Serialization\n",
    "    using InteractiveDynamics\n",
    "    using GLMakie\n",
    "    import ColorSchemes as co\n",
    "    using DataFramesMeta\n",
    "\n",
    "    # load Functions:\n",
    "    include(\"01_Agent.jl\")\n",
    "    include(\"02_Initialization.jl\")\n",
    "    include(\"03_AgentStep.jl\")\n",
    "    include(\"04_ModelStep.jl\")\n",
    "    include(\"05_Analysis.jl\")\n",
    "end    "
   ]
  },
  {
   "cell_type": "markdown",
   "id": "3686c489-bbef-402d-b451-57bb686e081c",
   "metadata": {
    "tags": []
   },
   "source": [
    "## 2. Main Functions (and possible changes)"
   ]
  },
  {
   "cell_type": "markdown",
   "id": "7c341dd1-6678-4ecb-adf2-46aea9ac944a",
   "metadata": {},
   "source": [
    "### 2.1 Agent (agent.jl)\n",
    "Ideas for changing:\n",
    "- Must be adapted for 3D"
   ]
  },
  {
   "cell_type": "code",
   "execution_count": 2,
   "id": "ec792708-0d8e-4347-aec1-7dfef4cee616",
   "metadata": {},
   "outputs": [],
   "source": [
    "@agent tubulin GridAgent{2} begin\n",
    "    polym::Int64\n",
    "    GDP::Bool\n",
    "end"
   ]
  },
  {
   "cell_type": "markdown",
   "id": "46ba2469-b357-466d-b883-d8179d2c81f7",
   "metadata": {
    "tags": []
   },
   "source": [
    "### 2.2 Initialization (init.jl)"
   ]
  },
  {
   "cell_type": "markdown",
   "id": "fc5f145f-829d-4687-9aab-92ffa1f8a4eb",
   "metadata": {
    "tags": []
   },
   "source": [
    "#### Ideas for change:\n",
    "- Probabilities:\n",
    "    - <s> P_depolym_GDP is the contrary of p_depolym_GDP in this code -> for me confusing; should be read as \"Probability to depolymerize if tubulin has GDP bound\" and thus also changed in the AgentStep Code? </s>\n",
    "    \n",
    "    - <s>Additional probability to be incl. \"P_GDP_GTP_exchange\" (only for free agents), in experiment this is dependent on free GTP concentrations and should decline during experiment if GTP is not added constantly to the system. Only if GDP to GTP exchange is possible, then agents can be reincorporated into a MT after depolymerizing </s>\n",
    "    \n",
    "    \n",
    "\n",
    "- Populating the grid with agents:\n",
    "    - <s> Why should the first seed always be in the middle of the grid? could they all be added to random positions? </s> (implemented)\n",
    "    - <s> Shorter alternative for populating the grid with agents </s> (implemented)\n",
    "    - Avoid collisions: populating Nstarts -> check if other agent is positioned at same diagonale and if so change position and check again"
   ]
  },
  {
   "cell_type": "code",
   "execution_count": 27,
   "id": "65ea7034-0af9-4781-b0d2-78dd80f1e892",
   "metadata": {
    "tags": []
   },
   "outputs": [
    {
     "data": {
      "text/plain": [
       "initialize (generic function with 1 method)"
      ]
     },
     "execution_count": 27,
     "metadata": {},
     "output_type": "execute_result"
    }
   ],
   "source": [
    "function initialize(;Nstarts::Int64, numagents::Int64, periodic::Bool, griddims::Tuple{Int64,Int64}, p_hyd::Float64,  p_polym::Float64,\n",
    "                        p_depolym_GTP::Float64, p_depolym_GDP::Float64, p_GTP_exchange::Float64)\n",
    "   \n",
    "    P_hyd = Binomial(1,p_hyd)                       # Prob to hydrolize from GTP to GDP:  GTPase rate\n",
    "    P_polym = Binomial(1,p_polym)                   # Prob to Polymerize/bind to the microtuble \n",
    "    P_depolym_GTP = Binomial(1,p_depolym_GTP)       # Prob to depolimerize if not hydrolized (GTP - tubulin) = lower\n",
    "    P_depolym_GDP = Binomial(1,p_depolym_GDP)       # Prob to depolimerize if hydrolized (GDP - tubulin) = higher\n",
    "    P_GTP_exchange = Binomial(1,p_GTP_exchange)     # Prob to exchange GDP to GTP\n",
    "    \n",
    "    properties = @dict griddims numagents Nstarts p_depolym_GTP p_depolym_GDP p_polym p_hyd p_GTP_exchange P_hyd P_polym P_depolym_GTP P_depolym_GDP P_GTP_exchange\n",
    "      \n",
    "    properties[:tick] = 0\n",
    "\n",
    "    space = GridSpace(griddims, periodic = periodic )   # define Gridspace with dimensions and if periodic = true or false\n",
    "    \n",
    "    model = ABM(tubulin, space;                         # create model using Agents.ABM\n",
    "        scheduler = Schedulers.randomly,                # activates all agents once per step in a random order\n",
    "        properties = properties )\n",
    "    \n",
    "    #  populating Grid Space with Agents  \n",
    "    for i in 1:Nstarts                              # Startingpoints\n",
    "        agent = tubulin(i,(1,1),i,true)        # first agent with id = 1, positioned at , microtubulus id = 1, hydrolized status = true\n",
    "        add_agent_single!(agent, model)             # add at random location\n",
    "    end\n",
    "\n",
    "    for i in Nstarts+1:numagents\n",
    "        agent =  tubulin(i,(1,1),0,false)           # rest of agents are unpolymerized (polym=0) and not hydrolized (GDP = false)\n",
    "        add_agent_single!(agent, model)             # add agents to random positions\n",
    "    end\n",
    "\n",
    "    return model\n",
    "end"
   ]
  },
  {
   "cell_type": "markdown",
   "id": "bd390087-fd9a-41e0-b86d-7df4e3687ec0",
   "metadata": {},
   "source": [
    "### 2.3 Agentstep (agentstep.jl) "
   ]
  },
  {
   "cell_type": "markdown",
   "id": "071919ef-aeaf-4c44-b024-75fb760edaf2",
   "metadata": {},
   "source": [
    "#### Ideas for change:\n",
    "\n",
    "-<s> ```rand(model.P_depolym_GDP,1)[1] ``` should be the same as ``` rand(model.P_depolym_GDP) ``` </s>(implemented)\n",
    "\n",
    "-<s> If P_depolym_GDP is changed from 1 - p_depolym_GDP to p_depolym_GDP, the ```if else ``` condition must be changed as well  </s>(implemented)\n",
    "\n",
    "-<s> Adding GDP-GTP exchange for free tubulin (polym == 0)   </s>(implemented)\n"
   ]
  },
  {
   "cell_type": "code",
   "execution_count": 4,
   "id": "c6de8a52-c77a-4036-9691-2b9f53bfb14e",
   "metadata": {
    "tags": []
   },
   "outputs": [
    {
     "data": {
      "text/plain": [
       "agent_step! (generic function with 1 method)"
      ]
     },
     "execution_count": 4,
     "metadata": {},
     "output_type": "execute_result"
    }
   ],
   "source": [
    "function agent_step!(agent,model)\n",
    "# for all free agents (which are not the starting points in the beginning)\n",
    "    if agent.id > model.Nstarts && agent.polym == 0           # only agents that are not starting points and are not yet polymerized    \n",
    "\n",
    "        walk!(agent, rand, model, ifempty = true)             # agent walks +/-1 Position in random direction but only if this location is empty\n",
    "        \n",
    "        if agent.GDP \n",
    "            agent.GDP = rand(model.P_GTP_exchange) == 1 ? false : true #if GDP is bound, it is decided if it will be eschanged to GTP\n",
    "        end\n",
    "        \n",
    "        for id in nearby_ids(agent, model, 1)                # for all other agents right next to agent (r = 1 is the distance)\n",
    "            if model[id].polym > 0  && model[id].pos == collect(nearby_positions(agent, model,1))[8]  # if agent at the upper right corner ([8]) is polymerized\n",
    "                agent.polym = rand(model.P_polym) == 1 ? model[id].polym : 0 \n",
    "                # if rand() == 1 then the agent receives the MT id of neighbor[8] otherwise it stays at 0 (agents is still not polymerized)\n",
    "            end\n",
    "        end\n",
    "    end\n",
    "    \n",
    "# for all polymerized agents (which are not the starting points):\n",
    "    if agent.polym > 0 && agent.id > model.Nstarts            \n",
    "        if agent.GDP == false                   # if GTP is bound               \n",
    "            agent.GDP = rand(model.P_hyd)       # GTP gets hydrolyzed with the probability of p_hyd \n",
    "            # rand(...) results in either 1 or 0 which can also be interpreted as true or false  \n",
    "        end\n",
    "        \n",
    "        if isempty(collect(nearby_positions(agent, model,1))[1], model)           # checks if nearby position at lower left corner ([1]) is empty\n",
    "            if agent.GDP                                                          # if GDP is bound\n",
    "                agent.polym = rand(model.P_depolym_GDP) == 1  ? 0 : agent.polym   \n",
    "                # if rand(...) == 1 the agent depolymerizes (agent.polym = 0), else the agent.polym stays the same\n",
    "            else                                                                  # if GTP is bound\n",
    "                agent.polym = rand(model.P_depolym_GTP) == 1  ? 0 : agent.polym   \n",
    "                # if rand(...) == 1 the agent depolymerizes (agent.polym = 0), else the agent.polym stays the same\n",
    "            end\n",
    "        end\n",
    "   end\n",
    "end"
   ]
  },
  {
   "cell_type": "markdown",
   "id": "5107fb52-25fe-4d19-b75b-12e189b31618",
   "metadata": {},
   "source": [
    "### 2.4 Modelstep (modelstep.jl)"
   ]
  },
  {
   "cell_type": "markdown",
   "id": "3f3e0ca1-7450-49c0-b70a-f91738c4a833",
   "metadata": {},
   "source": [
    "Ideas for change:\n",
    "<strike> - As mentioned below the Init.jl function: shouldn't P_hyd be 1 after polymerization? shouldn't P_depolym_GTP be 0? (implemented) <strike>"
   ]
  },
  {
   "cell_type": "code",
   "execution_count": 10,
   "id": "bf4b1c1b-defc-46d7-9b07-e10ac93041ce",
   "metadata": {
    "tags": []
   },
   "outputs": [
    {
     "data": {
      "text/plain": [
       "model_step! (generic function with 1 method)"
      ]
     },
     "execution_count": 10,
     "metadata": {},
     "output_type": "execute_result"
    }
   ],
   "source": [
    "function model_step!(model)\n",
    "    model.tick += 1                                            # represents time marker\n",
    "    model.P_hyd = Binomial(1,model.p_hyd)                      # Prob to hydrolize from GTP to GDP: \n",
    "    model.P_polym = Binomial(1,model.p_polym)                  # Prob to Polymerize/bind to the microtubule \n",
    "    model.P_depolym_GTP = Binomial(1,model.p_depolym_GTP)      # Prob to depolimerize if not hydrolized (GTP - tubulin) = lower\n",
    "    model.P_depolym_GDP = Binomial(1,model.p_depolym_GDP)      # Prob to depolimerize if hydrolized (GDP - tubulin) = higher\n",
    "    model.P_GTP_exchange = Binomial(1,model.p_GTP_exchange)    # Prob to exchange GDP to GTP\n",
    "end"
   ]
  },
  {
   "cell_type": "markdown",
   "id": "c2e00a84-2d47-4e11-bf14-7288364aebf8",
   "metadata": {},
   "source": [
    "## 3. Visualizations and Analysis\n",
    "### 3.1 Initial or after specific step\n",
    "\n"
   ]
  },
  {
   "cell_type": "code",
   "execution_count": 12,
   "id": "de928dc6-db3b-4f9c-afff-b14fe66998e1",
   "metadata": {},
   "outputs": [],
   "source": [
    "#Initialize Model\n",
    "model=initialize(; Nstarts = 4,\n",
    "        periodic = true,\n",
    "        numagents = 1000,\n",
    "        griddims = (100,100), \n",
    "        p_polym = 1.0,\n",
    "        p_hyd = 0.024,\n",
    "        p_GTP_exchange = 0.01,\n",
    "        p_depolym_GTP = 0.0,\n",
    "        p_depolym_GDP = 0.2)\n",
    "\n",
    "# aesthetics\n",
    "groupcolor(a) = a.polym == 0 ? :blue : a.id <= model.Nstarts ? :red : :green \n",
    "groupmarker(a) = a.GDP == true ? '●' : '○'\n",
    "# figure\n",
    "fig,stepper = abm_plot(model, ac=groupcolor, am=groupmarker)\n",
    "\n",
    "fig"
   ]
  },
  {
   "cell_type": "code",
   "execution_count": 14,
   "id": "e9659ef2-179f-46a9-a8f3-c7843e8e037c",
   "metadata": {},
   "outputs": [
    {
     "data": {
      "text/plain": [
       "GLMakie.Screen(...)"
      ]
     },
     "metadata": {},
     "output_type": "display_data"
    }
   ],
   "source": [
    "#let the model run to progress the ABM plot:\n",
    "Agents.step!(stepper, model, agent_step!, model_step!, 9000)\n",
    "display(fig)"
   ]
  },
  {
   "cell_type": "markdown",
   "id": "6f09482a-0174-4d1d-8027-0edea9689ffd",
   "metadata": {},
   "source": [
    "### 3.1.2 Running model with fixed parameters and collecting data"
   ]
  },
  {
   "cell_type": "code",
   "execution_count": 18,
   "id": "088cb76e-0bee-4f7a-b64e-7065ab042f9a",
   "metadata": {},
   "outputs": [
    {
     "data": {
      "text/plain": [
       "(\u001b[1m0×0 DataFrame\u001b[0m, \u001b[1m3601×7 DataFrame\u001b[0m\n",
       "\u001b[1m  Row \u001b[0m│\u001b[1m step  \u001b[0m\u001b[1m mean_MT_size \u001b[0m\u001b[1m MT_size_1 \u001b[0m\u001b[1m MT_size_2 \u001b[0m\u001b[1m MT_size_3 \u001b[0m\u001b[1m MT_size_4 \u001b[0m\u001b[1m MT_si\u001b[0m ⋯\n",
       "\u001b[1m      \u001b[0m│\u001b[90m Int64 \u001b[0m\u001b[90m Float64      \u001b[0m\u001b[90m Int64     \u001b[0m\u001b[90m Int64     \u001b[0m\u001b[90m Int64     \u001b[0m\u001b[90m Int64     \u001b[0m\u001b[90m Int64\u001b[0m ⋯\n",
       "──────┼─────────────────────────────────────────────────────────────────────────\n",
       "    1 │     0           1.0          1          1          1          1        ⋯\n",
       "    2 │     1           1.0          1          1          1          1\n",
       "    3 │     2           1.0          1          1          1          1\n",
       "    4 │     3           1.0          1          1          1          1\n",
       "    5 │     4           1.2          2          1          1          1        ⋯\n",
       "    6 │     5           1.2          2          1          1          1\n",
       "    7 │     6           1.2          2          1          1          1\n",
       "    8 │     7           1.2          2          1          1          1\n",
       "    9 │     8           1.6          2          1          3          1        ⋯\n",
       "   10 │     9           1.6          2          1          3          1\n",
       "   11 │    10           1.8          2          1          3          1\n",
       "  ⋮   │   ⋮         ⋮            ⋮          ⋮          ⋮          ⋮          ⋮ ⋱\n",
       " 3592 │  3591          43.0         15         50         50         50\n",
       " 3593 │  3592          43.0         15         50         50         50        ⋯\n",
       " 3594 │  3593          43.0         15         50         50         50\n",
       " 3595 │  3594          43.0         15         50         50         50\n",
       " 3596 │  3595          43.0         15         50         50         50\n",
       " 3597 │  3596          43.0         15         50         50         50        ⋯\n",
       " 3598 │  3597          43.0         15         50         50         50\n",
       " 3599 │  3598          43.0         15         50         50         50\n",
       " 3600 │  3599          43.0         15         50         50         50\n",
       " 3601 │  3600          43.0         15         50         50         50        ⋯\n",
       "\u001b[36m                                                  1 column and 3580 rows omitted\u001b[0m)"
      ]
     },
     "execution_count": 18,
     "metadata": {},
     "output_type": "execute_result"
    }
   ],
   "source": [
    "model=initialize(; Nstarts = 5,\n",
    "        periodic = true,\n",
    "        numagents = 500,\n",
    "        griddims = (50,50), \n",
    "        p_polym = 0.5,\n",
    "        p_hyd = 0.01,\n",
    "        p_GTP_exchange = 0.005,\n",
    "        p_depolym_GTP = 0,\n",
    "        p_depolym_GDP = 0.25)\n",
    "#vector initialzed\n",
    "mdata = [mean_MT_size, MT_size_1, MT_size_2, MT_size_3, MT_size_4, MT_size_5]\n",
    "#adata = [:pos, :polym, :GDP]\n",
    "\n",
    "#running the model and data collection\n",
    "modeldata = run!(model,agent_step!,model_step!, 3600; mdata)"
   ]
  },
  {
   "cell_type": "code",
   "execution_count": 19,
   "id": "88677f19-77c5-449f-b236-7d555c86c3e4",
   "metadata": {},
   "outputs": [],
   "source": [
    "serialize(\"data/MT size_0.005GTP_0.025depolym_0.01hyd_500numag_3600 steps.jls\", modeldata)"
   ]
  },
  {
   "cell_type": "markdown",
   "id": "49b6f0fa-d25d-4032-b2f3-52f651817149",
   "metadata": {},
   "source": [
    "### 3.2.1 Interactive - abm_play()\n"
   ]
  },
  {
   "cell_type": "code",
   "execution_count": 4,
   "id": "d528e872-d60b-4284-95f8-107c031749ea",
   "metadata": {
    "collapsed": true,
    "jupyter": {
     "outputs_hidden": true
    },
    "tags": []
   },
   "outputs": [
    {
     "data": {
      "text/plain": [
       "(Scene (600px, 700px):\n",
       "  29 Plots:\n",
       "    ├ Combined{Makie.poly, Tuple{Vector{Vector{Point{2, Float32}}}}}\n",
       "    ├ LineSegments{Tuple{Vector{Point{2, Float32}}}}\n",
       "    ├ LineSegments{Tuple{Vector{Point{2, Float32}}}}\n",
       "    ├ LineSegments{Tuple{Vector{Point{2, Float32}}}}\n",
       "    ├ LineSegments{Tuple{Vector{Point{2, Float32}}}}\n",
       "    ├ LineSegments{Tuple{Vector{Point{2, Float32}}}}\n",
       "    ├ LineSegments{Tuple{Vector{Point{2, Float32}}}}\n",
       "    ├ MakieCore.Text{Tuple{String}}\n",
       "    ├ Lines{Tuple{Vector{Point{2, Float32}}}}\n",
       "    ├ MakieCore.Text{Tuple{Vector{Tuple{AbstractString, Point{2, Float32}}}}}\n",
       "    ├ LineSegments{Tuple{Vector{Point{2, Float32}}}}\n",
       "    ├ LineSegments{Tuple{Vector{Point{2, Float32}}}}\n",
       "    ├ MakieCore.Text{Tuple{String}}\n",
       "    ├ Lines{Tuple{Vector{Point{2, Float32}}}}\n",
       "    ├ MakieCore.Text{Tuple{Vector{Tuple{AbstractString, Point{2, Float32}}}}}\n",
       "    ├ Lines{Tuple{Vector{Point{2, Float32}}}}\n",
       "    ├ Lines{Tuple{Vector{Point{2, Float32}}}}\n",
       "    ├ MakieCore.Text{Tuple{String}}\n",
       "    ├ Combined{Makie._inspector, Tuple{Int64}}\n",
       "    ├ Scatter{Tuple{Vector{Point{2, Float32}}}}\n",
       "    ├ LineSegments{Tuple{Vector{Point{2, Float32}}}}\n",
       "    ├ Scatter{Tuple{Vector{Point{2, Float32}}}}\n",
       "    ├ MakieCore.Text{Tuple{String}}\n",
       "    ├ MakieCore.Text{Tuple{String}}\n",
       "    ├ Scatter{Tuple{Vector{Point{2, Float32}}}}\n",
       "    ├ LineSegments{Tuple{Vector{Point{2, Float32}}}}\n",
       "    ├ Scatter{Tuple{Vector{Point{2, Float32}}}}\n",
       "    ├ MakieCore.Text{Tuple{String}}\n",
       "    └ MakieCore.Text{Tuple{String}}\n",
       "  4 Child Scenes:\n",
       "    ├ Scene (494px, 494px)\n",
       "    ├ Scene (53px, 39px)\n",
       "    ├ Scene (44px, 39px)\n",
       "    └ Scene (59px, 39px), Helper structure for stepping and updating the plot of an agent based model. It is outputted by `abm_plot` and can be used in `Agents.step!`, see `abm_plot`.\n",
       ")"
      ]
     },
     "execution_count": 4,
     "metadata": {},
     "output_type": "execute_result"
    }
   ],
   "source": [
    "#Initialize Model\n",
    "model=initialize(; Nstarts = 5,\n",
    "        periodic = true,\n",
    "        numagents = 1000,\n",
    "        griddims = (100,100), \n",
    "        p_polym = 1,\n",
    "        p_hyd = 0.02,\n",
    "        p_GTP_exchange = 0.015,\n",
    "        p_depolym_GTP = 0,\n",
    "        p_depolym_GDP = 0.3) \n",
    "# aesthetics\n",
    "groupcolor(a) = a.polym == 0 ? :blue : a.id <= model.Nstarts ? :red : :green \n",
    "groupmarker(a) = a.GDP == true ? '●' : '○'\n",
    "# figure\n",
    "fig2, stepper = abm_play(model, agent_step!, model_step!, ac=groupcolor, am=groupmarker)\n"
   ]
  },
  {
   "cell_type": "markdown",
   "id": "0a67d65e-9cb5-457b-b193-87ed2035ddee",
   "metadata": {},
   "source": [
    "### 3.2.2 Interactive - abm_data_exploration()"
   ]
  },
  {
   "cell_type": "code",
   "execution_count": 4,
   "id": "33a7fb3d-d9d3-424c-8921-bfda578d0ec4",
   "metadata": {
    "tags": []
   },
   "outputs": [
    {
     "data": {
      "text/plain": [
       "(Scene (1600px, 800px):\n",
       "  157 Plots:\n",
       "    ├ Combined{Makie.poly, Tuple{Vector{Vector{Point{2, Float32}}}}}\n",
       "    ├ LineSegments{Tuple{Vector{Point{2, Float32}}}}\n",
       "    ├ LineSegments{Tuple{Vector{Point{2, Float32}}}}\n",
       "    ├ LineSegments{Tuple{Vector{Point{2, Float32}}}}\n",
       "    ├ LineSegments{Tuple{Vector{Point{2, Float32}}}}\n",
       "    ├ LineSegments{Tuple{Vector{Point{2, Float32}}}}\n",
       "    ├ LineSegments{Tuple{Vector{Point{2, Float32}}}}\n",
       "    ├ MakieCore.Text{Tuple{String}}\n",
       "    ├ Lines{Tuple{Vector{Point{2, Float32}}}}\n",
       "    ├ MakieCore.Text{Tuple{Vector{Tuple{AbstractString, Point{2, Float32}}}}}\n",
       "    ├ LineSegments{Tuple{Vector{Point{2, Float32}}}}\n",
       "    ├ LineSegments{Tuple{Vector{Point{2, Float32}}}}\n",
       "    ├ MakieCore.Text{Tuple{String}}\n",
       "    ├ Lines{Tuple{Vector{Point{2, Float32}}}}\n",
       "    ├ MakieCore.Text{Tuple{Vector{Tuple{AbstractString, Point{2, Float32}}}}}\n",
       "    ├ Lines{Tuple{Vector{Point{2, Float32}}}}\n",
       "    ├ Lines{Tuple{Vector{Point{2, Float32}}}}\n",
       "    ├ MakieCore.Text{Tuple{String}}\n",
       "    ├ Combined{Makie._inspector, Tuple{Int64}}\n",
       "    ├ Scatter{Tuple{Vector{Point{2, Float32}}}}\n",
       "    ├ LineSegments{Tuple{Vector{Point{2, Float32}}}}\n",
       "    ├ Scatter{Tuple{Vector{Point{2, Float32}}}}\n",
       "    ├ MakieCore.Text{Tuple{String}}\n",
       "    ├ MakieCore.Text{Tuple{String}}\n",
       "    ├ Scatter{Tuple{Vector{Point{2, Float32}}}}\n",
       "    ├ LineSegments{Tuple{Vector{Point{2, Float32}}}}\n",
       "    ├ Scatter{Tuple{Vector{Point{2, Float32}}}}\n",
       "    ├ MakieCore.Text{Tuple{String}}\n",
       "    ├ MakieCore.Text{Tuple{String}}\n",
       "    ├ Scatter{Tuple{Vector{Point{2, Float32}}}}\n",
       "    ├ LineSegments{Tuple{Vector{Point{2, Float32}}}}\n",
       "    ├ Scatter{Tuple{Vector{Point{2, Float32}}}}\n",
       "    ├ MakieCore.Text{Tuple{String}}\n",
       "    ├ MakieCore.Text{Tuple{String}}\n",
       "    ├ Scatter{Tuple{Vector{Point{2, Float32}}}}\n",
       "    ├ LineSegments{Tuple{Vector{Point{2, Float32}}}}\n",
       "    ├ Scatter{Tuple{Vector{Point{2, Float32}}}}\n",
       "    ├ MakieCore.Text{Tuple{String}}\n",
       "    ├ MakieCore.Text{Tuple{String}}\n",
       "    ├ Scatter{Tuple{Vector{Point{2, Float32}}}}\n",
       "    ├ LineSegments{Tuple{Vector{Point{2, Float32}}}}\n",
       "    ├ Scatter{Tuple{Vector{Point{2, Float32}}}}\n",
       "    ├ MakieCore.Text{Tuple{String}}\n",
       "    ├ MakieCore.Text{Tuple{String}}\n",
       "    ├ Scatter{Tuple{Vector{Point{2, Float32}}}}\n",
       "    ├ LineSegments{Tuple{Vector{Point{2, Float32}}}}\n",
       "    ├ Scatter{Tuple{Vector{Point{2, Float32}}}}\n",
       "    ├ MakieCore.Text{Tuple{String}}\n",
       "    ├ MakieCore.Text{Tuple{String}}\n",
       "    ├ Combined{Makie.poly, Tuple{Vector{Vector{Point{2, Float32}}}}}\n",
       "    ├ LineSegments{Tuple{Vector{Point{2, Float32}}}}\n",
       "    ├ LineSegments{Tuple{Vector{Point{2, Float32}}}}\n",
       "    ├ LineSegments{Tuple{Vector{Point{2, Float32}}}}\n",
       "    ├ LineSegments{Tuple{Vector{Point{2, Float32}}}}\n",
       "    ├ LineSegments{Tuple{Vector{Point{2, Float32}}}}\n",
       "    ├ LineSegments{Tuple{Vector{Point{2, Float32}}}}\n",
       "    ├ MakieCore.Text{Tuple{String}}\n",
       "    ├ Lines{Tuple{Vector{Point{2, Float32}}}}\n",
       "    ├ MakieCore.Text{Tuple{Vector{Tuple{AbstractString, Point{2, Float32}}}}}\n",
       "    ├ LineSegments{Tuple{Vector{Point{2, Float32}}}}\n",
       "    ├ LineSegments{Tuple{Vector{Point{2, Float32}}}}\n",
       "    ├ MakieCore.Text{Tuple{String}}\n",
       "    ├ Lines{Tuple{Vector{Point{2, Float32}}}}\n",
       "    ├ MakieCore.Text{Tuple{Vector{Tuple{AbstractString, Point{2, Float32}}}}}\n",
       "    ├ Lines{Tuple{Vector{Point{2, Float32}}}}\n",
       "    ├ Lines{Tuple{Vector{Point{2, Float32}}}}\n",
       "    ├ MakieCore.Text{Tuple{String}}\n",
       "    ├ Combined{Makie.poly, Tuple{Vector{Vector{Point{2, Float32}}}}}\n",
       "    ├ LineSegments{Tuple{Vector{Point{2, Float32}}}}\n",
       "    ├ LineSegments{Tuple{Vector{Point{2, Float32}}}}\n",
       "    ├ LineSegments{Tuple{Vector{Point{2, Float32}}}}\n",
       "    ├ LineSegments{Tuple{Vector{Point{2, Float32}}}}\n",
       "    ├ LineSegments{Tuple{Vector{Point{2, Float32}}}}\n",
       "    ├ LineSegments{Tuple{Vector{Point{2, Float32}}}}\n",
       "    ├ MakieCore.Text{Tuple{String}}\n",
       "    ├ Lines{Tuple{Vector{Point{2, Float32}}}}\n",
       "    ├ MakieCore.Text{Tuple{Vector{Tuple{AbstractString, Point{2, Float32}}}}}\n",
       "    ├ LineSegments{Tuple{Vector{Point{2, Float32}}}}\n",
       "    ├ LineSegments{Tuple{Vector{Point{2, Float32}}}}\n",
       "    ├ MakieCore.Text{Tuple{String}}\n",
       "    ├ Lines{Tuple{Vector{Point{2, Float32}}}}\n",
       "    ├ MakieCore.Text{Tuple{Vector{Tuple{AbstractString, Point{2, Float32}}}}}\n",
       "    ├ Lines{Tuple{Vector{Point{2, Float32}}}}\n",
       "    ├ Lines{Tuple{Vector{Point{2, Float32}}}}\n",
       "    ├ MakieCore.Text{Tuple{String}}\n",
       "    ├ Combined{Makie.poly, Tuple{Vector{Vector{Point{2, Float32}}}}}\n",
       "    ├ LineSegments{Tuple{Vector{Point{2, Float32}}}}\n",
       "    ├ LineSegments{Tuple{Vector{Point{2, Float32}}}}\n",
       "    ├ LineSegments{Tuple{Vector{Point{2, Float32}}}}\n",
       "    ├ LineSegments{Tuple{Vector{Point{2, Float32}}}}\n",
       "    ├ LineSegments{Tuple{Vector{Point{2, Float32}}}}\n",
       "    ├ LineSegments{Tuple{Vector{Point{2, Float32}}}}\n",
       "    ├ MakieCore.Text{Tuple{String}}\n",
       "    ├ Lines{Tuple{Vector{Point{2, Float32}}}}\n",
       "    ├ MakieCore.Text{Tuple{Vector{Tuple{AbstractString, Point{2, Float32}}}}}\n",
       "    ├ LineSegments{Tuple{Vector{Point{2, Float32}}}}\n",
       "    ├ LineSegments{Tuple{Vector{Point{2, Float32}}}}\n",
       "    ├ MakieCore.Text{Tuple{String}}\n",
       "    ├ Lines{Tuple{Vector{Point{2, Float32}}}}\n",
       "    ├ MakieCore.Text{Tuple{Vector{Tuple{AbstractString, Point{2, Float32}}}}}\n",
       "    ├ Lines{Tuple{Vector{Point{2, Float32}}}}\n",
       "    ├ Lines{Tuple{Vector{Point{2, Float32}}}}\n",
       "    ├ MakieCore.Text{Tuple{String}}\n",
       "    ├ Combined{Makie.poly, Tuple{Vector{Vector{Point{2, Float32}}}}}\n",
       "    ├ LineSegments{Tuple{Vector{Point{2, Float32}}}}\n",
       "    ├ LineSegments{Tuple{Vector{Point{2, Float32}}}}\n",
       "    ├ LineSegments{Tuple{Vector{Point{2, Float32}}}}\n",
       "    ├ LineSegments{Tuple{Vector{Point{2, Float32}}}}\n",
       "    ├ LineSegments{Tuple{Vector{Point{2, Float32}}}}\n",
       "    ├ LineSegments{Tuple{Vector{Point{2, Float32}}}}\n",
       "    ├ MakieCore.Text{Tuple{String}}\n",
       "    ├ Lines{Tuple{Vector{Point{2, Float32}}}}\n",
       "    ├ MakieCore.Text{Tuple{Vector{Tuple{AbstractString, Point{2, Float32}}}}}\n",
       "    ├ LineSegments{Tuple{Vector{Point{2, Float32}}}}\n",
       "    ├ LineSegments{Tuple{Vector{Point{2, Float32}}}}\n",
       "    ├ MakieCore.Text{Tuple{String}}\n",
       "    ├ Lines{Tuple{Vector{Point{2, Float32}}}}\n",
       "    ├ MakieCore.Text{Tuple{Vector{Tuple{AbstractString, Point{2, Float32}}}}}\n",
       "    ├ Lines{Tuple{Vector{Point{2, Float32}}}}\n",
       "    ├ Lines{Tuple{Vector{Point{2, Float32}}}}\n",
       "    ├ MakieCore.Text{Tuple{String}}\n",
       "    ├ Combined{Makie.poly, Tuple{Vector{Vector{Point{2, Float32}}}}}\n",
       "    ├ LineSegments{Tuple{Vector{Point{2, Float32}}}}\n",
       "    ├ LineSegments{Tuple{Vector{Point{2, Float32}}}}\n",
       "    ├ LineSegments{Tuple{Vector{Point{2, Float32}}}}\n",
       "    ├ LineSegments{Tuple{Vector{Point{2, Float32}}}}\n",
       "    ├ LineSegments{Tuple{Vector{Point{2, Float32}}}}\n",
       "    ├ LineSegments{Tuple{Vector{Point{2, Float32}}}}\n",
       "    ├ MakieCore.Text{Tuple{String}}\n",
       "    ├ Lines{Tuple{Vector{Point{2, Float32}}}}\n",
       "    ├ MakieCore.Text{Tuple{Vector{Tuple{AbstractString, Point{2, Float32}}}}}\n",
       "    ├ LineSegments{Tuple{Vector{Point{2, Float32}}}}\n",
       "    ├ LineSegments{Tuple{Vector{Point{2, Float32}}}}\n",
       "    ├ MakieCore.Text{Tuple{String}}\n",
       "    ├ Lines{Tuple{Vector{Point{2, Float32}}}}\n",
       "    ├ MakieCore.Text{Tuple{Vector{Tuple{AbstractString, Point{2, Float32}}}}}\n",
       "    ├ Lines{Tuple{Vector{Point{2, Float32}}}}\n",
       "    ├ Lines{Tuple{Vector{Point{2, Float32}}}}\n",
       "    ├ MakieCore.Text{Tuple{String}}\n",
       "    ├ Combined{Makie.poly, Tuple{Vector{Vector{Point{2, Float32}}}}}\n",
       "    ├ LineSegments{Tuple{Vector{Point{2, Float32}}}}\n",
       "    ├ LineSegments{Tuple{Vector{Point{2, Float32}}}}\n",
       "    ├ LineSegments{Tuple{Vector{Point{2, Float32}}}}\n",
       "    ├ LineSegments{Tuple{Vector{Point{2, Float32}}}}\n",
       "    ├ LineSegments{Tuple{Vector{Point{2, Float32}}}}\n",
       "    ├ LineSegments{Tuple{Vector{Point{2, Float32}}}}\n",
       "    ├ MakieCore.Text{Tuple{String}}\n",
       "    ├ Lines{Tuple{Vector{Point{2, Float32}}}}\n",
       "    ├ MakieCore.Text{Tuple{Vector{Tuple{AbstractString, Point{2, Float32}}}}}\n",
       "    ├ LineSegments{Tuple{Vector{Point{2, Float32}}}}\n",
       "    ├ LineSegments{Tuple{Vector{Point{2, Float32}}}}\n",
       "    ├ MakieCore.Text{Tuple{String}}\n",
       "    ├ Lines{Tuple{Vector{Point{2, Float32}}}}\n",
       "    ├ MakieCore.Text{Tuple{Vector{Tuple{AbstractString, Point{2, Float32}}}}}\n",
       "    ├ Lines{Tuple{Vector{Point{2, Float32}}}}\n",
       "    ├ Lines{Tuple{Vector{Point{2, Float32}}}}\n",
       "    └ MakieCore.Text{Tuple{String}}\n",
       "  11 Child Scenes:\n",
       "    ├ Scene (594px, 594px)\n",
       "    ├ Scene (53px, 39px)\n",
       "    ├ Scene (44px, 39px)\n",
       "    ├ Scene (59px, 39px)\n",
       "    ├ Scene (74px, 39px)\n",
       "    ├ Scene (725px, 72px)\n",
       "    ├ Scene (725px, 71px)\n",
       "    ├ Scene (725px, 72px)\n",
       "    ├ Scene (725px, 71px)\n",
       "    ├ Scene (725px, 72px)\n",
       "    └ Scene (725px, 71px), \u001b[1m0×0 DataFrame\u001b[0m, \u001b[1m1×7 DataFrame\u001b[0m\n",
       "\u001b[1m Row \u001b[0m│\u001b[1m step  \u001b[0m\u001b[1m mean_MT_size \u001b[0m\u001b[1m MT_size_1 \u001b[0m\u001b[1m MT_size_2 \u001b[0m\u001b[1m MT_size_3 \u001b[0m\u001b[1m MT_size_4 \u001b[0m\u001b[1m MT_siz\u001b[0m ⋯\n",
       "\u001b[1m     \u001b[0m│\u001b[90m Int64 \u001b[0m\u001b[90m Float64      \u001b[0m\u001b[90m Int64     \u001b[0m\u001b[90m Int64     \u001b[0m\u001b[90m Int64     \u001b[0m\u001b[90m Int64     \u001b[0m\u001b[90m Int64 \u001b[0m ⋯\n",
       "─────┼──────────────────────────────────────────────────────────────────────────\n",
       "   1 │     0           1.0          1          1          1          1         ⋯\n",
       "\u001b[36m                                                                1 column omitted\u001b[0m)"
      ]
     },
     "execution_count": 4,
     "metadata": {},
     "output_type": "execute_result"
    }
   ],
   "source": [
    "#Initialize Model\n",
    "model=initialize(; Nstarts = 5,\n",
    "        periodic = true,\n",
    "        numagents = 1000,\n",
    "        griddims = (100,100), \n",
    "        p_polym = 1,\n",
    "        p_hyd = 0.02,\n",
    "        p_GTP_exchange = 0.015,\n",
    "        p_depolym_GTP = 0,\n",
    "        p_depolym_GDP = 0.3) \n",
    "\n",
    "#define variable parameters\n",
    "params = Dict(\n",
    "    :numagents => 0:50:5000,\n",
    "    :p_hyd => 0:0.01:1,\n",
    "    :p_depolym_GDP => 0:0.01:1,\n",
    "    :p_GTP_exchange => 0:0.01:1\n",
    ")\n",
    "# aesthetics\n",
    "groupcolor(a) = a.polym == 0 ? :blue : a.id <= model.Nstarts ? :red : :green \n",
    "groupmarker(a) = a.GDP == true ? '●' : '○'\n",
    "# data that will be collected during exploration and plotted in the interactive plot\n",
    "mdata = [mean_MT_size, MT_size_1, MT_size_2, MT_size_3, MT_size_4, MT_size_5]\n",
    "mlabels =[\"mean MT length\", \"MT 1\", \"MT 2\", \"MT 3\", \"MT 4\", \"MT 5\"]\n",
    "\n",
    "fig3, adf, mdf = abm_data_exploration(\n",
    "    model, agent_step!, model_step!, params;\n",
    "    ac = groupcolor, am = groupmarker, mdata, mlabels\n",
    ")"
   ]
  },
  {
   "cell_type": "code",
   "execution_count": 53,
   "id": "f1480037-07de-414b-b4f0-bb7b223c87c8",
   "metadata": {},
   "outputs": [],
   "source": [
    "serialize(\"data/MT size_0.01GTP_0.5depolym_0.02hyd_1000numag_1800 steps.jls\", mdf)"
   ]
  },
  {
   "cell_type": "markdown",
   "id": "c5c170e3",
   "metadata": {},
   "source": [
    "### 3.3 Analysis"
   ]
  },
  {
   "cell_type": "code",
   "execution_count": 16,
   "id": "f3824178",
   "metadata": {},
   "outputs": [
    {
     "data": {
      "text/html": [
       "<div class=\"data-frame\"><p>10,001 rows × 7 columns</p><table class=\"data-frame\"><thead><tr><th></th><th>step</th><th>p_hyd</th><th>mean_MT_size</th><th>sd_MT_size</th><th>free_tubulin</th><th>polym_tubulin</th><th>MT_size_each</th></tr><tr><th></th><th title=\"Int64\">Int64</th><th title=\"Float64\">Float64</th><th title=\"Float64\">Float64</th><th title=\"Float64\">Float64</th><th title=\"Int64\">Int64</th><th title=\"Int64\">Int64</th><th title=\"Vector{Int64}\">Array…</th></tr></thead><tbody><tr><th>1</th><td>0</td><td>0.02</td><td>1.0</td><td>NaN</td><td>999</td><td>1</td><td>[1]</td></tr><tr><th>2</th><td>1</td><td>0.02</td><td>1.0</td><td>NaN</td><td>999</td><td>1</td><td>[1]</td></tr><tr><th>3</th><td>2</td><td>0.02</td><td>1.0</td><td>NaN</td><td>999</td><td>1</td><td>[1]</td></tr><tr><th>4</th><td>3</td><td>0.02</td><td>1.0</td><td>NaN</td><td>999</td><td>1</td><td>[1]</td></tr><tr><th>5</th><td>4</td><td>0.02</td><td>1.0</td><td>NaN</td><td>999</td><td>1</td><td>[1]</td></tr><tr><th>6</th><td>5</td><td>0.02</td><td>1.0</td><td>NaN</td><td>999</td><td>1</td><td>[1]</td></tr><tr><th>7</th><td>6</td><td>0.02</td><td>1.0</td><td>NaN</td><td>999</td><td>1</td><td>[1]</td></tr><tr><th>8</th><td>7</td><td>0.02</td><td>1.0</td><td>NaN</td><td>999</td><td>1</td><td>[1]</td></tr><tr><th>9</th><td>8</td><td>0.02</td><td>1.0</td><td>NaN</td><td>999</td><td>1</td><td>[1]</td></tr><tr><th>10</th><td>9</td><td>0.02</td><td>1.0</td><td>NaN</td><td>999</td><td>1</td><td>[1]</td></tr><tr><th>11</th><td>10</td><td>0.02</td><td>1.0</td><td>NaN</td><td>999</td><td>1</td><td>[1]</td></tr><tr><th>12</th><td>11</td><td>0.02</td><td>1.0</td><td>NaN</td><td>999</td><td>1</td><td>[1]</td></tr><tr><th>13</th><td>12</td><td>0.02</td><td>1.0</td><td>NaN</td><td>999</td><td>1</td><td>[1]</td></tr><tr><th>14</th><td>13</td><td>0.02</td><td>1.0</td><td>NaN</td><td>999</td><td>1</td><td>[1]</td></tr><tr><th>15</th><td>14</td><td>0.02</td><td>1.0</td><td>NaN</td><td>999</td><td>1</td><td>[1]</td></tr><tr><th>16</th><td>15</td><td>0.02</td><td>1.0</td><td>NaN</td><td>999</td><td>1</td><td>[1]</td></tr><tr><th>17</th><td>16</td><td>0.02</td><td>1.0</td><td>NaN</td><td>999</td><td>1</td><td>[1]</td></tr><tr><th>18</th><td>17</td><td>0.02</td><td>1.0</td><td>NaN</td><td>999</td><td>1</td><td>[1]</td></tr><tr><th>19</th><td>18</td><td>0.02</td><td>1.0</td><td>NaN</td><td>999</td><td>1</td><td>[1]</td></tr><tr><th>20</th><td>19</td><td>0.02</td><td>1.0</td><td>NaN</td><td>999</td><td>1</td><td>[1]</td></tr><tr><th>21</th><td>20</td><td>0.02</td><td>1.0</td><td>NaN</td><td>999</td><td>1</td><td>[1]</td></tr><tr><th>22</th><td>21</td><td>0.02</td><td>1.0</td><td>NaN</td><td>999</td><td>1</td><td>[1]</td></tr><tr><th>23</th><td>22</td><td>0.02</td><td>1.0</td><td>NaN</td><td>999</td><td>1</td><td>[1]</td></tr><tr><th>24</th><td>23</td><td>0.02</td><td>1.0</td><td>NaN</td><td>999</td><td>1</td><td>[1]</td></tr><tr><th>25</th><td>24</td><td>0.02</td><td>1.0</td><td>NaN</td><td>999</td><td>1</td><td>[1]</td></tr><tr><th>26</th><td>25</td><td>0.02</td><td>1.0</td><td>NaN</td><td>999</td><td>1</td><td>[1]</td></tr><tr><th>27</th><td>26</td><td>0.02</td><td>1.0</td><td>NaN</td><td>999</td><td>1</td><td>[1]</td></tr><tr><th>28</th><td>27</td><td>0.02</td><td>1.0</td><td>NaN</td><td>999</td><td>1</td><td>[1]</td></tr><tr><th>29</th><td>28</td><td>0.02</td><td>1.0</td><td>NaN</td><td>999</td><td>1</td><td>[1]</td></tr><tr><th>30</th><td>29</td><td>0.02</td><td>1.0</td><td>NaN</td><td>999</td><td>1</td><td>[1]</td></tr><tr><th>&vellip;</th><td>&vellip;</td><td>&vellip;</td><td>&vellip;</td><td>&vellip;</td><td>&vellip;</td><td>&vellip;</td><td>&vellip;</td></tr></tbody></table></div>"
      ],
      "text/latex": [
       "\\begin{tabular}{r|ccccccc}\n",
       "\t& step & p\\_hyd & mean\\_MT\\_size & sd\\_MT\\_size & free\\_tubulin & polym\\_tubulin & MT\\_size\\_each\\\\\n",
       "\t\\hline\n",
       "\t& Int64 & Float64 & Float64 & Float64 & Int64 & Int64 & Array…\\\\\n",
       "\t\\hline\n",
       "\t1 & 0 & 0.02 & 1.0 & NaN & 999 & 1 & [1] \\\\\n",
       "\t2 & 1 & 0.02 & 1.0 & NaN & 999 & 1 & [1] \\\\\n",
       "\t3 & 2 & 0.02 & 1.0 & NaN & 999 & 1 & [1] \\\\\n",
       "\t4 & 3 & 0.02 & 1.0 & NaN & 999 & 1 & [1] \\\\\n",
       "\t5 & 4 & 0.02 & 1.0 & NaN & 999 & 1 & [1] \\\\\n",
       "\t6 & 5 & 0.02 & 1.0 & NaN & 999 & 1 & [1] \\\\\n",
       "\t7 & 6 & 0.02 & 1.0 & NaN & 999 & 1 & [1] \\\\\n",
       "\t8 & 7 & 0.02 & 1.0 & NaN & 999 & 1 & [1] \\\\\n",
       "\t9 & 8 & 0.02 & 1.0 & NaN & 999 & 1 & [1] \\\\\n",
       "\t10 & 9 & 0.02 & 1.0 & NaN & 999 & 1 & [1] \\\\\n",
       "\t11 & 10 & 0.02 & 1.0 & NaN & 999 & 1 & [1] \\\\\n",
       "\t12 & 11 & 0.02 & 1.0 & NaN & 999 & 1 & [1] \\\\\n",
       "\t13 & 12 & 0.02 & 1.0 & NaN & 999 & 1 & [1] \\\\\n",
       "\t14 & 13 & 0.02 & 1.0 & NaN & 999 & 1 & [1] \\\\\n",
       "\t15 & 14 & 0.02 & 1.0 & NaN & 999 & 1 & [1] \\\\\n",
       "\t16 & 15 & 0.02 & 1.0 & NaN & 999 & 1 & [1] \\\\\n",
       "\t17 & 16 & 0.02 & 1.0 & NaN & 999 & 1 & [1] \\\\\n",
       "\t18 & 17 & 0.02 & 1.0 & NaN & 999 & 1 & [1] \\\\\n",
       "\t19 & 18 & 0.02 & 1.0 & NaN & 999 & 1 & [1] \\\\\n",
       "\t20 & 19 & 0.02 & 1.0 & NaN & 999 & 1 & [1] \\\\\n",
       "\t21 & 20 & 0.02 & 1.0 & NaN & 999 & 1 & [1] \\\\\n",
       "\t22 & 21 & 0.02 & 1.0 & NaN & 999 & 1 & [1] \\\\\n",
       "\t23 & 22 & 0.02 & 1.0 & NaN & 999 & 1 & [1] \\\\\n",
       "\t24 & 23 & 0.02 & 1.0 & NaN & 999 & 1 & [1] \\\\\n",
       "\t25 & 24 & 0.02 & 1.0 & NaN & 999 & 1 & [1] \\\\\n",
       "\t26 & 25 & 0.02 & 1.0 & NaN & 999 & 1 & [1] \\\\\n",
       "\t27 & 26 & 0.02 & 1.0 & NaN & 999 & 1 & [1] \\\\\n",
       "\t28 & 27 & 0.02 & 1.0 & NaN & 999 & 1 & [1] \\\\\n",
       "\t29 & 28 & 0.02 & 1.0 & NaN & 999 & 1 & [1] \\\\\n",
       "\t30 & 29 & 0.02 & 1.0 & NaN & 999 & 1 & [1] \\\\\n",
       "\t$\\dots$ & $\\dots$ & $\\dots$ & $\\dots$ & $\\dots$ & $\\dots$ & $\\dots$ & $\\dots$ \\\\\n",
       "\\end{tabular}\n"
      ],
      "text/plain": [
       "\u001b[1m10001×7 DataFrame\u001b[0m\n",
       "\u001b[1m   Row \u001b[0m│\u001b[1m step  \u001b[0m\u001b[1m p_hyd   \u001b[0m\u001b[1m mean_MT_size \u001b[0m\u001b[1m sd_MT_size \u001b[0m\u001b[1m free_tubulin \u001b[0m\u001b[1m polym_tubulin\u001b[0m ⋯\n",
       "\u001b[1m       \u001b[0m│\u001b[90m Int64 \u001b[0m\u001b[90m Float64 \u001b[0m\u001b[90m Float64      \u001b[0m\u001b[90m Float64    \u001b[0m\u001b[90m Int64        \u001b[0m\u001b[90m Int64        \u001b[0m ⋯\n",
       "───────┼────────────────────────────────────────────────────────────────────────\n",
       "     1 │     0     0.02           1.0         NaN           999              1 ⋯\n",
       "     2 │     1     0.02           1.0         NaN           999              1\n",
       "     3 │     2     0.02           1.0         NaN           999              1\n",
       "     4 │     3     0.02           1.0         NaN           999              1\n",
       "     5 │     4     0.02           1.0         NaN           999              1 ⋯\n",
       "     6 │     5     0.02           1.0         NaN           999              1\n",
       "     7 │     6     0.02           1.0         NaN           999              1\n",
       "     8 │     7     0.02           1.0         NaN           999              1\n",
       "     9 │     8     0.02           1.0         NaN           999              1 ⋯\n",
       "    10 │     9     0.02           1.0         NaN           999              1\n",
       "    11 │    10     0.02           1.0         NaN           999              1\n",
       "   ⋮   │   ⋮       ⋮          ⋮            ⋮            ⋮              ⋮       ⋱\n",
       "  9992 │  9991     0.02         100.0         NaN           900            100\n",
       "  9993 │  9992     0.02         100.0         NaN           900            100 ⋯\n",
       "  9994 │  9993     0.02         100.0         NaN           900            100\n",
       "  9995 │  9994     0.02         100.0         NaN           900            100\n",
       "  9996 │  9995     0.02         100.0         NaN           900            100\n",
       "  9997 │  9996     0.02         100.0         NaN           900            100 ⋯\n",
       "  9998 │  9997     0.02         100.0         NaN           900            100\n",
       "  9999 │  9998     0.02         100.0         NaN           900            100\n",
       " 10000 │  9999     0.02         100.0         NaN           900            100\n",
       " 10001 │ 10000     0.02         100.0         NaN           900            100 ⋯\n",
       "\u001b[36m                                                  1 column and 9980 rows omitted\u001b[0m"
      ]
     },
     "execution_count": 16,
     "metadata": {},
     "output_type": "execute_result"
    }
   ],
   "source": [
    "# Initialize vectors for model df and agent df :\n",
    "mdata = [:p_hyd, mean_MT_size, sd_MT_size, free_tubulin, polym_tubulin, MT_size_each]\n",
    "adata = [:pos, :polym, :GDP]\n",
    "\n",
    "# Run the model:\n",
    "data = run!(model, agent_step!, model_step!, 10000; adata, mdata)\n",
    "\n",
    "# Save the data inside ./data\n",
    "serialize(\"data/single_model1.jls\", data)\n",
    "\n",
    "# for convienence:\n",
    "agentdata = data[1]; \n",
    "modeldata = data[2];\n",
    "\n",
    "# show Model Data:\n",
    "modeldata"
   ]
  },
  {
   "cell_type": "markdown",
   "id": "b4cff560-6af5-49ba-88ef-60b30f778ec2",
   "metadata": {},
   "source": [
    "Figure f1 shows MT size over time"
   ]
  },
  {
   "cell_type": "code",
   "execution_count": 38,
   "id": "aceac6de",
   "metadata": {},
   "outputs": [
    {
     "data": {
      "image/png": "[encoded data removed]",
      "text/plain": [
       "Figure()"
      ]
     },
     "execution_count": 38,
     "metadata": {},
     "output_type": "execute_result"
    }
   ],
   "source": [
    "f1 = Figure(resolution =(1200,400))\n",
    "delete!(ax1)\n",
    "ax1 = Axis(f1[1,1]; xlabel = \"Timesteps\", ylabel = \"mean MT size\", title = \"First experiment: MT length over time\")\n",
    "liney = lines!(ax1, modeldata.step, modeldata.mean_MT_size) \n",
    "f1"
   ]
  },
  {
   "cell_type": "markdown",
   "id": "cd3f2e21-080e-4a1a-a136-a85039cb461d",
   "metadata": {},
   "source": [
    "Figure f2 displays number of free tubulin vs polymerized tubulin over time"
   ]
  },
  {
   "cell_type": "code",
   "execution_count": 26,
   "id": "c8ff4928",
   "metadata": {},
   "outputs": [
    {
     "data": {
      "image/png": "[encoded data removed]",
      "text/plain": [
       "Figure()"
      ]
     },
     "execution_count": 26,
     "metadata": {},
     "output_type": "execute_result"
    }
   ],
   "source": [
    "f2 = Figure(resolution = (1200, 400))\n",
    "ax2_1 = Axis(f2[1,1], xlabel = \"Timesteps\", ylabel = \"free tubulin\", ylabelsize = 15, yticklabelcolor = :blue, title = \"Amount of free and polymerized tubulin\")\n",
    "ax2_2 = Axis(f2[1, 1], yticklabelcolor = :green, yaxisposition = :right, ylabel = \"polymerized tubulin\", ylabelsize = 15, ylabelcolor = :green)\n",
    "hidespines!(ax2_2)\n",
    "hidexdecorations!(ax2_2)\n",
    "\n",
    "\n",
    "liney1 = lines!(ax2_1, modeldata.step, modeldata.free_tubulin, color = :blue, label = \"free\")\n",
    "liney2 = lines!(ax2_2, modeldata.step, modeldata.polym_tubulin, color = :green, label = \"polymerized\")\n",
    "\n",
    "Legend(f2[1,2], [liney1, liney2], [\"free\", \"polymerized\"])\n",
    "\n",
    "f2"
   ]
  },
  {
   "cell_type": "markdown",
   "id": "2a8d12ec-0f0a-4c69-8565-f823d17c26d7",
   "metadata": {},
   "source": [
    "### 3.4 Parameter Scan"
   ]
  },
  {
   "cell_type": "code",
   "execution_count": 13,
   "id": "e1d8213a-d0ca-4a78-9e5d-2f2f383c31cb",
   "metadata": {},
   "outputs": [
    {
     "name": "stderr",
     "output_type": "stream",
     "text": [
      "\u001b[32mProgress: 100%|█████████████████████████████████████████| Time: 0:00:48\u001b[39m\n"
     ]
    },
    {
     "data": {
      "text/plain": [
       "(\u001b[1m6×1 DataFrame\u001b[0m\n",
       "\u001b[1m Row \u001b[0m│\u001b[1m p_depolym_GDP \u001b[0m\n",
       "\u001b[1m     \u001b[0m│\u001b[90m Float64       \u001b[0m\n",
       "─────┼───────────────\n",
       "   1 │           0.0\n",
       "   2 │           0.2\n",
       "   3 │           0.4\n",
       "   4 │           0.6\n",
       "   5 │           0.8\n",
       "   6 │           1.0, \u001b[1m60006×4 DataFrame\u001b[0m\n",
       "\u001b[1m   Row \u001b[0m│\u001b[1m step  \u001b[0m\u001b[1m mean_MT_size \u001b[0m\u001b[1m sd_MT_size \u001b[0m\u001b[1m p_depolym_GDP \u001b[0m\n",
       "\u001b[1m       \u001b[0m│\u001b[90m Int64 \u001b[0m\u001b[90m Float64      \u001b[0m\u001b[90m Float64    \u001b[0m\u001b[90m Float64       \u001b[0m\n",
       "───────┼────────────────────────────────────────────────\n",
       "     1 │     0       1.0         0.0                0.0\n",
       "     2 │     1       1.0         0.0                0.0\n",
       "     3 │     2       1.33333     0.57735            0.0\n",
       "     4 │     3       1.66667     0.57735            0.0\n",
       "     5 │     4       1.66667     0.57735            0.0\n",
       "     6 │     5       2.0         1.0                0.0\n",
       "     7 │     6       2.0         1.0                0.0\n",
       "     8 │     7       2.0         1.0                0.0\n",
       "     9 │     8       2.0         1.0                0.0\n",
       "    10 │     9       2.0         1.0                0.0\n",
       "    11 │    10       2.0         1.0                0.0\n",
       "   ⋮   │   ⋮         ⋮            ⋮             ⋮\n",
       " 59997 │  9991       4.33333     4.16333            1.0\n",
       " 59998 │  9992       4.33333     4.16333            1.0\n",
       " 59999 │  9993       4.33333     4.16333            1.0\n",
       " 60000 │  9994       4.33333     4.16333            1.0\n",
       " 60001 │  9995       4.33333     4.16333            1.0\n",
       " 60002 │  9996       4.33333     4.16333            1.0\n",
       " 60003 │  9997       4.33333     4.16333            1.0\n",
       " 60004 │  9998       4.33333     4.16333            1.0\n",
       " 60005 │  9999       4.66667     3.78594            1.0\n",
       " 60006 │ 10000       4.66667     3.78594            1.0\n",
       "\u001b[36m                                      59985 rows omitted\u001b[0m)"
      ]
     },
     "execution_count": 13,
     "metadata": {},
     "output_type": "execute_result"
    }
   ],
   "source": [
    "# Scanning  parameters\n",
    "parameters=Dict(\n",
    "            :griddims => (100,100),\n",
    "            :periodic => true,\n",
    "            :Nstarts => 3,\n",
    "            :numagents => 1000, \n",
    "            :p_hyd => 0.02,                   \n",
    "            :p_polym=> 1 ,    \n",
    "            :p_depolym_GTP => 0,\n",
    "            :p_depolym_GDP => collect([0:0.2:1]...),\n",
    "            :p_GTP_exchange => 0.01\n",
    "    ) \n",
    "\n",
    "# Model Data:\n",
    "# adata = [:pos, :polym, :GDP]\n",
    "mdata = [mean_MT_size, sd_MT_size]\n",
    "mlabels=[\"mean MT length\", \"sd\"]\n",
    "\n",
    "# Run Model \n",
    "_ , paramdata = paramscan(parameters, initialize;  mdata, agent_step!, model_step!, n=10000) # we don't need adata in this case thus _ , paramdata\n",
    "serialize(\"data/paramscan_p_depolym_GDP_2.jls\", paramdata)"
   ]
  },
  {
   "cell_type": "markdown",
   "id": "7166a891-f6a5-457e-8fe5-1ec27b6ed060",
   "metadata": {},
   "source": [
    "### 3.5 Test with growth rates on each MT level"
   ]
  },
  {
   "cell_type": "code",
   "execution_count": null,
   "id": "35d826ca",
   "metadata": {},
   "outputs": [],
   "source": [
    "\n",
    "function MT_size_1(model)\n",
    "    MT_size_1 = count(i->(i==1), [model.agents[i].polym for i in 1:length(model.agents)])\n",
    "end\n",
    "\n",
    "function MT_size_2(model)\n",
    "    MT_size_2 = count(i->(i==2), [model.agents[i].polym for i in 1:length(model.agents)])\n",
    "end\n",
    "\n",
    "function MT_size_3(model)\n",
    "    MT_size_3 = count(i->(i==3), [model.agents[i].polym for i in 1:length(model.agents)])\n",
    "end\n",
    "\n",
    "function MT_size_4(model)\n",
    "    MT_size_4 = count(i->(i==4), [model.agents[i].polym for i in 1:length(model.agents)])\n",
    "end\n",
    "\n",
    "function MT_size_5(model)\n",
    "    MT_size_5 = count(i->(i==5), [model.agents[i].polym for i in 1:length(model.agents)])\n",
    "end"
   ]
  },
  {
   "cell_type": "code",
   "execution_count": 4,
   "id": "bf8c8c39-b46a-4996-afd5-c54b94536671",
   "metadata": {},
   "outputs": [
    {
     "name": "stderr",
     "output_type": "stream",
     "text": [
      "\u001b[32mProgress: 100%|█████████████████████████████████████████| Time: 0:01:12\u001b[39m\n"
     ]
    },
    {
     "data": {
      "text/plain": [
       "(\u001b[1m6×1 DataFrame\u001b[0m\n",
       "\u001b[1m Row \u001b[0m│\u001b[1m p_depolym_GDP \u001b[0m\n",
       "\u001b[1m     \u001b[0m│\u001b[90m Float64       \u001b[0m\n",
       "─────┼───────────────\n",
       "   1 │           0.0\n",
       "   2 │           0.2\n",
       "   3 │           0.4\n",
       "   4 │           0.6\n",
       "   5 │           0.8\n",
       "   6 │           1.0, \u001b[1m60006×4 DataFrame\u001b[0m\n",
       "\u001b[1m   Row \u001b[0m│\u001b[1m step  \u001b[0m\u001b[1m mean_MT_size \u001b[0m\u001b[1m MT_size_each \u001b[0m\u001b[1m p_depolym_GDP \u001b[0m\n",
       "\u001b[1m       \u001b[0m│\u001b[90m Int64 \u001b[0m\u001b[90m Float64      \u001b[0m\u001b[90m Array…       \u001b[0m\u001b[90m Float64       \u001b[0m\n",
       "───────┼──────────────────────────────────────────────────\n",
       "     1 │     0           1.0  [1, 1]                  0.0\n",
       "     2 │     1           1.0  [1, 1]                  0.0\n",
       "     3 │     2           1.5  [1, 2]                  0.0\n",
       "     4 │     3           1.5  [1, 2]                  0.0\n",
       "     5 │     4           1.5  [1, 2]                  0.0\n",
       "     6 │     5           1.5  [1, 2]                  0.0\n",
       "     7 │     6           1.5  [1, 2]                  0.0\n",
       "     8 │     7           1.5  [1, 2]                  0.0\n",
       "     9 │     8           1.5  [1, 2]                  0.0\n",
       "    10 │     9           1.5  [1, 2]                  0.0\n",
       "    11 │    10           1.5  [1, 2]                  0.0\n",
       "   ⋮   │   ⋮         ⋮             ⋮              ⋮\n",
       " 59997 │  9991           7.5  [8, 7]                  1.0\n",
       " 59998 │  9992           8.0  [9, 7]                  1.0\n",
       " 59999 │  9993           8.0  [9, 7]                  1.0\n",
       " 60000 │  9994           8.0  [9, 7]                  1.0\n",
       " 60001 │  9995           8.0  [9, 7]                  1.0\n",
       " 60002 │  9996           8.0  [9, 7]                  1.0\n",
       " 60003 │  9997           8.0  [9, 7]                  1.0\n",
       " 60004 │  9998           8.0  [9, 7]                  1.0\n",
       " 60005 │  9999           8.0  [9, 7]                  1.0\n",
       " 60006 │ 10000           8.5  [10, 7]                 1.0\n",
       "\u001b[36m                                        59985 rows omitted\u001b[0m)"
      ]
     },
     "execution_count": 4,
     "metadata": {},
     "output_type": "execute_result"
    }
   ],
   "source": [
    "parameters=Dict(\n",
    "            :griddims => (100,100),\n",
    "            :periodic => true,\n",
    "            :Nstarts => 2,\n",
    "            :numagents => 1000, \n",
    "            :p_hyd => 0.02,                   \n",
    "            :p_polym=> 1.0 ,    \n",
    "            :p_depolym_GTP => 0.0,\n",
    "            :p_depolym_GDP => collect([0.0:0.2:1.0]...),\n",
    "            :p_GTP_exchange => 0.01\n",
    "    ) \n",
    "\n",
    "# Model Data:\n",
    "# adata = [:pos, :polym, :GDP]\n",
    "mdata = [mean_MT_size, MT_size_each]\n",
    "mlabels=[\"mean MT length\", \"MT_size_each\"]\n",
    "\n",
    "# Run Model \n",
    "_ , paramdata = paramscan(parameters, initialize;  mdata, agent_step!, model_step!, n=10000)"
   ]
  },
  {
   "cell_type": "code",
   "execution_count": 5,
   "id": "a85491aa-bcdf-41b0-8bae-6ee4ab9616e8",
   "metadata": {},
   "outputs": [],
   "source": [
    "serialize(\"data/paramscan_p_depolym_GDP_eachMTsize_test.jls\", paramdata)"
   ]
  },
  {
   "cell_type": "code",
   "execution_count": 2,
   "id": "319a5b30-57a3-466f-ab63-37d85a0c907f",
   "metadata": {
    "tags": []
   },
   "outputs": [
    {
     "data": {
      "text/html": [
       "<div class=\"data-frame\"><p>60,006 rows × 4 columns</p><table class=\"data-frame\"><thead><tr><th></th><th>step</th><th>mean_MT_size</th><th>MT_size_each</th><th>p_depolym_GDP</th></tr><tr><th></th><th title=\"Int64\">Int64</th><th title=\"Float64\">Float64</th><th title=\"Vector{Int64}\">Array…</th><th title=\"Float64\">Float64</th></tr></thead><tbody><tr><th>1</th><td>0</td><td>1.0</td><td>[1, 1]</td><td>0.0</td></tr><tr><th>2</th><td>1</td><td>1.0</td><td>[1, 1]</td><td>0.0</td></tr><tr><th>3</th><td>2</td><td>1.5</td><td>[1, 2]</td><td>0.0</td></tr><tr><th>4</th><td>3</td><td>1.5</td><td>[1, 2]</td><td>0.0</td></tr><tr><th>5</th><td>4</td><td>1.5</td><td>[1, 2]</td><td>0.0</td></tr><tr><th>6</th><td>5</td><td>1.5</td><td>[1, 2]</td><td>0.0</td></tr><tr><th>7</th><td>6</td><td>1.5</td><td>[1, 2]</td><td>0.0</td></tr><tr><th>8</th><td>7</td><td>1.5</td><td>[1, 2]</td><td>0.0</td></tr><tr><th>9</th><td>8</td><td>1.5</td><td>[1, 2]</td><td>0.0</td></tr><tr><th>10</th><td>9</td><td>1.5</td><td>[1, 2]</td><td>0.0</td></tr><tr><th>11</th><td>10</td><td>1.5</td><td>[1, 2]</td><td>0.0</td></tr><tr><th>12</th><td>11</td><td>1.5</td><td>[1, 2]</td><td>0.0</td></tr><tr><th>13</th><td>12</td><td>1.5</td><td>[1, 2]</td><td>0.0</td></tr><tr><th>14</th><td>13</td><td>1.5</td><td>[1, 2]</td><td>0.0</td></tr><tr><th>15</th><td>14</td><td>1.5</td><td>[1, 2]</td><td>0.0</td></tr><tr><th>16</th><td>15</td><td>1.5</td><td>[1, 2]</td><td>0.0</td></tr><tr><th>17</th><td>16</td><td>1.5</td><td>[1, 2]</td><td>0.0</td></tr><tr><th>18</th><td>17</td><td>1.5</td><td>[1, 2]</td><td>0.0</td></tr><tr><th>19</th><td>18</td><td>1.5</td><td>[1, 2]</td><td>0.0</td></tr><tr><th>20</th><td>19</td><td>1.5</td><td>[1, 2]</td><td>0.0</td></tr><tr><th>21</th><td>20</td><td>1.5</td><td>[1, 2]</td><td>0.0</td></tr><tr><th>22</th><td>21</td><td>1.5</td><td>[1, 2]</td><td>0.0</td></tr><tr><th>23</th><td>22</td><td>1.5</td><td>[1, 2]</td><td>0.0</td></tr><tr><th>24</th><td>23</td><td>1.5</td><td>[1, 2]</td><td>0.0</td></tr><tr><th>&vellip;</th><td>&vellip;</td><td>&vellip;</td><td>&vellip;</td><td>&vellip;</td></tr></tbody></table></div>"
      ],
      "text/latex": [
       "\\begin{tabular}{r|cccc}\n",
       "\t& step & mean\\_MT\\_size & MT\\_size\\_each & p\\_depolym\\_GDP\\\\\n",
       "\t\\hline\n",
       "\t& Int64 & Float64 & Array… & Float64\\\\\n",
       "\t\\hline\n",
       "\t1 & 0 & 1.0 & [1, 1] & 0.0 \\\\\n",
       "\t2 & 1 & 1.0 & [1, 1] & 0.0 \\\\\n",
       "\t3 & 2 & 1.5 & [1, 2] & 0.0 \\\\\n",
       "\t4 & 3 & 1.5 & [1, 2] & 0.0 \\\\\n",
       "\t5 & 4 & 1.5 & [1, 2] & 0.0 \\\\\n",
       "\t6 & 5 & 1.5 & [1, 2] & 0.0 \\\\\n",
       "\t7 & 6 & 1.5 & [1, 2] & 0.0 \\\\\n",
       "\t8 & 7 & 1.5 & [1, 2] & 0.0 \\\\\n",
       "\t9 & 8 & 1.5 & [1, 2] & 0.0 \\\\\n",
       "\t10 & 9 & 1.5 & [1, 2] & 0.0 \\\\\n",
       "\t11 & 10 & 1.5 & [1, 2] & 0.0 \\\\\n",
       "\t12 & 11 & 1.5 & [1, 2] & 0.0 \\\\\n",
       "\t13 & 12 & 1.5 & [1, 2] & 0.0 \\\\\n",
       "\t14 & 13 & 1.5 & [1, 2] & 0.0 \\\\\n",
       "\t15 & 14 & 1.5 & [1, 2] & 0.0 \\\\\n",
       "\t16 & 15 & 1.5 & [1, 2] & 0.0 \\\\\n",
       "\t17 & 16 & 1.5 & [1, 2] & 0.0 \\\\\n",
       "\t18 & 17 & 1.5 & [1, 2] & 0.0 \\\\\n",
       "\t19 & 18 & 1.5 & [1, 2] & 0.0 \\\\\n",
       "\t20 & 19 & 1.5 & [1, 2] & 0.0 \\\\\n",
       "\t21 & 20 & 1.5 & [1, 2] & 0.0 \\\\\n",
       "\t22 & 21 & 1.5 & [1, 2] & 0.0 \\\\\n",
       "\t23 & 22 & 1.5 & [1, 2] & 0.0 \\\\\n",
       "\t24 & 23 & 1.5 & [1, 2] & 0.0 \\\\\n",
       "\t$\\dots$ & $\\dots$ & $\\dots$ & $\\dots$ & $\\dots$ \\\\\n",
       "\\end{tabular}\n"
      ],
      "text/plain": [
       "\u001b[1m60006×4 DataFrame\u001b[0m\n",
       "\u001b[1m   Row \u001b[0m│\u001b[1m step  \u001b[0m\u001b[1m mean_MT_size \u001b[0m\u001b[1m MT_size_each \u001b[0m\u001b[1m p_depolym_GDP \u001b[0m\n",
       "\u001b[1m       \u001b[0m│\u001b[90m Int64 \u001b[0m\u001b[90m Float64      \u001b[0m\u001b[90m Array…       \u001b[0m\u001b[90m Float64       \u001b[0m\n",
       "───────┼──────────────────────────────────────────────────\n",
       "     1 │     0           1.0  [1, 1]                  0.0\n",
       "     2 │     1           1.0  [1, 1]                  0.0\n",
       "     3 │     2           1.5  [1, 2]                  0.0\n",
       "     4 │     3           1.5  [1, 2]                  0.0\n",
       "     5 │     4           1.5  [1, 2]                  0.0\n",
       "     6 │     5           1.5  [1, 2]                  0.0\n",
       "     7 │     6           1.5  [1, 2]                  0.0\n",
       "     8 │     7           1.5  [1, 2]                  0.0\n",
       "   ⋮   │   ⋮         ⋮             ⋮              ⋮\n",
       " 60000 │  9994           8.0  [9, 7]                  1.0\n",
       " 60001 │  9995           8.0  [9, 7]                  1.0\n",
       " 60002 │  9996           8.0  [9, 7]                  1.0\n",
       " 60003 │  9997           8.0  [9, 7]                  1.0\n",
       " 60004 │  9998           8.0  [9, 7]                  1.0\n",
       " 60005 │  9999           8.0  [9, 7]                  1.0\n",
       " 60006 │ 10000           8.5  [10, 7]                 1.0\n",
       "\u001b[36m                                        59991 rows omitted\u001b[0m"
      ]
     },
     "metadata": {},
     "output_type": "display_data"
    }
   ],
   "source": [
    "data = deserialize(\"data/paramscan_p_depolym_GDP_eachMTsize_test.jls\")"
   ]
  },
  {
   "cell_type": "markdown",
   "id": "0ac20f91",
   "metadata": {},
   "source": [
    "### 3.6 Experiment: Single MT growth to analyze catastrophes\n",
    "First try in this notebook. This topic was later continued in a separate notebook called \"Analysis 08 - Growth Rate\""
   ]
  },
  {
   "cell_type": "code",
   "execution_count": 17,
   "id": "7aa6f14c-9175-411e-90f0-622d2d18e48d",
   "metadata": {},
   "outputs": [
    {
     "name": "stderr",
     "output_type": "stream",
     "text": [
      "\u001b[32mProgress: 100%|█████████████████████████████████████████| Time: 0:01:08\u001b[39m\n"
     ]
    },
    {
     "data": {
      "text/plain": [
       "(\u001b[1m6×1 DataFrame\u001b[0m\n",
       "\u001b[1m Row \u001b[0m│\u001b[1m p_depolym_GDP \u001b[0m\n",
       "\u001b[1m     \u001b[0m│\u001b[90m Float64       \u001b[0m\n",
       "─────┼───────────────\n",
       "   1 │           0.0\n",
       "   2 │           0.2\n",
       "   3 │           0.4\n",
       "   4 │           0.6\n",
       "   5 │           0.8\n",
       "   6 │           1.0, \u001b[1m60006×3 DataFrame\u001b[0m\n",
       "\u001b[1m   Row \u001b[0m│\u001b[1m step  \u001b[0m\u001b[1m mean_MT_size \u001b[0m\u001b[1m p_depolym_GDP \u001b[0m\n",
       "\u001b[1m       \u001b[0m│\u001b[90m Int64 \u001b[0m\u001b[90m Float64      \u001b[0m\u001b[90m Float64       \u001b[0m\n",
       "───────┼────────────────────────────────────\n",
       "     1 │     0           1.0            0.0\n",
       "     2 │     1           1.0            0.0\n",
       "     3 │     2           1.0            0.0\n",
       "     4 │     3           1.0            0.0\n",
       "     5 │     4           2.0            0.0\n",
       "     6 │     5           2.0            0.0\n",
       "     7 │     6           2.0            0.0\n",
       "     8 │     7           2.0            0.0\n",
       "     9 │     8           2.0            0.0\n",
       "    10 │     9           2.0            0.0\n",
       "    11 │    10           2.0            0.0\n",
       "   ⋮   │   ⋮         ⋮              ⋮\n",
       " 59997 │  9991          23.0            1.0\n",
       " 59998 │  9992          23.0            1.0\n",
       " 59999 │  9993          23.0            1.0\n",
       " 60000 │  9994          23.0            1.0\n",
       " 60001 │  9995          23.0            1.0\n",
       " 60002 │  9996          23.0            1.0\n",
       " 60003 │  9997          23.0            1.0\n",
       " 60004 │  9998          23.0            1.0\n",
       " 60005 │  9999          23.0            1.0\n",
       " 60006 │ 10000          23.0            1.0\n",
       "\u001b[36m                          59985 rows omitted\u001b[0m)"
      ]
     },
     "execution_count": 17,
     "metadata": {},
     "output_type": "execute_result"
    }
   ],
   "source": [
    "parameters=Dict(\n",
    "            :griddims => (100,100),\n",
    "            :periodic => true,\n",
    "            :Nstarts => 1,\n",
    "            :numagents => 1000, \n",
    "            :p_hyd => 0.02,                   \n",
    "            :p_polym=> 1.0 ,    \n",
    "            :p_depolym_GTP => 0.0,\n",
    "            :p_depolym_GDP => collect([0.0:0.2:1.0]...),\n",
    "            :p_GTP_exchange => 0.01\n",
    "    ) \n",
    "\n",
    "# Model Data:\n",
    "# adata = [:pos, :polym, :GDP]\n",
    "mdata = [mean_MT_size]\n",
    "mlabels=[\"mean MT length\"]\n",
    "\n",
    "# Run Model \n",
    "_ , paramdata = paramscan(parameters, initialize;  mdata, agent_step!, model_step!, n=10000)"
   ]
  },
  {
   "cell_type": "code",
   "execution_count": 18,
   "id": "3a2c0749-e081-4246-8849-f14a590e5a56",
   "metadata": {},
   "outputs": [],
   "source": [
    "serialize(\"data/paramscan_p_depolym_GDP_oneMTsize_test.jls\", paramdata)"
   ]
  },
  {
   "cell_type": "code",
   "execution_count": 5,
   "id": "373981fa-29f1-44af-9507-faa3440db15d",
   "metadata": {
    "tags": []
   },
   "outputs": [
    {
     "data": {
      "text/html": [
       "<div class=\"data-frame\"><p>60,006 rows × 3 columns</p><table class=\"data-frame\"><thead><tr><th></th><th>step</th><th>mean_MT_size</th><th>p_depolym_GDP</th></tr><tr><th></th><th title=\"Int64\">Int64</th><th title=\"Float64\">Float64</th><th title=\"Float64\">Float64</th></tr></thead><tbody><tr><th>1</th><td>0</td><td>1.0</td><td>0.0</td></tr><tr><th>2</th><td>1</td><td>1.0</td><td>0.0</td></tr><tr><th>3</th><td>2</td><td>1.0</td><td>0.0</td></tr><tr><th>4</th><td>3</td><td>1.0</td><td>0.0</td></tr><tr><th>5</th><td>4</td><td>2.0</td><td>0.0</td></tr><tr><th>6</th><td>5</td><td>2.0</td><td>0.0</td></tr><tr><th>7</th><td>6</td><td>2.0</td><td>0.0</td></tr><tr><th>8</th><td>7</td><td>2.0</td><td>0.0</td></tr><tr><th>9</th><td>8</td><td>2.0</td><td>0.0</td></tr><tr><th>10</th><td>9</td><td>2.0</td><td>0.0</td></tr><tr><th>11</th><td>10</td><td>2.0</td><td>0.0</td></tr><tr><th>12</th><td>11</td><td>2.0</td><td>0.0</td></tr><tr><th>13</th><td>12</td><td>3.0</td><td>0.0</td></tr><tr><th>14</th><td>13</td><td>3.0</td><td>0.0</td></tr><tr><th>15</th><td>14</td><td>3.0</td><td>0.0</td></tr><tr><th>16</th><td>15</td><td>3.0</td><td>0.0</td></tr><tr><th>17</th><td>16</td><td>3.0</td><td>0.0</td></tr><tr><th>18</th><td>17</td><td>3.0</td><td>0.0</td></tr><tr><th>19</th><td>18</td><td>3.0</td><td>0.0</td></tr><tr><th>20</th><td>19</td><td>3.0</td><td>0.0</td></tr><tr><th>21</th><td>20</td><td>3.0</td><td>0.0</td></tr><tr><th>22</th><td>21</td><td>3.0</td><td>0.0</td></tr><tr><th>23</th><td>22</td><td>3.0</td><td>0.0</td></tr><tr><th>24</th><td>23</td><td>3.0</td><td>0.0</td></tr><tr><th>&vellip;</th><td>&vellip;</td><td>&vellip;</td><td>&vellip;</td></tr></tbody></table></div>"
      ],
      "text/latex": [
       "\\begin{tabular}{r|ccc}\n",
       "\t& step & mean\\_MT\\_size & p\\_depolym\\_GDP\\\\\n",
       "\t\\hline\n",
       "\t& Int64 & Float64 & Float64\\\\\n",
       "\t\\hline\n",
       "\t1 & 0 & 1.0 & 0.0 \\\\\n",
       "\t2 & 1 & 1.0 & 0.0 \\\\\n",
       "\t3 & 2 & 1.0 & 0.0 \\\\\n",
       "\t4 & 3 & 1.0 & 0.0 \\\\\n",
       "\t5 & 4 & 2.0 & 0.0 \\\\\n",
       "\t6 & 5 & 2.0 & 0.0 \\\\\n",
       "\t7 & 6 & 2.0 & 0.0 \\\\\n",
       "\t8 & 7 & 2.0 & 0.0 \\\\\n",
       "\t9 & 8 & 2.0 & 0.0 \\\\\n",
       "\t10 & 9 & 2.0 & 0.0 \\\\\n",
       "\t11 & 10 & 2.0 & 0.0 \\\\\n",
       "\t12 & 11 & 2.0 & 0.0 \\\\\n",
       "\t13 & 12 & 3.0 & 0.0 \\\\\n",
       "\t14 & 13 & 3.0 & 0.0 \\\\\n",
       "\t15 & 14 & 3.0 & 0.0 \\\\\n",
       "\t16 & 15 & 3.0 & 0.0 \\\\\n",
       "\t17 & 16 & 3.0 & 0.0 \\\\\n",
       "\t18 & 17 & 3.0 & 0.0 \\\\\n",
       "\t19 & 18 & 3.0 & 0.0 \\\\\n",
       "\t20 & 19 & 3.0 & 0.0 \\\\\n",
       "\t21 & 20 & 3.0 & 0.0 \\\\\n",
       "\t22 & 21 & 3.0 & 0.0 \\\\\n",
       "\t23 & 22 & 3.0 & 0.0 \\\\\n",
       "\t24 & 23 & 3.0 & 0.0 \\\\\n",
       "\t$\\dots$ & $\\dots$ & $\\dots$ & $\\dots$ \\\\\n",
       "\\end{tabular}\n"
      ],
      "text/plain": [
       "\u001b[1m60006×3 DataFrame\u001b[0m\n",
       "\u001b[1m   Row \u001b[0m│\u001b[1m step  \u001b[0m\u001b[1m mean_MT_size \u001b[0m\u001b[1m p_depolym_GDP \u001b[0m\n",
       "\u001b[1m       \u001b[0m│\u001b[90m Int64 \u001b[0m\u001b[90m Float64      \u001b[0m\u001b[90m Float64       \u001b[0m\n",
       "───────┼────────────────────────────────────\n",
       "     1 │     0           1.0            0.0\n",
       "     2 │     1           1.0            0.0\n",
       "     3 │     2           1.0            0.0\n",
       "     4 │     3           1.0            0.0\n",
       "     5 │     4           2.0            0.0\n",
       "     6 │     5           2.0            0.0\n",
       "     7 │     6           2.0            0.0\n",
       "     8 │     7           2.0            0.0\n",
       "   ⋮   │   ⋮         ⋮              ⋮\n",
       " 60000 │  9994          23.0            1.0\n",
       " 60001 │  9995          23.0            1.0\n",
       " 60002 │  9996          23.0            1.0\n",
       " 60003 │  9997          23.0            1.0\n",
       " 60004 │  9998          23.0            1.0\n",
       " 60005 │  9999          23.0            1.0\n",
       " 60006 │ 10000          23.0            1.0\n",
       "\u001b[36m                          59991 rows omitted\u001b[0m"
      ]
     },
     "metadata": {},
     "output_type": "display_data"
    }
   ],
   "source": [
    "data = deserialize(\"data/paramscan_p_depolym_GDP_oneMTsize_test.jls\")"
   ]
  },
  {
   "cell_type": "code",
   "execution_count": 6,
   "id": "ee7a2bae-693f-4a4f-a947-c812273e37f8",
   "metadata": {},
   "outputs": [
    {
     "data": {
      "text/plain": [
       "growth_rate! (generic function with 1 method)"
      ]
     },
     "metadata": {},
     "output_type": "display_data"
    }
   ],
   "source": [
    "function growth_rate!(df) \n",
    "    df.growthrate = zeros(nrow(df))\n",
    "    for n in 2:nrow(df)\n",
    "        if df.step[n] == 0\n",
    "            df.growthrate[n]=0\n",
    "        elseif df.step[n]>0\n",
    "            df.growthrate[n]= df[n,:mean_MT_size]-df[n-1,:mean_MT_size]\n",
    "        end\n",
    "    end\n",
    "end"
   ]
  },
  {
   "cell_type": "code",
   "execution_count": 7,
   "id": "2318d843-835e-45c8-ae38-53e0e624ab13",
   "metadata": {},
   "outputs": [
    {
     "data": {
      "text/html": [
       "<div class=\"data-frame\"><p>60,006 rows × 4 columns</p><table class=\"data-frame\"><thead><tr><th></th><th>step</th><th>mean_MT_size</th><th>p_depolym_GDP</th><th>growthrate</th></tr><tr><th></th><th title=\"Int64\">Int64</th><th title=\"Float64\">Float64</th><th title=\"Float64\">Float64</th><th title=\"Float64\">Float64</th></tr></thead><tbody><tr><th>1</th><td>0</td><td>1.0</td><td>0.0</td><td>0.0</td></tr><tr><th>2</th><td>1</td><td>1.0</td><td>0.0</td><td>0.0</td></tr><tr><th>3</th><td>2</td><td>1.0</td><td>0.0</td><td>0.0</td></tr><tr><th>4</th><td>3</td><td>1.0</td><td>0.0</td><td>0.0</td></tr><tr><th>5</th><td>4</td><td>2.0</td><td>0.0</td><td>1.0</td></tr><tr><th>6</th><td>5</td><td>2.0</td><td>0.0</td><td>0.0</td></tr><tr><th>7</th><td>6</td><td>2.0</td><td>0.0</td><td>0.0</td></tr><tr><th>8</th><td>7</td><td>2.0</td><td>0.0</td><td>0.0</td></tr><tr><th>9</th><td>8</td><td>2.0</td><td>0.0</td><td>0.0</td></tr><tr><th>10</th><td>9</td><td>2.0</td><td>0.0</td><td>0.0</td></tr><tr><th>11</th><td>10</td><td>2.0</td><td>0.0</td><td>0.0</td></tr><tr><th>12</th><td>11</td><td>2.0</td><td>0.0</td><td>0.0</td></tr><tr><th>13</th><td>12</td><td>3.0</td><td>0.0</td><td>1.0</td></tr><tr><th>14</th><td>13</td><td>3.0</td><td>0.0</td><td>0.0</td></tr><tr><th>15</th><td>14</td><td>3.0</td><td>0.0</td><td>0.0</td></tr><tr><th>16</th><td>15</td><td>3.0</td><td>0.0</td><td>0.0</td></tr><tr><th>17</th><td>16</td><td>3.0</td><td>0.0</td><td>0.0</td></tr><tr><th>18</th><td>17</td><td>3.0</td><td>0.0</td><td>0.0</td></tr><tr><th>19</th><td>18</td><td>3.0</td><td>0.0</td><td>0.0</td></tr><tr><th>20</th><td>19</td><td>3.0</td><td>0.0</td><td>0.0</td></tr><tr><th>21</th><td>20</td><td>3.0</td><td>0.0</td><td>0.0</td></tr><tr><th>22</th><td>21</td><td>3.0</td><td>0.0</td><td>0.0</td></tr><tr><th>23</th><td>22</td><td>3.0</td><td>0.0</td><td>0.0</td></tr><tr><th>24</th><td>23</td><td>3.0</td><td>0.0</td><td>0.0</td></tr><tr><th>&vellip;</th><td>&vellip;</td><td>&vellip;</td><td>&vellip;</td><td>&vellip;</td></tr></tbody></table></div>"
      ],
      "text/latex": [
       "\\begin{tabular}{r|cccc}\n",
       "\t& step & mean\\_MT\\_size & p\\_depolym\\_GDP & growthrate\\\\\n",
       "\t\\hline\n",
       "\t& Int64 & Float64 & Float64 & Float64\\\\\n",
       "\t\\hline\n",
       "\t1 & 0 & 1.0 & 0.0 & 0.0 \\\\\n",
       "\t2 & 1 & 1.0 & 0.0 & 0.0 \\\\\n",
       "\t3 & 2 & 1.0 & 0.0 & 0.0 \\\\\n",
       "\t4 & 3 & 1.0 & 0.0 & 0.0 \\\\\n",
       "\t5 & 4 & 2.0 & 0.0 & 1.0 \\\\\n",
       "\t6 & 5 & 2.0 & 0.0 & 0.0 \\\\\n",
       "\t7 & 6 & 2.0 & 0.0 & 0.0 \\\\\n",
       "\t8 & 7 & 2.0 & 0.0 & 0.0 \\\\\n",
       "\t9 & 8 & 2.0 & 0.0 & 0.0 \\\\\n",
       "\t10 & 9 & 2.0 & 0.0 & 0.0 \\\\\n",
       "\t11 & 10 & 2.0 & 0.0 & 0.0 \\\\\n",
       "\t12 & 11 & 2.0 & 0.0 & 0.0 \\\\\n",
       "\t13 & 12 & 3.0 & 0.0 & 1.0 \\\\\n",
       "\t14 & 13 & 3.0 & 0.0 & 0.0 \\\\\n",
       "\t15 & 14 & 3.0 & 0.0 & 0.0 \\\\\n",
       "\t16 & 15 & 3.0 & 0.0 & 0.0 \\\\\n",
       "\t17 & 16 & 3.0 & 0.0 & 0.0 \\\\\n",
       "\t18 & 17 & 3.0 & 0.0 & 0.0 \\\\\n",
       "\t19 & 18 & 3.0 & 0.0 & 0.0 \\\\\n",
       "\t20 & 19 & 3.0 & 0.0 & 0.0 \\\\\n",
       "\t21 & 20 & 3.0 & 0.0 & 0.0 \\\\\n",
       "\t22 & 21 & 3.0 & 0.0 & 0.0 \\\\\n",
       "\t23 & 22 & 3.0 & 0.0 & 0.0 \\\\\n",
       "\t24 & 23 & 3.0 & 0.0 & 0.0 \\\\\n",
       "\t$\\dots$ & $\\dots$ & $\\dots$ & $\\dots$ & $\\dots$ \\\\\n",
       "\\end{tabular}\n"
      ],
      "text/plain": [
       "\u001b[1m60006×4 DataFrame\u001b[0m\n",
       "\u001b[1m   Row \u001b[0m│\u001b[1m step  \u001b[0m\u001b[1m mean_MT_size \u001b[0m\u001b[1m p_depolym_GDP \u001b[0m\u001b[1m growthrate \u001b[0m\n",
       "\u001b[1m       \u001b[0m│\u001b[90m Int64 \u001b[0m\u001b[90m Float64      \u001b[0m\u001b[90m Float64       \u001b[0m\u001b[90m Float64    \u001b[0m\n",
       "───────┼────────────────────────────────────────────────\n",
       "     1 │     0           1.0            0.0         0.0\n",
       "     2 │     1           1.0            0.0         0.0\n",
       "     3 │     2           1.0            0.0         0.0\n",
       "     4 │     3           1.0            0.0         0.0\n",
       "     5 │     4           2.0            0.0         1.0\n",
       "     6 │     5           2.0            0.0         0.0\n",
       "     7 │     6           2.0            0.0         0.0\n",
       "     8 │     7           2.0            0.0         0.0\n",
       "   ⋮   │   ⋮         ⋮              ⋮            ⋮\n",
       " 60000 │  9994          23.0            1.0         0.0\n",
       " 60001 │  9995          23.0            1.0         0.0\n",
       " 60002 │  9996          23.0            1.0         0.0\n",
       " 60003 │  9997          23.0            1.0         0.0\n",
       " 60004 │  9998          23.0            1.0         0.0\n",
       " 60005 │  9999          23.0            1.0         0.0\n",
       " 60006 │ 10000          23.0            1.0         0.0\n",
       "\u001b[36m                                      59991 rows omitted\u001b[0m"
      ]
     },
     "metadata": {},
     "output_type": "display_data"
    }
   ],
   "source": [
    "growth_rate!(data)\n",
    "data"
   ]
  },
  {
   "cell_type": "markdown",
   "id": "bae7f71c",
   "metadata": {},
   "source": [
    "#### MT Length over time"
   ]
  },
  {
   "cell_type": "code",
   "execution_count": 49,
   "id": "1f430e0c-0a39-4066-b4ec-43b7a8518156",
   "metadata": {},
   "outputs": [],
   "source": [
    "f1 = Figure(resolution =(1200, 600))\n",
    "ax1_1 = Axis(f1[1,1]; xlabel = \"Timesteps\", ylabel = \"MT size\", title = \"MT size over time\", yticks=LinearTicks(10))\n",
    "#ax1_2 = Axis(f1[2,1]; xlabel = \"Timesteps\", ylabel = \"MT growth rate\", title = \"MT growth rate over time\")\n",
    "\n",
    "range = collect(0.0:0.2:1.0)\n",
    "\n",
    "\n",
    "for (i,v) in enumerate(range)\n",
    "    sub_df = @subset(data, :p_depolym_GDP .== v)\n",
    "    lines!(ax1_1, sub_df.step, sub_df.mean_MT_size, label = \"$v\", color = co.tab10[i])\n",
    "    #lines!(ax1_2, sub_df.step, sub_df.growthrate, label = \"$v\", color = co.tab10[i])\n",
    "end \n",
    "for i in collect(0:200:10000)\n",
    "    vlines!(ax1_1, i, color = :black)\n",
    "end\n",
    "\n",
    "\n",
    "legend = Legend(f1[2,1], ax1_1, \"p_depolym_GDP\", orientation = :horizontal, tellwidth = false, tellheight = true)\n",
    "f1"
   ]
  },
  {
   "cell_type": "markdown",
   "id": "747e2a26",
   "metadata": {},
   "source": [
    "#### Counting number of +1, -1 and 0 in 250 step sections for p_depolym_GDP = 0.4"
   ]
  },
  {
   "cell_type": "code",
   "execution_count": 14,
   "id": "f1a94214",
   "metadata": {},
   "outputs": [],
   "source": [
    "#count number of +1, -1 and 0 in each 250 step section\n",
    "sub_df_04 = @subset(data, :p_depolym_GDP .== 0.4)\n",
    "sub_df_04.growthclass = zeros(nrow(sub_df_04))\n",
    "\n",
    "for i in collect(1:250:9751)\n",
    "    section = collect(i:i+249)\n",
    "    count_plus = count(x -> (x == 1.0), sub_df_04.growthrate[section])\n",
    "    count_minus = count(x -> (x == -1.0), sub_df_04.growthrate[section])\n",
    "    count_equal = count(x -> (x == 0.0), sub_df_04.growthrate[section])\n",
    "    growthclass = count_minus >= 20 ? -1.0 : count_plus >= 3 ? 1.0 : 0.0\n",
    "\n",
    "    for n in section\n",
    "        sub_df_04.growthclass[n] = growthclass\n",
    "    end\n",
    "end"
   ]
  },
  {
   "cell_type": "code",
   "execution_count": 34,
   "id": "5d628c84",
   "metadata": {},
   "outputs": [
    {
     "name": "stdout",
     "output_type": "stream",
     "text": [
      "0.5749425057494251\n",
      "0.42495750424957507\n",
      "1\n"
     ]
    }
   ],
   "source": [
    "count_plus = count(x -> (x == 1.0), sub_df_04.growthclass)\n",
    "count_minus = count(x -> (x == -1.0), sub_df_04.growthclass)\n",
    "count_equal = count(x -> (x == 0.0), sub_df_04.growthclass)\n",
    "println(count_plus/10001)\n",
    "println(count_minus/10001)\n",
    "println(count_equal)"
   ]
  },
  {
   "cell_type": "code",
   "execution_count": 40,
   "id": "ee809a04",
   "metadata": {},
   "outputs": [],
   "source": [
    "#plot growthclass + MT length\n",
    "\n",
    "f1_2 = Figure(resolution =(1200, 800))\n",
    "ax1_2 = Axis(f1_2[1,1:2]; xlabel = \"Timesteps\", ylabel = \"MT size\", title = \"MT size over time (p_depolym_GDP = 0.4)\", yticks=LinearTicks(10))\n",
    "ax1_2_2 = Axis(f1_2[2,1]; title = \"Pie Chart\", autolimitaspect = 1)\n",
    "hidedecorations!(ax1_2_2)\n",
    "\n",
    "for i in collect(1:250:9751)\n",
    "    vlines!(ax1_2, i, color = (:black, 0.5))\n",
    "end\n",
    "\n",
    "for i in collect(1:250:9751)\n",
    "    if sub_df_04.growthclass[i] == -1.0\n",
    "        vspan!(ax1_2, i, i+249, color = (:red, 0.5), label = \"catastrophe\")\n",
    "    elseif sub_df_04.growthclass[i] == 1.0\n",
    "        vspan!(ax1_2, i, i+249, color = (:green, 0.5), label = \"growth\")\n",
    "    end\n",
    "end\n",
    "\n",
    "\n",
    "lines!(ax1_2, sub_df_04.step, sub_df_04.mean_MT_size, label = \"MT length\", color = :black)\n",
    "pie!(ax1_2_2, [count_plus, count_minus], color = [:green, :red])\n",
    "\n",
    "legend = Legend(f1_2[2,2], ax1_2, tellwidth = false, tellheight = false, merge = true)\n",
    "axislegend(ax1_2_2, [PolyElement(color = :green), PolyElement(color = :red)], [\"57.5%\", \"42.5%\"])\n",
    "f1_2"
   ]
  },
  {
   "cell_type": "markdown",
   "id": "92d467e3",
   "metadata": {},
   "source": [
    "#### Counting number of +1, -1 and 0 in 250 step sections for p_depolym_GDP = 0.8"
   ]
  },
  {
   "cell_type": "code",
   "execution_count": 42,
   "id": "2501c8ca",
   "metadata": {},
   "outputs": [
    {
     "name": "stdout",
     "output_type": "stream",
     "text": [
      "79.20792079207921\n",
      "19.801980198019802\n",
      "1\n"
     ]
    }
   ],
   "source": [
    "#count number of +1, -1 and 0 in each 200 step section\n",
    "sub_df_08 = @subset(data, :p_depolym_GDP .== 0.8)\n",
    "sub_df_08.growthclass = zeros(nrow(sub_df_08))\n",
    "\n",
    "for i in collect(1:250:9751)\n",
    "    section = collect(i:i+249)\n",
    "    count_plus = count(x -> (x == 1.0), sub_df_08.growthrate[section])\n",
    "    count_minus = count(x -> (x == -1.0), sub_df_08.growthrate[section])\n",
    "    count_equal = count(x -> (x == 0.0), sub_df_08.growthrate[section])\n",
    "    growthclass = count_minus >= 20 ? -1.0 : count_plus >= 3 ? 1.0 : 0.0\n",
    "\n",
    "    for n in section\n",
    "        sub_df_08.growthclass[n] = growthclass\n",
    "    end\n",
    "end\n",
    "count_plus = count(x -> (x == 1.0), sub_df_08.growthclass)\n",
    "count_minus = count(x -> (x == -1.0), sub_df_08.growthclass)\n",
    "count_equal = count(x -> (x == 0.0), sub_df_08.growthclass)\n",
    "println(count_plus/101)\n",
    "println(count_minus/101)\n",
    "println(count_equal)"
   ]
  },
  {
   "cell_type": "code",
   "execution_count": 47,
   "id": "382d05e8",
   "metadata": {},
   "outputs": [],
   "source": [
    "#plot growthclass + MT length\n",
    "\n",
    "f1_3 = Figure(resolution =(1200, 800))\n",
    "ax1_3 = Axis(f1_3[1,1:2]; xlabel = \"Timesteps\", ylabel = \"MT size\", title = \"MT size over time (p_depolym_GDP = 0.8)\", yticks=LinearTicks(10))\n",
    "ax1_3_2 = Axis(f1_3[2,1]; title = \"Pie Chart\", autolimitaspect = 1)\n",
    "hidedecorations!(ax1_3_2)\n",
    "\n",
    "for i in collect(1:250:9751)\n",
    "    vlines!(ax1_3, i, color = (:black, 0.5))\n",
    "end\n",
    "\n",
    "for i in collect(1:250:9751)\n",
    "    if sub_df_08.growthclass[i] == -1.0\n",
    "        vspan!(ax1_3, i, i+249, color = (:red, 0.5), label = \"catastrophe\")\n",
    "    elseif sub_df_08.growthclass[i] == 1.0\n",
    "        vspan!(ax1_3, i, i+249, color = (:green, 0.5), label = \"growth\")\n",
    "    end\n",
    "end\n",
    "\n",
    "\n",
    "lines!(ax1_3, sub_df_08.step, sub_df_08.mean_MT_size, label = \"MT length\", color = :black)\n",
    "pie!(ax1_3_2, [count_plus, count_minus], color = [:green, :red])\n",
    "\n",
    "legend = Legend(f1_3[2,2], ax1_3, tellwidth = false, tellheight = false, merge = true)\n",
    "axislegend(ax1_3_2, [PolyElement(color = :green), PolyElement(color = :red)], [\"$(round(count_plus/101))%\", \"$(round(count_minus/101))%\"])\n",
    "\n",
    "f1_3"
   ]
  },
  {
   "cell_type": "markdown",
   "id": "92d467e3",
   "metadata": {},
   "source": [
    "#### Counting number of +1, -1 and 0 in 250 step sections for p_depolym_GDP = 0.2"
   ]
  },
  {
   "cell_type": "code",
   "execution_count": 50,
   "id": "2501c8ca",
   "metadata": {},
   "outputs": [
    {
     "name": "stdout",
     "output_type": "stream",
     "text": [
      "64.35643564356435\n",
      "9.900990099009901\n",
      "2501\n"
     ]
    }
   ],
   "source": [
    "#count number of +1, -1 and 0 in each 200 step section\n",
    "sub_df_02 = @subset(data, :p_depolym_GDP .== 0.2)\n",
    "sub_df_02.growthclass = zeros(nrow(sub_df_02))\n",
    "\n",
    "for i in collect(1:250:9751)\n",
    "    section = collect(i:i+249)\n",
    "    count_plus = count(x -> (x == 1.0), sub_df_02.growthrate[section])\n",
    "    count_minus = count(x -> (x == -1.0), sub_df_02.growthrate[section])\n",
    "    count_equal = count(x -> (x == 0.0), sub_df_02.growthrate[section])\n",
    "    growthclass = count_minus >= 20 ? -1.0 : count_plus >= 3 ? 1.0 : 0.0\n",
    "\n",
    "    for n in section\n",
    "        sub_df_02.growthclass[n] = growthclass\n",
    "    end\n",
    "end\n",
    "count_plus = count(x -> (x == 1.0), sub_df_02.growthclass)\n",
    "count_minus = count(x -> (x == -1.0), sub_df_02.growthclass)\n",
    "count_equal = count(x -> (x == 0.0), sub_df_02.growthclass)\n",
    "println(count_plus/101)\n",
    "println(count_minus/101)\n",
    "println(count_equal)"
   ]
  },
  {
   "cell_type": "code",
   "execution_count": 53,
   "id": "382d05e8",
   "metadata": {},
   "outputs": [],
   "source": [
    "#plot growthclass + MT length\n",
    "\n",
    "f1_3 = Figure(resolution =(1200, 800))\n",
    "ax1_3 = Axis(f1_3[1,1:2]; xlabel = \"Timesteps\", ylabel = \"MT size\", title = \"MT size over time (p_depolym_GDP = 0.2)\", yticks=LinearTicks(10))\n",
    "ax1_3_2 = Axis(f1_3[2,1]; title = \"Pie Chart\", autolimitaspect = 1)\n",
    "hidedecorations!(ax1_3_2)\n",
    "\n",
    "for i in collect(1:250:9751)\n",
    "    vlines!(ax1_3, i, color = (:black, 0.5))\n",
    "end\n",
    "\n",
    "for i in collect(1:250:9751)\n",
    "    if sub_df_02.growthclass[i] == -1.0\n",
    "        vspan!(ax1_3, i, i+249, color = (:red, 0.5), label = \"catastrophe\")\n",
    "    elseif sub_df_02.growthclass[i] == 1.0\n",
    "        vspan!(ax1_3, i, i+249, color = (:green, 0.5), label = \"growth\")\n",
    "    end\n",
    "end\n",
    "\n",
    "\n",
    "lines!(ax1_3, sub_df_02.step, sub_df_02.mean_MT_size, label = \"MT length\", color = :black)\n",
    "pie!(ax1_3_2, [count_plus, count_minus, count_equal], color = [:green, :red, :grey])\n",
    "\n",
    "legend = Legend(f1_3[2,2], ax1_3, tellwidth = false, tellheight = false, merge = true)\n",
    "axislegend(ax1_3_2, [PolyElement(color = :green), PolyElement(color = :red)], [\"$(round(count_plus/101))%\", \"$(round(count_minus/101))%\"])\n",
    "\n",
    "f1_3"
   ]
  },
  {
   "cell_type": "code",
   "execution_count": null,
   "id": "bf5d3697",
   "metadata": {},
   "outputs": [],
   "source": []
  },
  {
   "cell_type": "markdown",
   "id": "92d467e3",
   "metadata": {},
   "source": [
    "#### Counting number of +1, -1 and 0 in 250 step sections for p_depolym_GDP = 0.6"
   ]
  },
  {
   "cell_type": "code",
   "execution_count": 56,
   "id": "2501c8ca",
   "metadata": {},
   "outputs": [
    {
     "name": "stdout",
     "output_type": "stream",
     "text": [
      "74.25742574257426\n",
      "24.752475247524753\n",
      "1\n"
     ]
    }
   ],
   "source": [
    "#count number of +1, -1 and 0 in each 200 step section\n",
    "sub_df_06 = @subset(data, :p_depolym_GDP .== 0.6)\n",
    "sub_df_06.growthclass = zeros(nrow(sub_df_06))\n",
    "\n",
    "for i in collect(1:250:9751)\n",
    "    section = collect(i:i+249)\n",
    "    count_plus = count(x -> (x == 1.0), sub_df_06.growthrate[section])\n",
    "    count_minus = count(x -> (x == -1.0), sub_df_06.growthrate[section])\n",
    "    count_equal = count(x -> (x == 0.0), sub_df_06.growthrate[section])\n",
    "    growthclass = count_minus >= 20 ? -1.0 : count_plus >= 3 ? 1.0 : 0.0\n",
    "\n",
    "    for n in section\n",
    "        sub_df_06.growthclass[n] = growthclass\n",
    "    end\n",
    "end\n",
    "count_plus = count(x -> (x == 1.0), sub_df_06.growthclass)\n",
    "count_minus = count(x -> (x == -1.0), sub_df_06.growthclass)\n",
    "count_equal = count(x -> (x == 0.0), sub_df_06.growthclass)\n",
    "println(count_plus/101)\n",
    "println(count_minus/101)\n",
    "println(count_equal)"
   ]
  },
  {
   "cell_type": "code",
   "execution_count": 57,
   "id": "382d05e8",
   "metadata": {},
   "outputs": [],
   "source": [
    "#plot growthclass + MT length\n",
    "\n",
    "f1_3 = Figure(resolution =(1200, 800))\n",
    "ax1_3 = Axis(f1_3[1,1:2]; xlabel = \"Timesteps\", ylabel = \"MT size\", title = \"MT size over time (p_depolym_GDP = 0.6)\", yticks=LinearTicks(10))\n",
    "ax1_3_2 = Axis(f1_3[2,1]; title = \"Pie Chart\", autolimitaspect = 1)\n",
    "hidedecorations!(ax1_3_2)\n",
    "\n",
    "for i in collect(1:250:9751)\n",
    "    vlines!(ax1_3, i, color = (:black, 0.5))\n",
    "end\n",
    "\n",
    "for i in collect(1:250:9751)\n",
    "    if sub_df_06.growthclass[i] == -1.0\n",
    "        vspan!(ax1_3, i, i+249, color = (:red, 0.5), label = \"catastrophe\")\n",
    "    elseif sub_df_06.growthclass[i] == 1.0\n",
    "        vspan!(ax1_3, i, i+249, color = (:green, 0.5), label = \"growth\")\n",
    "    end\n",
    "end\n",
    "\n",
    "\n",
    "lines!(ax1_3, sub_df_06.step, sub_df_06.mean_MT_size, label = \"MT length\", color = :black)\n",
    "pie!(ax1_3_2, [count_plus, count_minus, count_equal], color = [:green, :red, :grey])\n",
    "\n",
    "legend = Legend(f1_3[2,2], ax1_3, tellwidth = false, tellheight = false, merge = true)\n",
    "axislegend(ax1_3_2, [PolyElement(color = :green), PolyElement(color = :red)], [\"$(round(count_plus/101))%\", \"$(round(count_minus/101))%\"])\n",
    "\n",
    "f1_3"
   ]
  },
  {
   "cell_type": "code",
   "execution_count": null,
   "id": "f847f985",
   "metadata": {},
   "outputs": [],
   "source": []
  }
 ],
 "metadata": {
  "kernelspec": {
   "display_name": "Julia 1.7.1",
   "language": "julia",
   "name": "julia-1.7"
  },
  "language_info": {
   "file_extension": ".jl",
   "mimetype": "application/julia",
   "name": "julia",
   "version": "1.7.1"
  }
 },
 "nbformat": 4,
 "nbformat_minor": 5
}
