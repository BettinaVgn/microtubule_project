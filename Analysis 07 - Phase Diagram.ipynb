{
 "cells": [
  {
   "cell_type": "markdown",
   "id": "a52f7db7-17f3-4997-aca8-01b7346cdf7e",
   "metadata": {
    "tags": []
   },
   "source": [
    "# Analysis / Plotting - Notebook 07 - p_depolym_GDP and p_hyd\n",
    "Author: Bettina Vignolo\n",
    "\n",
    "This notebook was created to perform several smaller experiments with the microtubule model and analyze the results. It focuses on ```p_depolym_GDP and p_hyd``` and how these parameter influence MT length and each other\n"
   ]
  },
  {
   "cell_type": "code",
   "execution_count": 1,
   "id": "6ded767a-42f3-4ac3-94dc-9acf6c6bf5bf",
   "metadata": {},
   "outputs": [
    {
     "data": {
      "text/plain": [
       "MT_size_each (generic function with 1 method)"
      ]
     },
     "metadata": {},
     "output_type": "display_data"
    }
   ],
   "source": [
    "# load Packages:\n",
    "using Agents\n",
    "using Statistics\n",
    "using DataFrames\n",
    "using Distributions\n",
    "using StatsBase\n",
    "using DrWatson: @dict\n",
    "using Serialization\n",
    "using InteractiveDynamics\n",
    "using GLMakie\n",
    "import ColorSchemes as co\n",
    "using DataFramesMeta\n",
    "\n",
    "# load Functions:\n",
    "include(\"01_Agent.jl\")\n",
    "include(\"02_Initialization.jl\")\n",
    "include(\"03_AgentStep.jl\")\n",
    "include(\"04_ModelStep.jl\")\n",
    "include(\"05_Analysis.jl\")"
   ]
  },
  {
   "cell_type": "code",
   "execution_count": 1,
   "id": "d5f86efe",
   "metadata": {},
   "outputs": [],
   "source": [
    "#for parallelization\n",
    "using Distributed\n",
    "addprocs(8)\n",
    "\n",
    "@everywhere begin\n",
    "    # load Packages:\n",
    "    using Agents\n",
    "    using Statistics\n",
    "    using DataFrames\n",
    "    using Distributions\n",
    "    using StatsBase\n",
    "    using DrWatson: @dict\n",
    "    using Serialization\n",
    "    using InteractiveDynamics\n",
    "    using GLMakie\n",
    "    import ColorSchemes as co\n",
    "    using DataFramesMeta\n",
    "\n",
    "    # load Functions:\n",
    "    include(\"01_Agent.jl\")\n",
    "    include(\"02_Initialization.jl\")\n",
    "    include(\"03_AgentStep.jl\")\n",
    "    include(\"04_ModelStep.jl\")\n",
    "    include(\"05_Analysis.jl\")\n",
    "end    "
   ]
  },
  {
   "cell_type": "markdown",
   "id": "01ab87bc-59a5-49c4-ab60-a252981c9166",
   "metadata": {},
   "source": [
    "### 1.1 p_depolym_GDP = 1.0 (10 Ensemble + 100k steps)\n",
    "runtime 21 min"
   ]
  },
  {
   "cell_type": "code",
   "execution_count": 2,
   "id": "3417f99d-f4ac-41df-b8a4-e36f3e1d73dc",
   "metadata": {
    "tags": []
   },
   "outputs": [],
   "source": [
    "@everywhere begin\n",
    "models = [initialize(;\n",
    "        Nstarts = 4,\n",
    "        periodic = true,\n",
    "        numagents = 1000,\n",
    "        griddims = (100,100), \n",
    "        p_polym = 1.0,\n",
    "        p_hyd = x,\n",
    "        p_GTP_exchange = 0.01,\n",
    "        p_depolym_GTP = 0.0,\n",
    "        p_depolym_GDP = 1.0)  \n",
    "    for x in repeat([0.012, 0.018, 0.03], 10)]\n",
    "\n",
    "mdata = [mean_MT_size, (:p_hyd)]\n",
    "mlabels = [\"mean MT length\", \"p_hyd\"]\n",
    "end\n",
    "\n",
    "data_ens = ensemblerun!(models, agent_step!, model_step!, 100000; mdata, parallel = true)\n",
    "serialize(\"data/paramscan_1_0p_depolym_GDP_10ensemble_100kSteps.jls\", data_ens[2])"
   ]
  },
  {
   "cell_type": "markdown",
   "id": "5edd49b5",
   "metadata": {},
   "source": [
    "additional p_hyd = 0.006"
   ]
  },
  {
   "cell_type": "code",
   "execution_count": 25,
   "id": "63c82c90",
   "metadata": {},
   "outputs": [],
   "source": [
    "@everywhere begin\n",
    "    models = [initialize(;\n",
    "            Nstarts = 4,\n",
    "            periodic = true,\n",
    "            numagents = 1000,\n",
    "            griddims = (100,100), \n",
    "            p_polym = 1.0,\n",
    "            p_hyd = x,\n",
    "            p_GTP_exchange = 0.01,\n",
    "            p_depolym_GTP = 0.0,\n",
    "            p_depolym_GDP = 1.0)  \n",
    "        for x in repeat([0.006], 10)]\n",
    "    \n",
    "    mdata = [mean_MT_size, (:p_hyd)]\n",
    "    mlabels = [\"mean MT length\", \"p_hyd\"]\n",
    "    end\n",
    "    \n",
    "    data_ens = ensemblerun!(models, agent_step!, model_step!, 100000; mdata, parallel = true)\n",
    "    serialize(\"data/paramscan_1_0p_depolym_GDP_10ensemble_100kSteps_additional_0_006p_hyd.jls\", data_ens[2])"
   ]
  },
  {
   "cell_type": "code",
   "execution_count": 3,
   "id": "dd992db4-f293-4ec5-95e6-6a0c7229d574",
   "metadata": {},
   "outputs": [],
   "source": [
    "data1_1 = deserialize(\"data/paramscan_1_0p_depolym_GDP_10ensemble_100kSteps.jls\")\n",
    "gdf = groupby(data1_1, [:step, :p_hyd]) #@subset(data1_1, :ensemble .!= 14)\n",
    "sum_1_1 = combine(gdf, [:mean_MT_size] .=> [mean]);"
   ]
  },
  {
   "cell_type": "code",
   "execution_count": 5,
   "id": "84ca929c-9425-46ab-b185-c737b288e371",
   "metadata": {},
   "outputs": [],
   "source": [
    "#MT length over time\n",
    "f1_6 = Figure(resolution =(1200, 600))\n",
    "ax1_6 = Axis(f1_6[1,1]; xlabel = \"Timesteps\", ylabel = \"MT size\", title = \"Mean MT length over time (10x ensemble) - excluded ensemble 14\")\n",
    "range = [0.012, 0.018, 0.03]\n",
    "\n",
    "for (i,v) in enumerate(range)\n",
    "    sub_data = @subset(sum_1_1, :p_hyd .== v)\n",
    "    lines!(ax1_6, sub_data.step, sub_data.mean_MT_size_mean, label = \"$v\", color = co.tab20[i])\n",
    "end\n",
    "\n",
    "\n",
    "Legend(f1_6[2,1], ax1_6, \"p_hyd\", orientation = :horizontal, tellwidth = false, tellheight = true)\n",
    "\n",
    "f1_6"
   ]
  },
  {
   "cell_type": "markdown",
   "id": "01ab87bc-59a5-49c4-ab60-a252981c9166",
   "metadata": {},
   "source": [
    "### 1.2 p_depolym_GDP = 0.7 (10 Ensemble + 100k steps)\n",
    "runtime 28 min"
   ]
  },
  {
   "cell_type": "code",
   "execution_count": 6,
   "id": "3417f99d-f4ac-41df-b8a4-e36f3e1d73dc",
   "metadata": {
    "tags": []
   },
   "outputs": [],
   "source": [
    "@everywhere begin\n",
    "models = [initialize(;\n",
    "        Nstarts = 4,\n",
    "        periodic = true,\n",
    "        numagents = 1000,\n",
    "        griddims = (100,100), \n",
    "        p_polym = 1.0,\n",
    "        p_hyd = x,\n",
    "        p_GTP_exchange = 0.01,\n",
    "        p_depolym_GTP = 0.0,\n",
    "        p_depolym_GDP = 0.7)  \n",
    "    for x in repeat([0.006, 0.012, 0.018, 0.03], 10)]\n",
    "\n",
    "mdata = [mean_MT_size, (:p_hyd)]\n",
    "mlabels = [\"mean MT length\", \"p_hyd\"]\n",
    "end\n",
    "\n",
    "data_ens = ensemblerun!(models, agent_step!, model_step!, 100000; mdata, parallel = true)\n",
    "serialize(\"data/paramscan_0_7p_depolym_GDP_10ensemble_100kSteps.jls\", data_ens[2])"
   ]
  },
  {
   "cell_type": "code",
   "execution_count": 10,
   "id": "06dc76c2",
   "metadata": {},
   "outputs": [
    {
     "data": {
      "text/html": [
       "<div class=\"data-frame\"><p>10 rows × 4 columns</p><table class=\"data-frame\"><thead><tr><th></th><th>step</th><th>mean_MT_size</th><th>p_hyd</th><th>ensemble</th></tr><tr><th></th><th title=\"Int64\">Int64</th><th title=\"Float64\">Float64</th><th title=\"Float64\">Float64</th><th title=\"Int64\">Int64</th></tr></thead><tbody><tr><th>1</th><td>50000</td><td>100.0</td><td>0.006</td><td>1</td></tr><tr><th>2</th><td>50000</td><td>100.0</td><td>0.006</td><td>5</td></tr><tr><th>3</th><td>50000</td><td>75.0</td><td>0.006</td><td>9</td></tr><tr><th>4</th><td>50000</td><td>100.0</td><td>0.006</td><td>13</td></tr><tr><th>5</th><td>50000</td><td>100.0</td><td>0.006</td><td>17</td></tr><tr><th>6</th><td>50000</td><td>100.0</td><td>0.006</td><td>21</td></tr><tr><th>7</th><td>50000</td><td>100.0</td><td>0.006</td><td>25</td></tr><tr><th>8</th><td>50000</td><td>100.0</td><td>0.006</td><td>29</td></tr><tr><th>9</th><td>50000</td><td>75.0</td><td>0.006</td><td>33</td></tr><tr><th>10</th><td>50000</td><td>100.0</td><td>0.006</td><td>37</td></tr></tbody></table></div>"
      ],
      "text/latex": [
       "\\begin{tabular}{r|cccc}\n",
       "\t& step & mean\\_MT\\_size & p\\_hyd & ensemble\\\\\n",
       "\t\\hline\n",
       "\t& Int64 & Float64 & Float64 & Int64\\\\\n",
       "\t\\hline\n",
       "\t1 & 50000 & 100.0 & 0.006 & 1 \\\\\n",
       "\t2 & 50000 & 100.0 & 0.006 & 5 \\\\\n",
       "\t3 & 50000 & 75.0 & 0.006 & 9 \\\\\n",
       "\t4 & 50000 & 100.0 & 0.006 & 13 \\\\\n",
       "\t5 & 50000 & 100.0 & 0.006 & 17 \\\\\n",
       "\t6 & 50000 & 100.0 & 0.006 & 21 \\\\\n",
       "\t7 & 50000 & 100.0 & 0.006 & 25 \\\\\n",
       "\t8 & 50000 & 100.0 & 0.006 & 29 \\\\\n",
       "\t9 & 50000 & 75.0 & 0.006 & 33 \\\\\n",
       "\t10 & 50000 & 100.0 & 0.006 & 37 \\\\\n",
       "\\end{tabular}\n"
      ],
      "text/plain": [
       "\u001b[1m10×4 DataFrame\u001b[0m\n",
       "\u001b[1m Row \u001b[0m│\u001b[1m step  \u001b[0m\u001b[1m mean_MT_size \u001b[0m\u001b[1m p_hyd   \u001b[0m\u001b[1m ensemble \u001b[0m\n",
       "\u001b[1m     \u001b[0m│\u001b[90m Int64 \u001b[0m\u001b[90m Float64      \u001b[0m\u001b[90m Float64 \u001b[0m\u001b[90m Int64    \u001b[0m\n",
       "─────┼────────────────────────────────────────\n",
       "   1 │ 50000         100.0    0.006         1\n",
       "   2 │ 50000         100.0    0.006         5\n",
       "   3 │ 50000          75.0    0.006         9\n",
       "   4 │ 50000         100.0    0.006        13\n",
       "   5 │ 50000         100.0    0.006        17\n",
       "   6 │ 50000         100.0    0.006        21\n",
       "   7 │ 50000         100.0    0.006        25\n",
       "   8 │ 50000         100.0    0.006        29\n",
       "   9 │ 50000          75.0    0.006        33\n",
       "  10 │ 50000         100.0    0.006        37"
      ]
     },
     "metadata": {},
     "output_type": "display_data"
    }
   ],
   "source": [
    "@subset(data_07, :p_hyd .==0.006, :step .== 50000)"
   ]
  },
  {
   "cell_type": "markdown",
   "id": "01ab87bc-59a5-49c4-ab60-a252981c9166",
   "metadata": {},
   "source": [
    "### 1.3 p_depolym_GDP = 0.2 (10 Ensemble + 100k steps)\n",
    "runtime 28 min"
   ]
  },
  {
   "cell_type": "code",
   "execution_count": 7,
   "id": "3417f99d-f4ac-41df-b8a4-e36f3e1d73dc",
   "metadata": {
    "tags": []
   },
   "outputs": [],
   "source": [
    "@everywhere begin\n",
    "models = [initialize(;\n",
    "        Nstarts = 4,\n",
    "        periodic = true,\n",
    "        numagents = 1000,\n",
    "        griddims = (100,100), \n",
    "        p_polym = 1.0,\n",
    "        p_hyd = x,\n",
    "        p_GTP_exchange = 0.01,\n",
    "        p_depolym_GTP = 0.0,\n",
    "        p_depolym_GDP = 0.2)  \n",
    "    for x in repeat([0.006, 0.012, 0.018, 0.03], 10)]\n",
    "\n",
    "mdata = [mean_MT_size, (:p_hyd)]\n",
    "mlabels = [\"mean MT length\", \"p_hyd\"]\n",
    "end\n",
    "\n",
    "data_ens = ensemblerun!(models, agent_step!, model_step!, 100000; mdata, parallel = true)\n",
    "serialize(\"data/paramscan_0_2p_depolym_GDP_10ensemble_100kSteps.jls\", data_ens[2])"
   ]
  },
  {
   "cell_type": "markdown",
   "id": "01ab87bc-59a5-49c4-ab60-a252981c9166",
   "metadata": {},
   "source": [
    "### 1.4 p_depolym_GDP = 0.5 (10 Ensemble + 100k steps)\n"
   ]
  },
  {
   "cell_type": "code",
   "execution_count": null,
   "id": "63ced1bf",
   "metadata": {},
   "outputs": [],
   "source": [
    "#from \"Analysis 02_p_hyd\" Notebook:\n",
    "deserialize(\"data/paramscan_10ensemble_p_hyd_100kSteps.jls\")"
   ]
  },
  {
   "cell_type": "markdown",
   "id": "b13bf725",
   "metadata": {},
   "source": [
    "### 1.5 p_hyd = 0.024 (10 Ensemble + 100k steps)"
   ]
  },
  {
   "cell_type": "code",
   "execution_count": null,
   "id": "0f791ea9",
   "metadata": {},
   "outputs": [],
   "source": [
    "#from \"Analysis 01_p_depolym_GDP\" Notebook:\n",
    "deserialize(\"data/paramscan_p_depolym_GDP_10ensemble_100k_Steps_4Nstarts_0_024_phyd.jls\")"
   ]
  },
  {
   "cell_type": "markdown",
   "id": "01ab87bc-59a5-49c4-ab60-a252981c9166",
   "metadata": {},
   "source": [
    "### 1.6 p_depolym_GDP = 0.4 (10 Ensemble + 100k steps)\n",
    "runtime 28 min"
   ]
  },
  {
   "cell_type": "code",
   "execution_count": 2,
   "id": "3417f99d-f4ac-41df-b8a4-e36f3e1d73dc",
   "metadata": {
    "tags": []
   },
   "outputs": [],
   "source": [
    "@everywhere begin\n",
    "models = [initialize(;\n",
    "        Nstarts = 4,\n",
    "        periodic = true,\n",
    "        numagents = 1000,\n",
    "        griddims = (100,100), \n",
    "        p_polym = 1.0,\n",
    "        p_hyd = x,\n",
    "        p_GTP_exchange = 0.01,\n",
    "        p_depolym_GTP = 0.0,\n",
    "        p_depolym_GDP = 0.4)  \n",
    "    for x in repeat([0.006, 0.012, 0.018, 0.03], 10)]\n",
    "\n",
    "mdata = [mean_MT_size, (:p_hyd)]\n",
    "end\n",
    "data_ens = ensemblerun!(models, agent_step!, model_step!, 100000; mdata, parallel = true)\n",
    "serialize(\"data/paramscan_0_4p_depolym_GDP_10ensemble_100kSteps.jls\", data_ens[2])"
   ]
  },
  {
   "cell_type": "markdown",
   "id": "01ab87bc-59a5-49c4-ab60-a252981c9166",
   "metadata": {},
   "source": [
    "### 1.7 p_depolym_GDP = 0.6 (10 Ensemble + 100k steps)\n",
    "runtime 28 min"
   ]
  },
  {
   "cell_type": "code",
   "execution_count": 3,
   "id": "3417f99d-f4ac-41df-b8a4-e36f3e1d73dc",
   "metadata": {
    "tags": []
   },
   "outputs": [],
   "source": [
    "@everywhere begin\n",
    "models = [initialize(;\n",
    "        Nstarts = 4,\n",
    "        periodic = true,\n",
    "        numagents = 1000,\n",
    "        griddims = (100,100), \n",
    "        p_polym = 1.0,\n",
    "        p_hyd = x,\n",
    "        p_GTP_exchange = 0.01,\n",
    "        p_depolym_GTP = 0.0,\n",
    "        p_depolym_GDP = 0.6)  \n",
    "    for x in repeat([0.006, 0.012, 0.018, 0.03], 10)]\n",
    "mdata = [mean_MT_size, (:p_hyd)]\n",
    "end\n",
    "data_ens = ensemblerun!(models, agent_step!, model_step!, 100000; mdata, parallel = true)\n",
    "serialize(\"data/paramscan_0_6p_depolym_GDP_10ensemble_100kSteps.jls\", data_ens[2])"
   ]
  },
  {
   "cell_type": "markdown",
   "id": "01ab87bc-59a5-49c4-ab60-a252981c9166",
   "metadata": {},
   "source": [
    "### 1.8 p_depolym_GDP = 0.8 (10 Ensemble + 100k steps)\n",
    "runtime 28 min"
   ]
  },
  {
   "cell_type": "code",
   "execution_count": 4,
   "id": "3417f99d-f4ac-41df-b8a4-e36f3e1d73dc",
   "metadata": {
    "tags": []
   },
   "outputs": [],
   "source": [
    "@everywhere begin\n",
    "models = [initialize(;\n",
    "        Nstarts = 4,\n",
    "        periodic = true,\n",
    "        numagents = 1000,\n",
    "        griddims = (100,100), \n",
    "        p_polym = 1.0,\n",
    "        p_hyd = x,\n",
    "        p_GTP_exchange = 0.01,\n",
    "        p_depolym_GTP = 0.0,\n",
    "        p_depolym_GDP = 0.8)  \n",
    "    for x in repeat([0.006, 0.012, 0.018, 0.03], 10)]\n",
    "\n",
    "mdata = [mean_MT_size, (:p_hyd)]\n",
    "mlabels = [\"mean MT length\", \"p_hyd\"]\n",
    "end\n",
    "\n",
    "data_ens = ensemblerun!(models, agent_step!, model_step!, 100000; mdata, parallel = true)\n",
    "serialize(\"data/paramscan_0_8p_depolym_GDP_10ensemble_100kSteps.jls\", data_ens[2])"
   ]
  },
  {
   "cell_type": "markdown",
   "id": "01ab87bc-59a5-49c4-ab60-a252981c9166",
   "metadata": {},
   "source": [
    "### 1.9 p_depolym_GDP = 0.3 (10 Ensemble + 100k steps)\n",
    "runtime 28 min"
   ]
  },
  {
   "cell_type": "code",
   "execution_count": 2,
   "id": "3417f99d-f4ac-41df-b8a4-e36f3e1d73dc",
   "metadata": {
    "tags": []
   },
   "outputs": [],
   "source": [
    "@everywhere begin\n",
    "models = [initialize(;\n",
    "        Nstarts = 4,\n",
    "        periodic = true,\n",
    "        numagents = 1000,\n",
    "        griddims = (100,100), \n",
    "        p_polym = 1.0,\n",
    "        p_hyd = x,\n",
    "        p_GTP_exchange = 0.01,\n",
    "        p_depolym_GTP = 0.0,\n",
    "        p_depolym_GDP = 0.3)  \n",
    "    for x in repeat([0.006, 0.012, 0.018, 0.03], 10)]\n",
    "\n",
    "mdata = [mean_MT_size, (:p_hyd)]\n",
    "mlabels = [\"mean MT length\", \"p_hyd\"]\n",
    "end\n",
    "\n",
    "data_ens = ensemblerun!(models, agent_step!, model_step!, 100000; mdata, parallel = true)\n",
    "serialize(\"data/paramscan_0_3p_depolym_GDP_10ensemble_100kSteps.jls\", data_ens[2])"
   ]
  },
  {
   "cell_type": "markdown",
   "id": "01ab87bc-59a5-49c4-ab60-a252981c9166",
   "metadata": {},
   "source": [
    "### 1.10 p_depolym_GDP = 0.9 (10 Ensemble + 100k steps)\n",
    "runtime 28 min"
   ]
  },
  {
   "cell_type": "code",
   "execution_count": 3,
   "id": "3417f99d-f4ac-41df-b8a4-e36f3e1d73dc",
   "metadata": {
    "tags": []
   },
   "outputs": [],
   "source": [
    "@everywhere begin\n",
    "models = [initialize(;\n",
    "        Nstarts = 4,\n",
    "        periodic = true,\n",
    "        numagents = 1000,\n",
    "        griddims = (100,100), \n",
    "        p_polym = 1.0,\n",
    "        p_hyd = x,\n",
    "        p_GTP_exchange = 0.01,\n",
    "        p_depolym_GTP = 0.0,\n",
    "        p_depolym_GDP = 0.9)  \n",
    "    for x in repeat([0.006, 0.012, 0.018, 0.03], 10)]\n",
    "\n",
    "mdata = [mean_MT_size, (:p_hyd)]\n",
    "mlabels = [\"mean MT length\", \"p_hyd\"]\n",
    "end\n",
    "\n",
    "data_ens = ensemblerun!(models, agent_step!, model_step!, 100000; mdata, parallel = true)\n",
    "serialize(\"data/paramscan_0_9p_depolym_GDP_10ensemble_100kSteps.jls\", data_ens[2])"
   ]
  },
  {
   "cell_type": "markdown",
   "id": "2305fafc",
   "metadata": {},
   "source": [
    "### 2.1 Join all data and plot them"
   ]
  },
  {
   "cell_type": "code",
   "execution_count": 10,
   "id": "f4ecf350",
   "metadata": {},
   "outputs": [],
   "source": [
    "#p_depolym_GDP = 0.2; p_hyd = [0.006, 0.012, 0.018, 0.03]\n",
    "data_02 = deserialize(\"data/paramscan_0_2p_depolym_GDP_10ensemble_100kSteps.jls\")\n",
    "sum_02 = combine(groupby(data_02, [:step, :p_hyd]), [:mean_MT_size] .=> [mean])\n",
    "\n",
    "#p_depolym_GDP = 0.3; p_hyd = [0.006, 0.012, 0.018, 0.03]\n",
    "data_03 = deserialize(\"data/paramscan_0_3p_depolym_GDP_10ensemble_100kSteps.jls\")\n",
    "sum_03 = combine(groupby(data_03, [:step, :p_hyd]), [:mean_MT_size] .=> [mean])\n",
    "\n",
    "#p_depolym_GDP = 0.4; p_hyd = [0.006, 0.012, 0.018, 0.03]\n",
    "data_04 = deserialize(\"data/paramscan_0_4p_depolym_GDP_10ensemble_100kSteps.jls\")\n",
    "sum_04 = combine(groupby(data_04, [:step, :p_hyd]), [:mean_MT_size] .=> [mean])\n",
    "\n",
    "#p_depolym_GDP = 0.5; p_hyd = [0.006, 0.012, 0.018, 0.03]\n",
    "data_05 = deserialize(\"data/paramscan_10ensemble_p_hyd_100kSteps.jls\")\n",
    "sum_05 = combine(groupby(data_05, [:step, :p_hyd]), [:mean_MT_size] .=> [mean])\n",
    "\n",
    "#p_depolym_GDP = 0.6; p_hyd = [0.006, 0.012, 0.018, 0.03]\n",
    "data_06 = deserialize(\"data/paramscan_0_6p_depolym_GDP_10ensemble_100kSteps.jls\")\n",
    "sum_06 = combine(groupby(data_06, [:step, :p_hyd]), [:mean_MT_size] .=> [mean])\n",
    "\n",
    "#p_depolym_GDP = 0.7; p_hyd = [0.006, 0.012, 0.018, 0.03]\n",
    "data_07 = deserialize(\"data/paramscan_0_7p_depolym_GDP_10ensemble_100kSteps.jls\")\n",
    "sum_07 = combine(groupby(@subset(data_07, :ensemble .!= 9, :ensemble .!= 33), [:step, :p_hyd]), [:mean_MT_size] .=> [mean])\n",
    "\n",
    "#p_depolym_GDP = 0.8; p_hyd = [0.006, 0.012, 0.018, 0.03]\n",
    "data_08 = deserialize(\"data/paramscan_0_8p_depolym_GDP_10ensemble_100kSteps.jls\")\n",
    "sum_08 = combine(groupby(data_08, [:step, :p_hyd]), [:mean_MT_size] .=> [mean])\n",
    "\n",
    "#p_depolym_GDP = 0.9; p_hyd = [0.006, 0.012, 0.018, 0.03]\n",
    "data_09 = deserialize(\"data/paramscan_0_9p_depolym_GDP_10ensemble_100kSteps.jls\")\n",
    "sum_09 = combine(groupby(data_09, [:step, :p_hyd]), [:mean_MT_size] .=> [mean])\n",
    "\n",
    "#p_depolym_GDP = 1.0; p_hyd = [0.006, 0.012, 0.018, 0.03]\n",
    "data_10_1 = deserialize(\"data/paramscan_1_0p_depolym_GDP_10ensemble_100kSteps_additional_0_006p_hyd.jls\")\n",
    "data_10_2 = deserialize(\"data/paramscan_1_0p_depolym_GDP_10ensemble_100kSteps.jls\")\n",
    "data_10 = append!(data_10_1, data_10_2)\n",
    "sum_10 = combine(groupby(data_10, [:step, :p_hyd]), [:mean_MT_size] .=> [mean]) \n",
    "\n",
    "#p_depolym_GDP = [0.2, 0.4, 0.5, 0.6, 0.7, 0.8, 1.0]; p_hyd = 0.024\n",
    "data_0024 = deserialize(\"data/paramscan_p_depolym_GDP_10ensemble_100k_Steps_4Nstarts_0_024_phyd.jls\")\n",
    "sum_0024 = combine(groupby(data_0024, [:step, :p_depolym_GDP]), [:mean_MT_size] .=> [mean]);"
   ]
  },
  {
   "cell_type": "code",
   "execution_count": 11,
   "id": "d6cd68ca",
   "metadata": {},
   "outputs": [
    {
     "data": {
      "text/plain": [
       "5-element Vector{Float64}:\n",
       " 100.0\n",
       "  68.64666706665867\n",
       "  14.314566208675826\n",
       "   4.694152616947661\n",
       "   7.237212255754884"
      ]
     },
     "metadata": {},
     "output_type": "display_data"
    }
   ],
   "source": [
    "range_p_hyd = [0.006, 0.012, 0.018, 0.03]\n",
    "range_p_depolym = [0.2, 0.3, 0.4, 0.5, 0.6, 0.7, 0.8, 0.9, 1.0]\n",
    "means_02 = Float64[]\n",
    "means_03 = Float64[]\n",
    "means_04 = Float64[]\n",
    "means_05 = Float64[]\n",
    "means_06 = Float64[]\n",
    "means_07 = Float64[]\n",
    "means_08 = Float64[]\n",
    "means_09 = Float64[]\n",
    "means_10 = Float64[]\n",
    "means_0024 = Float64[]\n",
    "\n",
    "for (i,v) in enumerate(range_p_hyd)\n",
    "    df_sub_02 = @subset(sum_02, :step .>= 50000, :p_hyd .== v)  \n",
    "    append!(means_02, mean(df_sub_02.mean_MT_size_mean))\n",
    "\n",
    "    df_sub_03 = @subset(sum_03, :step .>= 50000, :p_hyd .== v)  \n",
    "    append!(means_03, mean(df_sub_03.mean_MT_size_mean))\n",
    "\n",
    "    df_sub_04 = @subset(sum_04, :step .>= 50000, :p_hyd .== v)  \n",
    "    append!(means_04, mean(df_sub_04.mean_MT_size_mean))\n",
    "\n",
    "    df_sub_05 = @subset(sum_05, :step .>= 50000, :p_hyd .== v)  \n",
    "    append!(means_05, mean(df_sub_05.mean_MT_size_mean))\n",
    "\n",
    "    df_sub_06 = @subset(sum_06, :step .>= 50000, :p_hyd .== v)  \n",
    "    append!(means_06, mean(df_sub_06.mean_MT_size_mean))\n",
    "\n",
    "    df_sub_07 = @subset(sum_07, :step .>= 50000, :p_hyd .== v)  \n",
    "    append!(means_07, mean(df_sub_07.mean_MT_size_mean))\n",
    "\n",
    "    df_sub_08 = @subset(sum_08, :step .>= 50000, :p_hyd .== v)  \n",
    "    append!(means_08, mean(df_sub_08.mean_MT_size_mean))\n",
    "\n",
    "    df_sub_09 = @subset(sum_09, :step .>= 50000, :p_hyd .== v)  \n",
    "    append!(means_09, mean(df_sub_09.mean_MT_size_mean))\n",
    "\n",
    "    df_sub_10 = @subset(sum_10, :step .>= 50000, :p_hyd .== v)  \n",
    "    append!(means_10, mean(df_sub_10.mean_MT_size_mean))\n",
    "end\n",
    "\n",
    "for (i,v) in enumerate(range_p_depolym)\n",
    "    df_sub_0024 = @subset(sum_0024, :step .>= 50000, :p_depolym_GDP .== v)  \n",
    "    append!(means_0024, mean(df_sub_0024.mean_MT_size_mean))\n",
    "end\n",
    "\n",
    "push!(means_02, means_0024[1])\n",
    "push!(means_03, means_0024[2])\n",
    "push!(means_04, means_0024[3])\n",
    "push!(means_05, means_0024[4])\n",
    "push!(means_06, means_0024[5])\n",
    "push!(means_07, means_0024[6])\n",
    "push!(means_08, means_0024[7])\n",
    "push!(means_09, means_0024[8])\n",
    "push!(means_10, means_0024[9])"
   ]
  },
  {
   "cell_type": "code",
   "execution_count": 13,
   "id": "a99d4bff",
   "metadata": {},
   "outputs": [],
   "source": [
    "xs = [0.2, 0.3, 0.4, 0.5, 0.6, 0.7, 0.8, 0.9, 1.0]\n",
    "ys = [0.006, 0.012, 0.018, 0.03, 0.024]\n",
    "matrix = [means_02 means_03 means_04 means_05 means_06 means_07 means_08 means_09 means_10]\n",
    "\n",
    "f2 = Figure()\n",
    "ax2 = Axis(f2[1,1], ylabel = \"p_hyd\", xlabel = \"p_depolym_GDP\", xticks = (xs, [\"0.2\", \"0.3\", \"0.4\", \"0.5\", \"0.6\", \"0.7\", \"0.8\", \"0.9\", \"1.0\"]), yticks = (ys, [\"0.006\", \"0.012\", \"0.018\", \"0.03\", \"0.024\"]))\n",
    "ylims!(ax2, 0.003, 0.033)\n",
    "xlims!(ax2, 0.1, 1.1)\n",
    "colors = append!(co.diverging_gwr_55_95_c38_n256[1:3:150],co.diverging_gwr_55_95_c38_n256[151:2:250])#co.coolwarm[1:100]\n",
    "\n",
    "for (i,x) in enumerate(xs) \n",
    "    for (j,y) in enumerate(ys)\n",
    "        scatter!(ax2, [x], [y], markersize = 50, color = colors[round(Int64,matrix[j,i])])\n",
    "    end\n",
    "end\n",
    "Colorbar(f2[1, 2], limits = (0, 100), colormap = colors, label = \"Mean MT length\")\n",
    "f2"
   ]
  }
 ],
 "metadata": {
  "kernelspec": {
   "display_name": "Julia 1.7.1",
   "language": "julia",
   "name": "julia-1.7"
  },
  "language_info": {
   "file_extension": ".jl",
   "mimetype": "application/julia",
   "name": "julia",
   "version": "1.7.1"
  }
 },
 "nbformat": 4,
 "nbformat_minor": 5
}
