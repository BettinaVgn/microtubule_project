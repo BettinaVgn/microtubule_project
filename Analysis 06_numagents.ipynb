{
 "cells": [
  {
   "cell_type": "markdown",
   "id": "a52f7db7-17f3-4997-aca8-01b7346cdf7e",
   "metadata": {
    "tags": []
   },
   "source": [
    "# Analysis / Plotting - Notebook 06 - numagents\n",
    "Author: Bettina Vignolo\n",
    "\n",
    "This notebook was created to perform several smaller experiments with the microtubule model and analyze the results. It focuses on ```numagents``` and how this parameter influences MT length"
   ]
  },
  {
   "cell_type": "code",
   "execution_count": 2,
   "id": "6ded767a-42f3-4ac3-94dc-9acf6c6bf5bf",
   "metadata": {},
   "outputs": [
    {
     "data": {
      "text/plain": [
       "MT_size_each (generic function with 1 method)"
      ]
     },
     "metadata": {},
     "output_type": "display_data"
    }
   ],
   "source": [
    "# load Packages:\n",
    "using Agents\n",
    "using Statistics\n",
    "using DataFrames\n",
    "using Distributions\n",
    "using StatsBase\n",
    "using DrWatson: @dict\n",
    "using Serialization\n",
    "using InteractiveDynamics\n",
    "using GLMakie\n",
    "import ColorSchemes as co\n",
    "using DataFramesMeta\n",
    "\n",
    "# load Functions:\n",
    "include(\"01_Agent.jl\")\n",
    "include(\"02_Initialization.jl\")\n",
    "include(\"03_AgentStep.jl\")\n",
    "include(\"04_ModelStep.jl\")\n",
    "include(\"05_Analysis.jl\")"
   ]
  },
  {
   "cell_type": "code",
   "execution_count": 1,
   "id": "d5f86efe",
   "metadata": {},
   "outputs": [],
   "source": [
    "using Distributed\n",
    "addprocs(8)\n",
    "\n",
    "@everywhere begin\n",
    "    # load Packages:\n",
    "    using Agents\n",
    "    using Statistics\n",
    "    using DataFrames\n",
    "    using Distributions\n",
    "    using StatsBase\n",
    "    using DrWatson: @dict\n",
    "    using Serialization\n",
    "    using InteractiveDynamics\n",
    "    using GLMakie\n",
    "    import ColorSchemes as co\n",
    "    using DataFramesMeta\n",
    "\n",
    "    # load Functions:\n",
    "    include(\"01_Agent.jl\")\n",
    "    include(\"02_Initialization.jl\")\n",
    "    include(\"03_AgentStep.jl\")\n",
    "    include(\"04_ModelStep.jl\")\n",
    "    include(\"05_Analysis.jl\")\n",
    "end    "
   ]
  },
  {
   "cell_type": "markdown",
   "id": "d9d31100-a440-453f-a5c0-554db5b21a6a",
   "metadata": {
    "tags": []
   },
   "source": [
    "## 1. Scanning for ideal range\n"
   ]
  },
  {
   "cell_type": "markdown",
   "id": "59f290f1",
   "metadata": {},
   "source": [
    "### 1.1 First try with 10 different numagents"
   ]
  },
  {
   "cell_type": "code",
   "execution_count": 3,
   "id": "f697d8a0-6c4e-406c-8877-9abcc5f2cb1c",
   "metadata": {
    "tags": []
   },
   "outputs": [
    {
     "name": "stderr",
     "output_type": "stream",
     "text": [
      "\r\u001b[32mProgress:  20%|█████████                                |  ETA: 0:01:11\u001b[39m\u001b[K"
     ]
    },
    {
     "name": "stderr",
     "output_type": "stream",
     "text": [
      "\r\u001b[32mProgress: 100%|█████████████████████████████████████████| Time: 0:04:20\u001b[39m\u001b[K\n"
     ]
    }
   ],
   "source": [
    "parameters=Dict(\n",
    "            :griddims => (100,100),\n",
    "            :periodic => true,\n",
    "            :Nstarts => 4,\n",
    "            :numagents => collect([400:400:4000]...), \n",
    "            :p_hyd => 0.024,                \n",
    "            :p_polym=> 1.0 ,    \n",
    "            :p_depolym_GTP => 0.0,\n",
    "            :p_depolym_GDP => 0.5, \n",
    "            :p_GTP_exchange => 0.01 )\n",
    "# Model Data:\n",
    "mdata = [mean_MT_size]\n",
    "# Run Model \n",
    "_ , paramdata = paramscan(parameters, initialize; mdata, agent_step!, model_step!, n=10000)\n",
    "serialize(\"data/paramscan_numagents_10kSteps.jls\", paramdata)"
   ]
  },
  {
   "cell_type": "code",
   "execution_count": 5,
   "id": "ac315007-0692-4ef9-998b-7e92e71501f8",
   "metadata": {
    "jupyter": {
     "source_hidden": true
    },
    "tags": []
   },
   "outputs": [],
   "source": [
    "data1 = deserialize(\"data/paramscan_numagents_10kSteps.jls\");\n",
    "f1 = Figure(resolution =(1200, 400))\n",
    "ax1 = Axis(f1[1,1]; xlabel = \"Timesteps\", ylabel = \"MT size\", title = \"Mean MT length over time\")\n",
    "range = collect(400:400:4000)\n",
    "\n",
    "for (i,v) in enumerate(range)\n",
    "    sub_data = @subset(data1, :numagents .== v)\n",
    "    lines!(ax1, sub_data.step, sub_data.mean_MT_size, label = \"$v\", color = co.tab20[i])\n",
    "end\n",
    "\n",
    "\n",
    "Legend(f1[2,1], ax1, \"numagents\", orientation = :horizontal, tellwidth = false, tellheight = true)\n",
    "\n",
    "f1"
   ]
  },
  {
   "cell_type": "markdown",
   "id": "59f290f1",
   "metadata": {},
   "source": [
    "### 1.2 different numagents 400:200:2000"
   ]
  },
  {
   "cell_type": "code",
   "execution_count": 6,
   "id": "f697d8a0-6c4e-406c-8877-9abcc5f2cb1c",
   "metadata": {
    "tags": []
   },
   "outputs": [
    {
     "name": "stderr",
     "output_type": "stream",
     "text": [
      "\r\u001b[32mProgress:  22%|██████████                               |  ETA: 0:00:29\u001b[39m\u001b[K"
     ]
    },
    {
     "name": "stderr",
     "output_type": "stream",
     "text": [
      "\r\u001b[32mProgress: 100%|█████████████████████████████████████████| Time: 0:01:54\u001b[39m\u001b[K\n"
     ]
    }
   ],
   "source": [
    "parameters=Dict(\n",
    "            :griddims => (100,100),\n",
    "            :periodic => true,\n",
    "            :Nstarts => 4,\n",
    "            :numagents => collect([400:200:2000]...), \n",
    "            :p_hyd => 0.024,                \n",
    "            :p_polym=> 1.0 ,    \n",
    "            :p_depolym_GTP => 0.0,\n",
    "            :p_depolym_GDP => 0.5, \n",
    "            :p_GTP_exchange => 0.01 )\n",
    "# Model Data:\n",
    "mdata = [mean_MT_size]\n",
    "# Run Model \n",
    "_ , paramdata = paramscan(parameters, initialize; mdata, agent_step!, model_step!, n=10000)\n",
    "serialize(\"data/paramscan_numagents_till2000_10kSteps.jls\", paramdata)"
   ]
  },
  {
   "cell_type": "code",
   "execution_count": 12,
   "id": "ac315007-0692-4ef9-998b-7e92e71501f8",
   "metadata": {
    "jupyter": {
     "source_hidden": true
    },
    "tags": []
   },
   "outputs": [],
   "source": [
    "data1_2 = deserialize(\"data/paramscan_numagents_till2000_10kSteps.jls\");\n",
    "f1_2 = Figure(resolution =(1200, 400))\n",
    "ax1_2 = Axis(f1_2[1,1]; xlabel = \"Timesteps\", ylabel = \"MT size\", title = \"Mean MT length over time\")\n",
    "range = collect(400:200:2000)\n",
    "\n",
    "for (i,v) in enumerate(range)\n",
    "    sub_data = @subset(data1_2, :numagents .== v)\n",
    "    lines!(ax1_2, sub_data.step, sub_data.mean_MT_size, label = \"$v\", color = co.tab20[i])\n",
    "end\n",
    "\n",
    "\n",
    "Legend(f1_2[2,1], ax1_2, \"numagents\", orientation = :horizontal, tellwidth = false, tellheight = true)\n",
    "\n",
    "f1_2"
   ]
  },
  {
   "cell_type": "markdown",
   "id": "01ab87bc-59a5-49c4-ab60-a252981c9166",
   "metadata": {},
   "source": [
    "### 1.3 10 Ensemble + 100k steps\n",
    "runtime 53min"
   ]
  },
  {
   "cell_type": "code",
   "execution_count": 13,
   "id": "3417f99d-f4ac-41df-b8a4-e36f3e1d73dc",
   "metadata": {
    "tags": []
   },
   "outputs": [],
   "source": [
    "@everywhere begin\n",
    "models = [initialize(;\n",
    "        Nstarts = 4,\n",
    "        periodic = true,\n",
    "        numagents = x,\n",
    "        griddims = (100,100), \n",
    "        p_polym = 1.0,\n",
    "        p_hyd = 0.024,\n",
    "        p_GTP_exchange = 0.01,\n",
    "        p_depolym_GTP = 0.0,\n",
    "        p_depolym_GDP = 0.5)  \n",
    "    for x in repeat(collect([400:200:1600]...), 10)]\n",
    "\n",
    "mdata = [mean_MT_size, (:numagents)]\n",
    "mlabels = [\"mean MT length\", \"numagents\"]\n",
    "end\n",
    "\n",
    "data_ens = ensemblerun!(models, agent_step!, model_step!, 100000; mdata, parallel = true)\n",
    "serialize(\"data/paramscan_numagents_10ensemble_100kSteps.jls\", data_ens[2])"
   ]
  },
  {
   "cell_type": "code",
   "execution_count": 25,
   "id": "dd992db4-f293-4ec5-95e6-6a0c7229d574",
   "metadata": {},
   "outputs": [],
   "source": [
    "data1_6 = deserialize(\"data/paramscan_numagents_10ensemble_100kSteps.jls\")\n",
    "gdf = groupby(@subset(data1_6, :ensemble .!= 14), [:step, :numagents]) #\n",
    "sum_1_6 = combine(gdf, [:mean_MT_size] .=> [mean]);"
   ]
  },
  {
   "cell_type": "code",
   "execution_count": 31,
   "id": "84ca929c-9425-46ab-b185-c737b288e371",
   "metadata": {},
   "outputs": [],
   "source": [
    "#MT length over time\n",
    "f1_6 = Figure(resolution =(1200, 600))\n",
    "ax1_6 = Axis(f1_6[1,1]; xlabel = \"Timesteps\", ylabel = \"MT size\", title = \"Mean MT length over time (10x ensemble) - excluded ensemble 14\")\n",
    "range = collect(400:200:1600)\n",
    "\n",
    "for (i,v) in enumerate(range)\n",
    "    sub_data = @subset(sum_1_6, :numagents .== v)\n",
    "    lines!(ax1_6, sub_data.step, sub_data.mean_MT_size_mean, label = \"$v\", color = co.tab20[i])\n",
    "end\n",
    "\n",
    "\n",
    "Legend(f1_6[2,1], ax1_6, \"numagents\", orientation = :horizontal, tellwidth = false, tellheight = true)\n",
    "\n",
    "f1_6"
   ]
  },
  {
   "cell_type": "code",
   "execution_count": 30,
   "id": "df161bf5-6a42-4728-ba83-c465e4a87f5d",
   "metadata": {},
   "outputs": [
    {
     "data": {
      "text/html": [
       "<div class=\"data-frame\"><p>10 rows × 4 columns</p><table class=\"data-frame\"><thead><tr><th></th><th>step</th><th>mean_MT_size</th><th>numagents</th><th>ensemble</th></tr><tr><th></th><th title=\"Int64\">Int64</th><th title=\"Float64\">Float64</th><th title=\"Int64\">Int64</th><th title=\"Int64\">Int64</th></tr></thead><tbody><tr><th>1</th><td>50000</td><td>100.0</td><td>1600</td><td>7</td></tr><tr><th>2</th><td>50000</td><td>75.0</td><td>1600</td><td>14</td></tr><tr><th>3</th><td>50000</td><td>100.0</td><td>1600</td><td>21</td></tr><tr><th>4</th><td>50000</td><td>100.0</td><td>1600</td><td>28</td></tr><tr><th>5</th><td>50000</td><td>100.0</td><td>1600</td><td>35</td></tr><tr><th>6</th><td>50000</td><td>100.0</td><td>1600</td><td>42</td></tr><tr><th>7</th><td>50000</td><td>79.75</td><td>1600</td><td>49</td></tr><tr><th>8</th><td>50000</td><td>100.0</td><td>1600</td><td>56</td></tr><tr><th>9</th><td>50000</td><td>100.0</td><td>1600</td><td>63</td></tr><tr><th>10</th><td>50000</td><td>100.0</td><td>1600</td><td>70</td></tr></tbody></table></div>"
      ],
      "text/latex": [
       "\\begin{tabular}{r|cccc}\n",
       "\t& step & mean\\_MT\\_size & numagents & ensemble\\\\\n",
       "\t\\hline\n",
       "\t& Int64 & Float64 & Int64 & Int64\\\\\n",
       "\t\\hline\n",
       "\t1 & 50000 & 100.0 & 1600 & 7 \\\\\n",
       "\t2 & 50000 & 75.0 & 1600 & 14 \\\\\n",
       "\t3 & 50000 & 100.0 & 1600 & 21 \\\\\n",
       "\t4 & 50000 & 100.0 & 1600 & 28 \\\\\n",
       "\t5 & 50000 & 100.0 & 1600 & 35 \\\\\n",
       "\t6 & 50000 & 100.0 & 1600 & 42 \\\\\n",
       "\t7 & 50000 & 79.75 & 1600 & 49 \\\\\n",
       "\t8 & 50000 & 100.0 & 1600 & 56 \\\\\n",
       "\t9 & 50000 & 100.0 & 1600 & 63 \\\\\n",
       "\t10 & 50000 & 100.0 & 1600 & 70 \\\\\n",
       "\\end{tabular}\n"
      ],
      "text/plain": [
       "\u001b[1m10×4 DataFrame\u001b[0m\n",
       "\u001b[1m Row \u001b[0m│\u001b[1m step  \u001b[0m\u001b[1m mean_MT_size \u001b[0m\u001b[1m numagents \u001b[0m\u001b[1m ensemble \u001b[0m\n",
       "\u001b[1m     \u001b[0m│\u001b[90m Int64 \u001b[0m\u001b[90m Float64      \u001b[0m\u001b[90m Int64     \u001b[0m\u001b[90m Int64    \u001b[0m\n",
       "─────┼──────────────────────────────────────────\n",
       "   1 │ 50000        100.0        1600         7\n",
       "   2 │ 50000         75.0        1600        14\n",
       "   3 │ 50000        100.0        1600        21\n",
       "   4 │ 50000        100.0        1600        28\n",
       "   5 │ 50000        100.0        1600        35\n",
       "   6 │ 50000        100.0        1600        42\n",
       "   7 │ 50000         79.75       1600        49\n",
       "   8 │ 50000        100.0        1600        56\n",
       "   9 │ 50000        100.0        1600        63\n",
       "  10 │ 50000        100.0        1600        70"
      ]
     },
     "metadata": {},
     "output_type": "display_data"
    }
   ],
   "source": [
    "@subset(data1_6, :numagents .== 1600, :step .== 50000) # exclude ensemble 14"
   ]
  },
  {
   "cell_type": "code",
   "execution_count": 32,
   "id": "71adb551",
   "metadata": {},
   "outputs": [],
   "source": [
    "#Mean Length\n",
    "f2_6 = Figure(resolution = (800, 600)) \n",
    "range = collect(400:200:1600)\n",
    "\n",
    "ax2_6 = Axis(f2_6[1,1]; titel = \"Avg of MT lengths\", xlabel = \"numagents\", ylabel =\"Mean MT length\", xticks = LinearTicks(7), yticklabelcolor = :green,  ylabelcolor = :green)\n",
    "\n",
    "means = Float64[]\n",
    "stds = Float64[]\n",
    "for (i,v) in enumerate(range)\n",
    "    df_sub = @subset(sum_1_6, :step .>= 50000, :numagents .== v)  \n",
    "    append!(means, mean(df_sub.mean_MT_size_mean))\n",
    "    append!(stds, std(df_sub.mean_MT_size_mean))\n",
    "end\n",
    "\n",
    "l1 = lines!(ax2_6, range, means, color = :green)\n",
    "l2 = errorbars!(ax2_6, range, means, stds, color = :red, whiskerwidth = 10)\n",
    "\n",
    "Legend(f2_6[2,1], [l1, l2], [\"Mean\", \"Std\"], orientation = :horizontal, tellwidth = false, tellheight = true)\n",
    "\n",
    "f2_6"
   ]
  },
  {
   "cell_type": "markdown",
   "id": "01ab87bc-59a5-49c4-ab60-a252981c9166",
   "metadata": {},
   "source": [
    "### 1.4 10 Ensemble + 100k steps different range\n",
    "runtime 80min"
   ]
  },
  {
   "cell_type": "code",
   "execution_count": 2,
   "id": "3417f99d-f4ac-41df-b8a4-e36f3e1d73dc",
   "metadata": {
    "tags": []
   },
   "outputs": [],
   "source": [
    "@everywhere begin\n",
    "models = [initialize(;\n",
    "        Nstarts = 4,\n",
    "        periodic = true,\n",
    "        numagents = x,\n",
    "        griddims = (100,100), \n",
    "        p_polym = 1.0,\n",
    "        p_hyd = 0.024,\n",
    "        p_GTP_exchange = 0.01,\n",
    "        p_depolym_GTP = 0.0,\n",
    "        p_depolym_GDP = 0.5)  \n",
    "    for x in repeat(collect([400:150:1750]...), 10)]\n",
    "mdata = [mean_MT_size, (:numagents)]\n",
    "end\n",
    "\n",
    "data_ens = ensemblerun!(models, agent_step!, model_step!, 100000; mdata, parallel = true)\n",
    "serialize(\"data/paramscan_numagents_10ensemble_100kSteps_other_range.jls\", data_ens[2])"
   ]
  },
  {
   "cell_type": "code",
   "execution_count": null,
   "id": "36f96e62",
   "metadata": {},
   "outputs": [],
   "source": []
  }
 ],
 "metadata": {
  "kernelspec": {
   "display_name": "Julia 1.7.1",
   "language": "julia",
   "name": "julia-1.7"
  },
  "language_info": {
   "file_extension": ".jl",
   "mimetype": "application/julia",
   "name": "julia",
   "version": "1.7.1"
  }
 },
 "nbformat": 4,
 "nbformat_minor": 5
}
