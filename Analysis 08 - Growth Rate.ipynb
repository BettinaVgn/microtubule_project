{
 "cells": [
  {
   "cell_type": "markdown",
   "id": "a52f7db7-17f3-4997-aca8-01b7346cdf7e",
   "metadata": {
    "tags": []
   },
   "source": [
    "# Analysis / Plotting - Notebook 08 - Growth Rate and Catastrophe Events\n",
    "Author: Bettina Vignolo\n",
    "\n",
    "This notebook was created to perform several smaller experiments with the microtubule model and analyze the results. It focuses on the calculation of growth rate / growth velocity and catastrophe events.\n"
   ]
  },
  {
   "cell_type": "code",
   "execution_count": 1,
   "id": "6ded767a-42f3-4ac3-94dc-9acf6c6bf5bf",
   "metadata": {},
   "outputs": [
    {
     "data": {
      "text/plain": [
       "250"
      ]
     },
     "metadata": {},
     "output_type": "display_data"
    }
   ],
   "source": [
    "# load Packages:\n",
    "using Agents\n",
    "using Statistics\n",
    "using DataFrames\n",
    "using Distributions\n",
    "using StatsBase\n",
    "using DrWatson: @dict\n",
    "using Serialization\n",
    "using InteractiveDynamics\n",
    "using GLMakie\n",
    "import ColorSchemes as co\n",
    "using DataFramesMeta\n",
    "\n",
    "# load Functions:\n",
    "include(\"01_Agent.jl\")\n",
    "include(\"02_Initialization.jl\")\n",
    "include(\"03_AgentStep.jl\")\n",
    "include(\"04_ModelStep.jl\")\n",
    "include(\"05_Analysis.jl\")\n",
    "ENV[\"COLUMNS\"] = 250"
   ]
  },
  {
   "cell_type": "code",
   "execution_count": 46,
   "id": "d5f86efe",
   "metadata": {},
   "outputs": [],
   "source": [
    "#for parallelization\n",
    "using Distributed\n",
    "addprocs(8)\n",
    "\n",
    "@everywhere begin\n",
    "    # load Packages:\n",
    "    using Agents\n",
    "    using Statistics\n",
    "    using DataFrames\n",
    "    using Distributions\n",
    "    using StatsBase\n",
    "    using DrWatson: @dict\n",
    "    using Serialization\n",
    "    using InteractiveDynamics\n",
    "    using GLMakie\n",
    "    import ColorSchemes as co\n",
    "    using DataFramesMeta\n",
    "\n",
    "    # load Functions:\n",
    "    include(\"01_Agent.jl\")\n",
    "    include(\"02_Initialization.jl\")\n",
    "    include(\"03_AgentStep.jl\")\n",
    "    include(\"04_ModelStep.jl\")\n",
    "    include(\"05_Analysis.jl\")\n",
    "end    "
   ]
  },
  {
   "cell_type": "markdown",
   "metadata": {},
   "source": [
    "## 1. Functions"
   ]
  },
  {
   "cell_type": "markdown",
   "metadata": {},
   "source": [
    "### 1.1 Growth Rate Function (by Valentin)"
   ]
  },
  {
   "cell_type": "code",
   "execution_count": 4,
   "metadata": {},
   "outputs": [
    {
     "data": {
      "text/plain": [
       "growth_rate! (generic function with 1 method)"
      ]
     },
     "metadata": {},
     "output_type": "display_data"
    }
   ],
   "source": [
    "function growth_rate!(df) \n",
    "    df.growthrate = zeros(nrow(df))\n",
    "    for n in 2:nrow(df)\n",
    "        if df.step[n] == 0\n",
    "            df.growthrate[n]=0\n",
    "        elseif df.step[n]>0\n",
    "            df.growthrate[n]= df[n,:mean_MT_size]-df[n-1,:mean_MT_size]\n",
    "        end\n",
    "    end\n",
    "    return df\n",
    "end"
   ]
  },
  {
   "cell_type": "markdown",
   "metadata": {},
   "source": [
    "### 1.2 Classification Function (incl. growth_rate function)"
   ]
  },
  {
   "cell_type": "code",
   "execution_count": 3,
   "metadata": {},
   "outputs": [
    {
     "data": {
      "text/plain": [
       "growth_classification! (generic function with 1 method)"
      ]
     },
     "metadata": {},
     "output_type": "display_data"
    }
   ],
   "source": [
    "#count number of +1, -1 and 0 in each 250 step section and determine if this section is overall shrinking or growing\n",
    "\n",
    "function growth_classification!(df; section_size = 250)\n",
    "    df.growthrate = zeros(nrow(df))\n",
    "    for n in 2:nrow(df)\n",
    "        if df.step[n] == 0\n",
    "            df.growthrate[n]=0\n",
    "        elseif df.step[n]>0\n",
    "            df.growthrate[n]= df[n,:mean_MT_size]-df[n-1,:mean_MT_size]\n",
    "        end\n",
    "    end\n",
    "\n",
    "    df.growthclass = [0 for i in 1:nrow(df)]\n",
    "    for i in collect(1:section_size:maximum(df.step)-section_size+1)\n",
    "        section = collect(i:i+section_size-1)\n",
    "        count_plus = count(x -> (x == 1.0), df.growthrate[section])\n",
    "        count_minus = count(x -> (x == -1.0), df.growthrate[section])\n",
    "        growthclass = count_minus >= 0.08*section_size ? -1.0 : count_plus >= 0.012*section_size ? 1.0 : 0.0\n",
    "\n",
    "        for n in section\n",
    "            df.growthclass[n] = growthclass\n",
    "        end\n",
    "    end\n",
    "\n",
    "    df.growthclass_group = [1 for i in 1:nrow(df)]\n",
    "    for (i,v) in enumerate(df.growthclass)\n",
    "        if i == 1\n",
    "            continue\n",
    "        elseif v == df.growthclass[i-1]\n",
    "            df.growthclass_group[i] = df.growthclass_group[i-1]\n",
    "        else\n",
    "            df.growthclass_group[i] = df.growthclass_group[i-1] + 1\n",
    "        end\n",
    "    end\n",
    "    return df\n",
    "end"
   ]
  },
  {
   "cell_type": "markdown",
   "metadata": {},
   "source": [
    "### 1.3 Velocity Function"
   ]
  },
  {
   "cell_type": "code",
   "execution_count": 9,
   "metadata": {},
   "outputs": [
    {
     "data": {
      "text/plain": [
       "mean_velocity_cat (generic function with 1 method)"
      ]
     },
     "metadata": {},
     "output_type": "display_data"
    }
   ],
   "source": [
    "function velocity(df)\n",
    "    df_new = DataFrame(growthclass_group = [i for i in 1:maximum(df.growthclass_group)], velocity = zeros(maximum(df.growthclass_group)))\n",
    "\n",
    "    for i in 1:maximum(df.growthclass_group) #find minimum/maximum of MT lenght and corresponding step for each group\n",
    "        sub_df = @subset(df, :growthclass_group .== i)\n",
    "        MT_min = minimum(sub_df.mean_MT_size)\n",
    "        MT_max = maximum(sub_df.mean_MT_size)\n",
    "        for (i,v) in enumerate(sub_df.mean_MT_size)\n",
    "            if v == MT_min\n",
    "                step_min = sub_df.step[i]\n",
    "            end\n",
    "            if v == MT_max\n",
    "                step_max = sub_df.step[i]\n",
    "            end\n",
    "        end\n",
    "        #calculate velocities for each group (should be negative if group is shrinking)\n",
    "        if sub_df.growthclass[1] == 1.0\n",
    "            df_new.velocity[i] = (MT_max-MT_min)/(step_max - step_min)\n",
    "        elseif sub_df.growthclass[1] == -1.0\n",
    "            df_new.velocity[i] = (MT_min-MT_max)/(step_max - step_min)\n",
    "        else\n",
    "            df_new.velocity[i] = 0\n",
    "        end   \n",
    "    end\n",
    "    return df_new\n",
    "end\n",
    "\n",
    "function mean_velocity_grow(df)\n",
    "    grow_velocities = [df.velocity[i] for i in 1:nrow(df) if df.velocity[i] > 0]\n",
    "    if isempty(grow_velocities)\n",
    "        mean_velocity_grow = 0\n",
    "    else\n",
    "        mean_velocity_grow = mean(grow_velocities)\n",
    "    end\n",
    "end\n",
    "\n",
    "function mean_velocity_cat(df)\n",
    "    cat_velocities = [df.velocity[i] for i in 1:nrow(df) if df.velocity[i] < 0]\n",
    "    if isempty(cat_velocities)\n",
    "        mean_velocity_cat = 0\n",
    "    else\n",
    "        mean_velocity_cat = mean(cat_velocities)\n",
    "    end\n",
    "end"
   ]
  },
  {
   "cell_type": "markdown",
   "metadata": {},
   "source": [
    "## 2. Test Analysis"
   ]
  },
  {
   "cell_type": "markdown",
   "metadata": {},
   "source": [
    "### 2.1 Test with only 1 Nstart and 2 different Parameters"
   ]
  },
  {
   "cell_type": "code",
   "execution_count": 12,
   "metadata": {},
   "outputs": [],
   "source": [
    "@everywhere begin\n",
    "    parameters=Dict(\n",
    "                :griddims => (100,100),\n",
    "                :periodic => true,\n",
    "                :Nstarts => 1,\n",
    "                :numagents => 1000, \n",
    "                :p_hyd => 0.024,                   \n",
    "                :p_polym=> 1.0 ,    \n",
    "                :p_depolym_GTP => 0.0,\n",
    "                :p_depolym_GDP => [0.2, 0.5],\n",
    "                :p_GTP_exchange => 0.01)\n",
    "    # Model Data:\n",
    "    mdata = [mean_MT_size]\n",
    "end\n",
    "# Run Model \n",
    "_ , paramdata = paramscan(parameters, initialize;  mdata, agent_step!, model_step!, n=100000, parallel = true)\n",
    "serialize(\"data/growthrate_test_data_p_depolym_GDP_1Nstart_100ksteps.jls\", paramdata)"
   ]
  },
  {
   "cell_type": "code",
   "execution_count": 71,
   "metadata": {},
   "outputs": [
    {
     "data": {
      "text/html": [
       "<div class=\"data-frame\"><p>100,001 rows × 6 columns</p><table class=\"data-frame\"><thead><tr><th></th><th>step</th><th>mean_MT_size</th><th>p_depolym_GDP</th><th>growthrate</th><th>growthclass</th><th>growthclass_group</th></tr><tr><th></th><th title=\"Int64\">Int64</th><th title=\"Float64\">Float64</th><th title=\"Float64\">Float64</th><th title=\"Float64\">Float64</th><th title=\"Int64\">Int64</th><th title=\"Int64\">Int64</th></tr></thead><tbody><tr><th>1</th><td>0</td><td>1.0</td><td>0.2</td><td>0.0</td><td>1</td><td>1</td></tr><tr><th>2</th><td>1</td><td>2.0</td><td>0.2</td><td>1.0</td><td>1</td><td>1</td></tr><tr><th>3</th><td>2</td><td>2.0</td><td>0.2</td><td>0.0</td><td>1</td><td>1</td></tr><tr><th>4</th><td>3</td><td>2.0</td><td>0.2</td><td>0.0</td><td>1</td><td>1</td></tr><tr><th>5</th><td>4</td><td>2.0</td><td>0.2</td><td>0.0</td><td>1</td><td>1</td></tr><tr><th>6</th><td>5</td><td>2.0</td><td>0.2</td><td>0.0</td><td>1</td><td>1</td></tr><tr><th>7</th><td>6</td><td>2.0</td><td>0.2</td><td>0.0</td><td>1</td><td>1</td></tr><tr><th>8</th><td>7</td><td>2.0</td><td>0.2</td><td>0.0</td><td>1</td><td>1</td></tr><tr><th>9</th><td>8</td><td>2.0</td><td>0.2</td><td>0.0</td><td>1</td><td>1</td></tr><tr><th>10</th><td>9</td><td>2.0</td><td>0.2</td><td>0.0</td><td>1</td><td>1</td></tr><tr><th>11</th><td>10</td><td>2.0</td><td>0.2</td><td>0.0</td><td>1</td><td>1</td></tr><tr><th>12</th><td>11</td><td>2.0</td><td>0.2</td><td>0.0</td><td>1</td><td>1</td></tr><tr><th>13</th><td>12</td><td>2.0</td><td>0.2</td><td>0.0</td><td>1</td><td>1</td></tr><tr><th>14</th><td>13</td><td>2.0</td><td>0.2</td><td>0.0</td><td>1</td><td>1</td></tr><tr><th>15</th><td>14</td><td>2.0</td><td>0.2</td><td>0.0</td><td>1</td><td>1</td></tr><tr><th>16</th><td>15</td><td>2.0</td><td>0.2</td><td>0.0</td><td>1</td><td>1</td></tr><tr><th>17</th><td>16</td><td>2.0</td><td>0.2</td><td>0.0</td><td>1</td><td>1</td></tr><tr><th>18</th><td>17</td><td>2.0</td><td>0.2</td><td>0.0</td><td>1</td><td>1</td></tr><tr><th>19</th><td>18</td><td>2.0</td><td>0.2</td><td>0.0</td><td>1</td><td>1</td></tr><tr><th>20</th><td>19</td><td>2.0</td><td>0.2</td><td>0.0</td><td>1</td><td>1</td></tr><tr><th>21</th><td>20</td><td>2.0</td><td>0.2</td><td>0.0</td><td>1</td><td>1</td></tr><tr><th>22</th><td>21</td><td>2.0</td><td>0.2</td><td>0.0</td><td>1</td><td>1</td></tr><tr><th>23</th><td>22</td><td>2.0</td><td>0.2</td><td>0.0</td><td>1</td><td>1</td></tr><tr><th>24</th><td>23</td><td>2.0</td><td>0.2</td><td>0.0</td><td>1</td><td>1</td></tr><tr><th>&vellip;</th><td>&vellip;</td><td>&vellip;</td><td>&vellip;</td><td>&vellip;</td><td>&vellip;</td><td>&vellip;</td></tr></tbody></table></div>"
      ],
      "text/latex": [
       "\\begin{tabular}{r|cccccc}\n",
       "\t& step & mean\\_MT\\_size & p\\_depolym\\_GDP & growthrate & growthclass & growthclass\\_group\\\\\n",
       "\t\\hline\n",
       "\t& Int64 & Float64 & Float64 & Float64 & Int64 & Int64\\\\\n",
       "\t\\hline\n",
       "\t1 & 0 & 1.0 & 0.2 & 0.0 & 1 & 1 \\\\\n",
       "\t2 & 1 & 2.0 & 0.2 & 1.0 & 1 & 1 \\\\\n",
       "\t3 & 2 & 2.0 & 0.2 & 0.0 & 1 & 1 \\\\\n",
       "\t4 & 3 & 2.0 & 0.2 & 0.0 & 1 & 1 \\\\\n",
       "\t5 & 4 & 2.0 & 0.2 & 0.0 & 1 & 1 \\\\\n",
       "\t6 & 5 & 2.0 & 0.2 & 0.0 & 1 & 1 \\\\\n",
       "\t7 & 6 & 2.0 & 0.2 & 0.0 & 1 & 1 \\\\\n",
       "\t8 & 7 & 2.0 & 0.2 & 0.0 & 1 & 1 \\\\\n",
       "\t9 & 8 & 2.0 & 0.2 & 0.0 & 1 & 1 \\\\\n",
       "\t10 & 9 & 2.0 & 0.2 & 0.0 & 1 & 1 \\\\\n",
       "\t11 & 10 & 2.0 & 0.2 & 0.0 & 1 & 1 \\\\\n",
       "\t12 & 11 & 2.0 & 0.2 & 0.0 & 1 & 1 \\\\\n",
       "\t13 & 12 & 2.0 & 0.2 & 0.0 & 1 & 1 \\\\\n",
       "\t14 & 13 & 2.0 & 0.2 & 0.0 & 1 & 1 \\\\\n",
       "\t15 & 14 & 2.0 & 0.2 & 0.0 & 1 & 1 \\\\\n",
       "\t16 & 15 & 2.0 & 0.2 & 0.0 & 1 & 1 \\\\\n",
       "\t17 & 16 & 2.0 & 0.2 & 0.0 & 1 & 1 \\\\\n",
       "\t18 & 17 & 2.0 & 0.2 & 0.0 & 1 & 1 \\\\\n",
       "\t19 & 18 & 2.0 & 0.2 & 0.0 & 1 & 1 \\\\\n",
       "\t20 & 19 & 2.0 & 0.2 & 0.0 & 1 & 1 \\\\\n",
       "\t21 & 20 & 2.0 & 0.2 & 0.0 & 1 & 1 \\\\\n",
       "\t22 & 21 & 2.0 & 0.2 & 0.0 & 1 & 1 \\\\\n",
       "\t23 & 22 & 2.0 & 0.2 & 0.0 & 1 & 1 \\\\\n",
       "\t24 & 23 & 2.0 & 0.2 & 0.0 & 1 & 1 \\\\\n",
       "\t$\\dots$ & $\\dots$ & $\\dots$ & $\\dots$ & $\\dots$ & $\\dots$ & $\\dots$ \\\\\n",
       "\\end{tabular}\n"
      ],
      "text/plain": [
       "\u001b[1m100001×6 DataFrame\u001b[0m\n",
       "\u001b[1m    Row \u001b[0m│\u001b[1m step   \u001b[0m\u001b[1m mean_MT_size \u001b[0m\u001b[1m p_depolym_GDP \u001b[0m\u001b[1m growthrate \u001b[0m\u001b[1m growthclass \u001b[0m\u001b[1m growth\u001b[0m ⋯\n",
       "\u001b[1m        \u001b[0m│\u001b[90m Int64  \u001b[0m\u001b[90m Float64      \u001b[0m\u001b[90m Float64       \u001b[0m\u001b[90m Float64    \u001b[0m\u001b[90m Int64       \u001b[0m\u001b[90m Int64 \u001b[0m ⋯\n",
       "────────┼───────────────────────────────────────────────────────────────────────\n",
       "      1 │      0           1.0            0.2         0.0            1         ⋯\n",
       "      2 │      1           2.0            0.2         1.0            1\n",
       "      3 │      2           2.0            0.2         0.0            1\n",
       "      4 │      3           2.0            0.2         0.0            1\n",
       "      5 │      4           2.0            0.2         0.0            1         ⋯\n",
       "      6 │      5           2.0            0.2         0.0            1\n",
       "      7 │      6           2.0            0.2         0.0            1\n",
       "      8 │      7           2.0            0.2         0.0            1\n",
       "   ⋮    │   ⋮          ⋮              ⋮            ⋮            ⋮              ⋱\n",
       "  99995 │  99994         100.0            0.2         0.0            0         ⋯\n",
       "  99996 │  99995         100.0            0.2         0.0            0\n",
       "  99997 │  99996         100.0            0.2         0.0            0\n",
       "  99998 │  99997         100.0            0.2         0.0            0\n",
       "  99999 │  99998         100.0            0.2         0.0            0         ⋯\n",
       " 100000 │  99999         100.0            0.2         0.0            0\n",
       " 100001 │ 100000         100.0            0.2         0.0            0\n",
       "\u001b[36m                                                 1 column and 99986 rows omitted\u001b[0m"
      ]
     },
     "metadata": {},
     "output_type": "display_data"
    }
   ],
   "source": [
    "data_test = deserialize(\"data/growthrate_test_data_p_depolym_GDP_1Nstart_100ksteps.jls\");\n",
    "data_02 = @subset(data_test, :p_depolym_GDP .== 0.2)\n",
    "growth_classification!(data_02)"
   ]
  },
  {
   "cell_type": "code",
   "execution_count": 72,
   "metadata": {},
   "outputs": [
    {
     "data": {
      "text/html": [
       "<div class=\"data-frame\"><p>100,001 rows × 6 columns</p><table class=\"data-frame\"><thead><tr><th></th><th>step</th><th>mean_MT_size</th><th>p_depolym_GDP</th><th>growthrate</th><th>growthclass</th><th>growthclass_group</th></tr><tr><th></th><th title=\"Int64\">Int64</th><th title=\"Float64\">Float64</th><th title=\"Float64\">Float64</th><th title=\"Float64\">Float64</th><th title=\"Int64\">Int64</th><th title=\"Int64\">Int64</th></tr></thead><tbody><tr><th>1</th><td>0</td><td>1.0</td><td>0.5</td><td>0.0</td><td>1</td><td>1</td></tr><tr><th>2</th><td>1</td><td>1.0</td><td>0.5</td><td>0.0</td><td>1</td><td>1</td></tr><tr><th>3</th><td>2</td><td>1.0</td><td>0.5</td><td>0.0</td><td>1</td><td>1</td></tr><tr><th>4</th><td>3</td><td>1.0</td><td>0.5</td><td>0.0</td><td>1</td><td>1</td></tr><tr><th>5</th><td>4</td><td>1.0</td><td>0.5</td><td>0.0</td><td>1</td><td>1</td></tr><tr><th>6</th><td>5</td><td>1.0</td><td>0.5</td><td>0.0</td><td>1</td><td>1</td></tr><tr><th>7</th><td>6</td><td>1.0</td><td>0.5</td><td>0.0</td><td>1</td><td>1</td></tr><tr><th>8</th><td>7</td><td>1.0</td><td>0.5</td><td>0.0</td><td>1</td><td>1</td></tr><tr><th>9</th><td>8</td><td>1.0</td><td>0.5</td><td>0.0</td><td>1</td><td>1</td></tr><tr><th>10</th><td>9</td><td>1.0</td><td>0.5</td><td>0.0</td><td>1</td><td>1</td></tr><tr><th>11</th><td>10</td><td>1.0</td><td>0.5</td><td>0.0</td><td>1</td><td>1</td></tr><tr><th>12</th><td>11</td><td>1.0</td><td>0.5</td><td>0.0</td><td>1</td><td>1</td></tr><tr><th>13</th><td>12</td><td>1.0</td><td>0.5</td><td>0.0</td><td>1</td><td>1</td></tr><tr><th>14</th><td>13</td><td>2.0</td><td>0.5</td><td>1.0</td><td>1</td><td>1</td></tr><tr><th>15</th><td>14</td><td>2.0</td><td>0.5</td><td>0.0</td><td>1</td><td>1</td></tr><tr><th>16</th><td>15</td><td>2.0</td><td>0.5</td><td>0.0</td><td>1</td><td>1</td></tr><tr><th>17</th><td>16</td><td>2.0</td><td>0.5</td><td>0.0</td><td>1</td><td>1</td></tr><tr><th>18</th><td>17</td><td>2.0</td><td>0.5</td><td>0.0</td><td>1</td><td>1</td></tr><tr><th>19</th><td>18</td><td>2.0</td><td>0.5</td><td>0.0</td><td>1</td><td>1</td></tr><tr><th>20</th><td>19</td><td>2.0</td><td>0.5</td><td>0.0</td><td>1</td><td>1</td></tr><tr><th>21</th><td>20</td><td>2.0</td><td>0.5</td><td>0.0</td><td>1</td><td>1</td></tr><tr><th>22</th><td>21</td><td>2.0</td><td>0.5</td><td>0.0</td><td>1</td><td>1</td></tr><tr><th>23</th><td>22</td><td>2.0</td><td>0.5</td><td>0.0</td><td>1</td><td>1</td></tr><tr><th>24</th><td>23</td><td>2.0</td><td>0.5</td><td>0.0</td><td>1</td><td>1</td></tr><tr><th>&vellip;</th><td>&vellip;</td><td>&vellip;</td><td>&vellip;</td><td>&vellip;</td><td>&vellip;</td><td>&vellip;</td></tr></tbody></table></div>"
      ],
      "text/latex": [
       "\\begin{tabular}{r|cccccc}\n",
       "\t& step & mean\\_MT\\_size & p\\_depolym\\_GDP & growthrate & growthclass & growthclass\\_group\\\\\n",
       "\t\\hline\n",
       "\t& Int64 & Float64 & Float64 & Float64 & Int64 & Int64\\\\\n",
       "\t\\hline\n",
       "\t1 & 0 & 1.0 & 0.5 & 0.0 & 1 & 1 \\\\\n",
       "\t2 & 1 & 1.0 & 0.5 & 0.0 & 1 & 1 \\\\\n",
       "\t3 & 2 & 1.0 & 0.5 & 0.0 & 1 & 1 \\\\\n",
       "\t4 & 3 & 1.0 & 0.5 & 0.0 & 1 & 1 \\\\\n",
       "\t5 & 4 & 1.0 & 0.5 & 0.0 & 1 & 1 \\\\\n",
       "\t6 & 5 & 1.0 & 0.5 & 0.0 & 1 & 1 \\\\\n",
       "\t7 & 6 & 1.0 & 0.5 & 0.0 & 1 & 1 \\\\\n",
       "\t8 & 7 & 1.0 & 0.5 & 0.0 & 1 & 1 \\\\\n",
       "\t9 & 8 & 1.0 & 0.5 & 0.0 & 1 & 1 \\\\\n",
       "\t10 & 9 & 1.0 & 0.5 & 0.0 & 1 & 1 \\\\\n",
       "\t11 & 10 & 1.0 & 0.5 & 0.0 & 1 & 1 \\\\\n",
       "\t12 & 11 & 1.0 & 0.5 & 0.0 & 1 & 1 \\\\\n",
       "\t13 & 12 & 1.0 & 0.5 & 0.0 & 1 & 1 \\\\\n",
       "\t14 & 13 & 2.0 & 0.5 & 1.0 & 1 & 1 \\\\\n",
       "\t15 & 14 & 2.0 & 0.5 & 0.0 & 1 & 1 \\\\\n",
       "\t16 & 15 & 2.0 & 0.5 & 0.0 & 1 & 1 \\\\\n",
       "\t17 & 16 & 2.0 & 0.5 & 0.0 & 1 & 1 \\\\\n",
       "\t18 & 17 & 2.0 & 0.5 & 0.0 & 1 & 1 \\\\\n",
       "\t19 & 18 & 2.0 & 0.5 & 0.0 & 1 & 1 \\\\\n",
       "\t20 & 19 & 2.0 & 0.5 & 0.0 & 1 & 1 \\\\\n",
       "\t21 & 20 & 2.0 & 0.5 & 0.0 & 1 & 1 \\\\\n",
       "\t22 & 21 & 2.0 & 0.5 & 0.0 & 1 & 1 \\\\\n",
       "\t23 & 22 & 2.0 & 0.5 & 0.0 & 1 & 1 \\\\\n",
       "\t24 & 23 & 2.0 & 0.5 & 0.0 & 1 & 1 \\\\\n",
       "\t$\\dots$ & $\\dots$ & $\\dots$ & $\\dots$ & $\\dots$ & $\\dots$ & $\\dots$ \\\\\n",
       "\\end{tabular}\n"
      ],
      "text/plain": [
       "\u001b[1m100001×6 DataFrame\u001b[0m\n",
       "\u001b[1m    Row \u001b[0m│\u001b[1m step   \u001b[0m\u001b[1m mean_MT_size \u001b[0m\u001b[1m p_depolym_GDP \u001b[0m\u001b[1m growthrate \u001b[0m\u001b[1m growthclass \u001b[0m\u001b[1m growth\u001b[0m ⋯\n",
       "\u001b[1m        \u001b[0m│\u001b[90m Int64  \u001b[0m\u001b[90m Float64      \u001b[0m\u001b[90m Float64       \u001b[0m\u001b[90m Float64    \u001b[0m\u001b[90m Int64       \u001b[0m\u001b[90m Int64 \u001b[0m ⋯\n",
       "────────┼───────────────────────────────────────────────────────────────────────\n",
       "      1 │      0           1.0            0.5         0.0            1         ⋯\n",
       "      2 │      1           1.0            0.5         0.0            1\n",
       "      3 │      2           1.0            0.5         0.0            1\n",
       "      4 │      3           1.0            0.5         0.0            1\n",
       "      5 │      4           1.0            0.5         0.0            1         ⋯\n",
       "      6 │      5           1.0            0.5         0.0            1\n",
       "      7 │      6           1.0            0.5         0.0            1\n",
       "      8 │      7           1.0            0.5         0.0            1\n",
       "   ⋮    │   ⋮          ⋮              ⋮            ⋮            ⋮              ⋱\n",
       "  99995 │  99994           1.0            0.5         0.0            0         ⋯\n",
       "  99996 │  99995           1.0            0.5         0.0            0\n",
       "  99997 │  99996           1.0            0.5         0.0            0\n",
       "  99998 │  99997           1.0            0.5         0.0            0\n",
       "  99999 │  99998           1.0            0.5         0.0            0         ⋯\n",
       " 100000 │  99999           1.0            0.5         0.0            0\n",
       " 100001 │ 100000           1.0            0.5         0.0            0\n",
       "\u001b[36m                                                 1 column and 99986 rows omitted\u001b[0m"
      ]
     },
     "metadata": {},
     "output_type": "display_data"
    }
   ],
   "source": [
    "data_05 = @subset(data_test, :p_depolym_GDP .== 0.5)\n",
    "growth_classification!(data_05)"
   ]
  },
  {
   "cell_type": "code",
   "execution_count": 73,
   "metadata": {},
   "outputs": [
    {
     "data": {
      "text/plain": [
       "214"
      ]
     },
     "metadata": {},
     "output_type": "display_data"
    }
   ],
   "source": [
    "maximum(data_05.growthclass_group)"
   ]
  },
  {
   "cell_type": "code",
   "execution_count": 81,
   "metadata": {},
   "outputs": [
    {
     "data": {
      "text/html": [
       "<div class=\"data-frame\"><p>214 rows × 3 columns</p><table class=\"data-frame\"><thead><tr><th></th><th>p_depolym_GDP</th><th>growthclass_group</th><th>velocity</th></tr><tr><th></th><th title=\"Float64\">Float64</th><th title=\"Int64\">Int64</th><th title=\"Float64\">Float64</th></tr></thead><tbody><tr><th>1</th><td>0.5</td><td>1</td><td>0.0501002</td></tr><tr><th>2</th><td>0.5</td><td>2</td><td>-0.0843373</td></tr><tr><th>3</th><td>0.5</td><td>3</td><td>0.0333778</td></tr><tr><th>4</th><td>0.5</td><td>4</td><td>-0.0441767</td></tr><tr><th>5</th><td>0.5</td><td>5</td><td>0.0401606</td></tr><tr><th>6</th><td>0.5</td><td>6</td><td>-0.0843373</td></tr><tr><th>7</th><td>0.5</td><td>7</td><td>0.0522088</td></tr><tr><th>8</th><td>0.5</td><td>8</td><td>-0.0300601</td></tr><tr><th>9</th><td>0.5</td><td>9</td><td>0.0601202</td></tr><tr><th>10</th><td>0.5</td><td>10</td><td>-0.104418</td></tr><tr><th>11</th><td>0.5</td><td>11</td><td>0.0160643</td></tr><tr><th>12</th><td>0.5</td><td>12</td><td>-0.060241</td></tr><tr><th>13</th><td>0.5</td><td>13</td><td>0.0140281</td></tr><tr><th>14</th><td>0.5</td><td>14</td><td>-0.0180361</td></tr><tr><th>15</th><td>0.5</td><td>15</td><td>0.0128102</td></tr><tr><th>16</th><td>0.5</td><td>16</td><td>-0.0481928</td></tr><tr><th>17</th><td>0.5</td><td>17</td><td>0.0361446</td></tr><tr><th>18</th><td>0.5</td><td>18</td><td>-0.0160214</td></tr><tr><th>19</th><td>0.5</td><td>19</td><td>0.0280374</td></tr><tr><th>20</th><td>0.5</td><td>20</td><td>-0.0361446</td></tr><tr><th>21</th><td>0.5</td><td>21</td><td>0.0146862</td></tr><tr><th>22</th><td>0.5</td><td>22</td><td>-0.0420842</td></tr><tr><th>23</th><td>0.5</td><td>23</td><td>0.0481928</td></tr><tr><th>24</th><td>0.5</td><td>24</td><td>-0.0721443</td></tr><tr><th>&vellip;</th><td>&vellip;</td><td>&vellip;</td><td>&vellip;</td></tr></tbody></table></div>"
      ],
      "text/latex": [
       "\\begin{tabular}{r|ccc}\n",
       "\t& p\\_depolym\\_GDP & growthclass\\_group & velocity\\\\\n",
       "\t\\hline\n",
       "\t& Float64 & Int64 & Float64\\\\\n",
       "\t\\hline\n",
       "\t1 & 0.5 & 1 & 0.0501002 \\\\\n",
       "\t2 & 0.5 & 2 & -0.0843373 \\\\\n",
       "\t3 & 0.5 & 3 & 0.0333778 \\\\\n",
       "\t4 & 0.5 & 4 & -0.0441767 \\\\\n",
       "\t5 & 0.5 & 5 & 0.0401606 \\\\\n",
       "\t6 & 0.5 & 6 & -0.0843373 \\\\\n",
       "\t7 & 0.5 & 7 & 0.0522088 \\\\\n",
       "\t8 & 0.5 & 8 & -0.0300601 \\\\\n",
       "\t9 & 0.5 & 9 & 0.0601202 \\\\\n",
       "\t10 & 0.5 & 10 & -0.104418 \\\\\n",
       "\t11 & 0.5 & 11 & 0.0160643 \\\\\n",
       "\t12 & 0.5 & 12 & -0.060241 \\\\\n",
       "\t13 & 0.5 & 13 & 0.0140281 \\\\\n",
       "\t14 & 0.5 & 14 & -0.0180361 \\\\\n",
       "\t15 & 0.5 & 15 & 0.0128102 \\\\\n",
       "\t16 & 0.5 & 16 & -0.0481928 \\\\\n",
       "\t17 & 0.5 & 17 & 0.0361446 \\\\\n",
       "\t18 & 0.5 & 18 & -0.0160214 \\\\\n",
       "\t19 & 0.5 & 19 & 0.0280374 \\\\\n",
       "\t20 & 0.5 & 20 & -0.0361446 \\\\\n",
       "\t21 & 0.5 & 21 & 0.0146862 \\\\\n",
       "\t22 & 0.5 & 22 & -0.0420842 \\\\\n",
       "\t23 & 0.5 & 23 & 0.0481928 \\\\\n",
       "\t24 & 0.5 & 24 & -0.0721443 \\\\\n",
       "\t$\\dots$ & $\\dots$ & $\\dots$ & $\\dots$ \\\\\n",
       "\\end{tabular}\n"
      ],
      "text/plain": [
       "\u001b[1m214×3 DataFrame\u001b[0m\n",
       "\u001b[1m Row \u001b[0m│\u001b[1m p_depolym_GDP \u001b[0m\u001b[1m growthclass_group \u001b[0m\u001b[1m velocity    \u001b[0m\n",
       "\u001b[1m     \u001b[0m│\u001b[90m Float64       \u001b[0m\u001b[90m Int64             \u001b[0m\u001b[90m Float64     \u001b[0m\n",
       "─────┼───────────────────────────────────────────────\n",
       "   1 │           0.5                  1   0.0501002\n",
       "   2 │           0.5                  2  -0.0843373\n",
       "   3 │           0.5                  3   0.0333778\n",
       "   4 │           0.5                  4  -0.0441767\n",
       "   5 │           0.5                  5   0.0401606\n",
       "   6 │           0.5                  6  -0.0843373\n",
       "   7 │           0.5                  7   0.0522088\n",
       "   8 │           0.5                  8  -0.0300601\n",
       "  ⋮  │       ⋮                ⋮               ⋮\n",
       " 208 │           0.5                208  -0.104418\n",
       " 209 │           0.5                209   0.0441767\n",
       " 210 │           0.5                210  -0.0380762\n",
       " 211 │           0.5                211   0.012012\n",
       " 212 │           0.5                212  -0.0401606\n",
       " 213 │           0.5                213   0.0281124\n",
       " 214 │           0.5                214   0.0\n",
       "\u001b[36m                                     199 rows omitted\u001b[0m"
      ]
     },
     "metadata": {},
     "output_type": "display_data"
    }
   ],
   "source": [
    "data_05_velocity = velocity!(data_05)"
   ]
  },
  {
   "cell_type": "code",
   "execution_count": 61,
   "metadata": {},
   "outputs": [
    {
     "data": {
      "text/plain": [
       "0.0314153996729713"
      ]
     },
     "metadata": {},
     "output_type": "display_data"
    }
   ],
   "source": [
    "mean_velocity_grow(data_05_velocity)\n"
   ]
  },
  {
   "cell_type": "code",
   "execution_count": 62,
   "metadata": {},
   "outputs": [
    {
     "data": {
      "text/plain": [
       "-0.050575381836289394"
      ]
     },
     "metadata": {},
     "output_type": "display_data"
    }
   ],
   "source": [
    "mean_velocity_cat(data_05_velocity)"
   ]
  },
  {
   "cell_type": "code",
   "execution_count": 64,
   "metadata": {},
   "outputs": [
    {
     "name": "stdout",
     "output_type": "stream",
     "text": [
      "0.02629750777934197\n",
      "-0.03313253012048192\n"
     ]
    }
   ],
   "source": [
    "data_02_velocity = velocity!(data_02)\n",
    "\n",
    "println(mean_velocity_grow(data_02_velocity))\n",
    "println(mean_velocity_cat(data_02_velocity))"
   ]
  },
  {
   "cell_type": "code",
   "execution_count": 67,
   "metadata": {},
   "outputs": [],
   "source": [
    "#plot growthclass + MT length\n",
    "f1_1 = Figure(resolution =(1200, 800))\n",
    "ax1_1 = Axis(f1_1[1,1:2]; xlabel = \"Timesteps\", ylabel = \"MT size\", title = \"MT size over time (p_depolym_GDP = 0.4)\", yticks=LinearTicks(10))\n",
    "\n",
    "for i in collect(1:250:99751)\n",
    "    vlines!(ax1_1, i, color = (:black, 0.5))\n",
    "end\n",
    "\n",
    "for i in collect(1:250:99751)\n",
    "    if data_05.growthclass[i] == -1.0\n",
    "        vspan!(ax1_1, i, i+249, color = (:red, 0.5), label = \"catastrophe\")\n",
    "    elseif data_05.growthclass[i] == 1.0\n",
    "        vspan!(ax1_1, i, i+249, color = (:green, 0.5), label = \"growth\")\n",
    "    end\n",
    "end\n",
    "lines!(ax1_1, data_05.step, data_05.mean_MT_size, label = \"MT length\", color = :black)\n",
    "f1_1"
   ]
  },
  {
   "cell_type": "markdown",
   "metadata": {},
   "source": [
    "### 2.2 Test 2: Compare Growth Velocity of ensembled models for different parameters"
   ]
  },
  {
   "cell_type": "code",
   "execution_count": 75,
   "metadata": {},
   "outputs": [],
   "source": [
    "models = [initialize(;\n",
    "        Nstarts = 1,\n",
    "        periodic = true,\n",
    "        numagents = 1000,\n",
    "        griddims = (100,100), \n",
    "        p_polym = 1.0,\n",
    "        p_hyd = 0.02,\n",
    "        p_GTP_exchange = 0.01,\n",
    "        p_depolym_GTP = 0.0,\n",
    "        p_depolym_GDP = x)  \n",
    "    for x in repeat(collect([0:0.1:1]...), 10)]\n",
    "mdata = [mean_MT_size, (:p_depolym_GDP)]\n",
    "mlabels = [\"mean MT length\", \"p_depolym_GDP\"]\n",
    "\n",
    "data_ens = ensemblerun!(models, agent_step!, model_step!, 10000; mdata)\n",
    "serialize(\"data/growthrate_test_data_p_depolym_GDP_10ensemble_1Nstart_10ksteps.jls\", data_ens[2])"
   ]
  },
  {
   "cell_type": "code",
   "execution_count": 85,
   "metadata": {},
   "outputs": [
    {
     "data": {
      "text/html": [
       "<div class=\"data-frame\"><p>11 rows × 2 columns</p><table class=\"data-frame\"><thead><tr><th></th><th>p_depolym_GDP</th><th>mean_velocity_mean</th></tr><tr><th></th><th title=\"Float64\">Float64</th><th title=\"Float64\">Float64</th></tr></thead><tbody><tr><th>1</th><td>0.0</td><td>0.0432759</td></tr><tr><th>2</th><td>0.1</td><td>0.031532</td></tr><tr><th>3</th><td>0.2</td><td>0.0280415</td></tr><tr><th>4</th><td>0.3</td><td>0.0279959</td></tr><tr><th>5</th><td>0.4</td><td>0.0310627</td></tr><tr><th>6</th><td>0.5</td><td>0.0304314</td></tr><tr><th>7</th><td>0.6</td><td>0.0279088</td></tr><tr><th>8</th><td>0.7</td><td>0.0294697</td></tr><tr><th>9</th><td>0.8</td><td>0.0286975</td></tr><tr><th>10</th><td>0.9</td><td>0.025595</td></tr><tr><th>11</th><td>1.0</td><td>0.0239478</td></tr></tbody></table></div>"
      ],
      "text/latex": [
       "\\begin{tabular}{r|cc}\n",
       "\t& p\\_depolym\\_GDP & mean\\_velocity\\_mean\\\\\n",
       "\t\\hline\n",
       "\t& Float64 & Float64\\\\\n",
       "\t\\hline\n",
       "\t1 & 0.0 & 0.0432759 \\\\\n",
       "\t2 & 0.1 & 0.031532 \\\\\n",
       "\t3 & 0.2 & 0.0280415 \\\\\n",
       "\t4 & 0.3 & 0.0279959 \\\\\n",
       "\t5 & 0.4 & 0.0310627 \\\\\n",
       "\t6 & 0.5 & 0.0304314 \\\\\n",
       "\t7 & 0.6 & 0.0279088 \\\\\n",
       "\t8 & 0.7 & 0.0294697 \\\\\n",
       "\t9 & 0.8 & 0.0286975 \\\\\n",
       "\t10 & 0.9 & 0.025595 \\\\\n",
       "\t11 & 1.0 & 0.0239478 \\\\\n",
       "\\end{tabular}\n"
      ],
      "text/plain": [
       "\u001b[1m11×2 DataFrame\u001b[0m\n",
       "\u001b[1m Row \u001b[0m│\u001b[1m p_depolym_GDP \u001b[0m\u001b[1m mean_velocity_mean \u001b[0m\n",
       "\u001b[1m     \u001b[0m│\u001b[90m Float64       \u001b[0m\u001b[90m Float64            \u001b[0m\n",
       "─────┼───────────────────────────────────\n",
       "   1 │           0.0           0.0432759\n",
       "   2 │           0.1           0.031532\n",
       "   3 │           0.2           0.0280415\n",
       "   4 │           0.3           0.0279959\n",
       "   5 │           0.4           0.0310627\n",
       "   6 │           0.5           0.0304314\n",
       "   7 │           0.6           0.0279088\n",
       "   8 │           0.7           0.0294697\n",
       "   9 │           0.8           0.0286975\n",
       "  10 │           0.9           0.025595\n",
       "  11 │           1.0           0.0239478"
      ]
     },
     "metadata": {},
     "output_type": "display_data"
    }
   ],
   "source": [
    "data2_2 = deserialize(\"data/growthrate_test_data_p_depolym_GDP_10ensemble_1Nstart_10ksteps.jls\")\n",
    "mean_velocity_per_ensemble = []\n",
    "ensemble_p_depolym = repeat(collect(0.0:0.1:1.0), 10)\n",
    "\n",
    "for i in 1:110\n",
    "    sub_df = @subset(data2_2, :ensemble .== i)\n",
    "    sub_df_grow = growth_classification!(sub_df)\n",
    "    sub_df_velocity = velocity!(sub_df_grow)    \n",
    "    push!(mean_velocity_per_ensemble, mean_velocity_grow(sub_df_velocity))\n",
    "end\n",
    "\n",
    "summary = DataFrame(p_depolym_GDP = ensemble_p_depolym, mean_velocity = mean_velocity_per_ensemble)\n",
    "gdf = groupby(summary, :p_depolym_GDP)\n",
    "final = combine(gdf, [:mean_velocity] .=> [mean])\n"
   ]
  },
  {
   "cell_type": "code",
   "execution_count": 88,
   "metadata": {},
   "outputs": [],
   "source": [
    "fig = Figure()\n",
    "ax = Axis(fig[1,1], xticks = LinearTicks(11), ylabel = \"Mean Growing Velocity\", xlabel = \"p_depolym_GDP\")\n",
    "lines!(ax, final.p_depolym_GDP, final.mean_velocity_mean)\n",
    "fig"
   ]
  },
  {
   "cell_type": "markdown",
   "metadata": {},
   "source": [
    "### 2.3 Repeat Test 2 with more ensembles (p_depolym_GDP)\n",
    "runtime 234min"
   ]
  },
  {
   "cell_type": "code",
   "execution_count": 2,
   "metadata": {},
   "outputs": [],
   "source": [
    "@everywhere begin\n",
    "    models = [initialize(;\n",
    "            Nstarts = 1,\n",
    "            periodic = true,\n",
    "            numagents = 1000,\n",
    "            griddims = (100,100), \n",
    "            p_polym = 1.0,\n",
    "            p_hyd = 0.02,\n",
    "            p_GTP_exchange = 0.01,\n",
    "            p_depolym_GTP = 0.0,\n",
    "            p_depolym_GDP = x)  \n",
    "        for x in repeat(collect([0:0.1:1]...), 40)]\n",
    "    mdata = [mean_MT_size, (:p_depolym_GDP)]\n",
    "    mlabels = [\"mean MT length\", \"p_depolym_GDP\"]\n",
    "end\n",
    "data_ens = ensemblerun!(models, agent_step!, model_step!, 10000; mdata, parallel = true)\n",
    "serialize(\"data/growthrate_test_data_p_depolym_GDP_40ensemble_1Nstart_10ksteps.jls\", data_ens[2])"
   ]
  },
  {
   "cell_type": "code",
   "execution_count": 10,
   "metadata": {},
   "outputs": [
    {
     "data": {
      "text/html": [
       "<div class=\"data-frame\"><p>11 rows × 9 columns (omitted printing of 4 columns)</p><table class=\"data-frame\"><thead><tr><th></th><th>p_depolym_GDP</th><th>velocity_grow_mean</th><th>velocity_cat_mean</th><th>grow_frequency_mean</th><th>cat_frequency_mean</th></tr><tr><th></th><th title=\"Float64\">Float64</th><th title=\"Float64\">Float64</th><th title=\"Float64\">Float64</th><th title=\"Float64\">Float64</th><th title=\"Float64\">Float64</th></tr></thead><tbody><tr><th>1</th><td>0.0</td><td>0.0437005</td><td>0.0</td><td>0.000125</td><td>0.0</td></tr><tr><th>2</th><td>0.1</td><td>0.0305958</td><td>-0.0089196</td><td>0.000125</td><td>2.25e-5</td></tr><tr><th>3</th><td>0.2</td><td>0.0298643</td><td>-0.0432007</td><td>0.0004625</td><td>0.000355</td></tr><tr><th>4</th><td>0.3</td><td>0.0315309</td><td>-0.0488533</td><td>0.000855</td><td>0.000765</td></tr><tr><th>5</th><td>0.4</td><td>0.0330733</td><td>-0.0578501</td><td>0.0009625</td><td>0.000885</td></tr><tr><th>6</th><td>0.5</td><td>0.0319987</td><td>-0.0631921</td><td>0.00113</td><td>0.001065</td></tr><tr><th>7</th><td>0.6</td><td>0.031835</td><td>-0.0700232</td><td>0.001155</td><td>0.0010875</td></tr><tr><th>8</th><td>0.7</td><td>0.0301323</td><td>-0.0743622</td><td>0.00112</td><td>0.00104</td></tr><tr><th>9</th><td>0.8</td><td>0.0291933</td><td>-0.0770698</td><td>0.0010875</td><td>0.0009875</td></tr><tr><th>10</th><td>0.9</td><td>0.028312</td><td>-0.0836499</td><td>0.00102</td><td>0.000915</td></tr><tr><th>11</th><td>1.0</td><td>0.0273648</td><td>-0.0880738</td><td>0.00097</td><td>0.000875</td></tr></tbody></table></div>"
      ],
      "text/latex": [
       "\\begin{tabular}{r|cccccc}\n",
       "\t& p\\_depolym\\_GDP & velocity\\_grow\\_mean & velocity\\_cat\\_mean & grow\\_frequency\\_mean & cat\\_frequency\\_mean & \\\\\n",
       "\t\\hline\n",
       "\t& Float64 & Float64 & Float64 & Float64 & Float64 & \\\\\n",
       "\t\\hline\n",
       "\t1 & 0.0 & 0.0437005 & 0.0 & 0.000125 & 0.0 & $\\dots$ \\\\\n",
       "\t2 & 0.1 & 0.0305958 & -0.0089196 & 0.000125 & 2.25e-5 & $\\dots$ \\\\\n",
       "\t3 & 0.2 & 0.0298643 & -0.0432007 & 0.0004625 & 0.000355 & $\\dots$ \\\\\n",
       "\t4 & 0.3 & 0.0315309 & -0.0488533 & 0.000855 & 0.000765 & $\\dots$ \\\\\n",
       "\t5 & 0.4 & 0.0330733 & -0.0578501 & 0.0009625 & 0.000885 & $\\dots$ \\\\\n",
       "\t6 & 0.5 & 0.0319987 & -0.0631921 & 0.00113 & 0.001065 & $\\dots$ \\\\\n",
       "\t7 & 0.6 & 0.031835 & -0.0700232 & 0.001155 & 0.0010875 & $\\dots$ \\\\\n",
       "\t8 & 0.7 & 0.0301323 & -0.0743622 & 0.00112 & 0.00104 & $\\dots$ \\\\\n",
       "\t9 & 0.8 & 0.0291933 & -0.0770698 & 0.0010875 & 0.0009875 & $\\dots$ \\\\\n",
       "\t10 & 0.9 & 0.028312 & -0.0836499 & 0.00102 & 0.000915 & $\\dots$ \\\\\n",
       "\t11 & 1.0 & 0.0273648 & -0.0880738 & 0.00097 & 0.000875 & $\\dots$ \\\\\n",
       "\\end{tabular}\n"
      ],
      "text/plain": [
       "\u001b[1m11×9 DataFrame\u001b[0m\n",
       "\u001b[1m Row \u001b[0m│\u001b[1m p_depolym_GDP \u001b[0m\u001b[1m velocity_grow_mean \u001b[0m\u001b[1m velocity_cat_mean \u001b[0m\u001b[1m grow_frequency_me\u001b[0m ⋯\n",
       "\u001b[1m     \u001b[0m│\u001b[90m Float64       \u001b[0m\u001b[90m Float64            \u001b[0m\u001b[90m Float64           \u001b[0m\u001b[90m Float64          \u001b[0m ⋯\n",
       "─────┼──────────────────────────────────────────────────────────────────────────\n",
       "   1 │           0.0           0.0437005          0.0                  0.00012 ⋯\n",
       "   2 │           0.1           0.0305958         -0.0089196            0.00012\n",
       "   3 │           0.2           0.0298643         -0.0432007            0.00046\n",
       "   4 │           0.3           0.0315309         -0.0488533            0.00085\n",
       "   5 │           0.4           0.0330733         -0.0578501            0.00096 ⋯\n",
       "   6 │           0.5           0.0319987         -0.0631921            0.00113\n",
       "   7 │           0.6           0.031835          -0.0700232            0.00115\n",
       "   8 │           0.7           0.0301323         -0.0743622            0.00112\n",
       "   9 │           0.8           0.0291933         -0.0770698            0.00108 ⋯\n",
       "  10 │           0.9           0.028312          -0.0836499            0.00102\n",
       "  11 │           1.0           0.0273648         -0.0880738            0.00097\n",
       "\u001b[36m                                                               6 columns omitted\u001b[0m"
      ]
     },
     "metadata": {},
     "output_type": "display_data"
    }
   ],
   "source": [
    "data2_3 = deserialize(\"data/growthrate_test_data_p_depolym_GDP_40ensemble_1Nstart_10ksteps.jls\")\n",
    "mean_gr_velocity_per_ensemble = []\n",
    "gr_frequency = []\n",
    "mean_cat_velocity_per_ensemble = []\n",
    "cat_frequency = []\n",
    "ensemble_p_depolym = repeat(collect(0.0:0.1:1.0), 40)\n",
    "\n",
    "for i in 1:440 #number of ensembles\n",
    "    sub_df_velocity = velocity(growth_classification!(@subset(data2_3, :ensemble .== i), section_size = 200))    \n",
    "    push!(mean_gr_velocity_per_ensemble, mean_velocity_grow(sub_df_velocity))\n",
    "    push!(mean_cat_velocity_per_ensemble, mean_velocity_cat(sub_df_velocity))\n",
    "\n",
    "    push!(gr_frequency, count(i->(i > 0), sub_df_velocity.velocity)/10000)\n",
    "    push!(cat_frequency, count(i->(i < 0), sub_df_velocity.velocity)/10000)\n",
    "end\n",
    "\n",
    "summary = DataFrame(p_depolym_GDP = ensemble_p_depolym, velocity_grow = mean_gr_velocity_per_ensemble,\n",
    " velocity_cat = mean_cat_velocity_per_ensemble, grow_frequency = gr_frequency, cat_frequency = cat_frequency )\n",
    "gdf = groupby(summary, :p_depolym_GDP)\n",
    "final = combine(gdf, [:velocity_grow , :velocity_cat, :grow_frequency, :cat_frequency] .=> [mean std])\n"
   ]
  },
  {
   "cell_type": "code",
   "execution_count": 16,
   "metadata": {},
   "outputs": [],
   "source": [
    "#Growth and Catastrophe Frequencies plotted\n",
    "fig2 = Figure(resolution = (1200,600))\n",
    "ax2 = Axis(fig2[1,1], xticks = LinearTicks(13), yticks = LinearTicks(7), xlabel = \"p_depolym_GDP\")\n",
    "ax2_2 = Axis(fig2[1,2], xticks = LinearTicks(13), yticks = LinearTicks(7), xlabel = \"p_depolym_GDP\")\n",
    "ylims!(ax2, 0, 0.0014)\n",
    "ylims!(ax2_2, 0, 0.0014)\n",
    "barplot!(ax2_2, final.p_depolym_GDP, final.grow_frequency_mean, label = \"Growth\", color = :green, fillto = 0, strokecolor = :black, strokewidth = 2)\n",
    "errorbars!(ax2_2, final.p_depolym_GDP, final.grow_frequency_mean, final.grow_frequency_std, color = :black, whiskerwidth = 10)\n",
    "barplot!(ax2, final.p_depolym_GDP, final.cat_frequency_mean, label = \"Catastrophe\", color = :red, fillto = 0, strokecolor = :black, strokewidth = 2)\n",
    "errorbars!(ax2, final.p_depolym_GDP, final.cat_frequency_mean, final.cat_frequency_std, color = :black, whiskerwidth = 10)\n",
    "\n",
    "axislegend(ax2)\n",
    "axislegend(ax2_2)\n",
    "Label(fig2[0,1:2], \"Growth and Catastrophe Frequencies [1/step]\", textsize = 30)\n",
    "fig2"
   ]
  },
  {
   "cell_type": "code",
   "execution_count": 15,
   "metadata": {},
   "outputs": [],
   "source": [
    "#Growth and Catastrophe velocities plotted\n",
    "fig2_1 = Figure(resolution = (600,600))\n",
    "ax2_1 = Axis(fig2_1[1,1], xticks = LinearTicks(13), yticks = LinearTicks(7), ylabel = \"Mean Velocity [tub/step]\", xlabel = \"p_depolym_GDP\")\n",
    "\n",
    "barplot!(ax2_1, final.p_depolym_GDP, final.velocity_grow_mean, gap = 0, label = \"Growth\", color = :green, fillto = 0, strokecolor = :black, strokewidth = 2)\n",
    "errorbars!(ax2_1, final.p_depolym_GDP, final.velocity_grow_mean, [0 for i in 1:nrow(final)], final.velocity_grow_std, color = :black, whiskerwidth = 10)\n",
    "barplot!(ax2_1, final.p_depolym_GDP, final.velocity_cat_mean, gap = 0, label = \"Catastrophe\", color = :red, fillto = 0, strokecolor = :black, strokewidth = 2)\n",
    "errorbars!(ax2_1, final.p_depolym_GDP, final.velocity_cat_mean, final.velocity_cat_std, [0 for i in 1:nrow(final)], color = :black, whiskerwidth = 10)\n",
    "\n",
    "hlines!(ax2_1, 0, color = :black)\n",
    "axislegend(ax2_1)\n",
    "fig2_1"
   ]
  },
  {
   "cell_type": "code",
   "execution_count": 3,
   "id": "e3947fc2-d908-4313-9d44-94d92a230c08",
   "metadata": {},
   "outputs": [],
   "source": [
    "gdf = groupby(data2_3, [:step, :p_depolym_GDP]) #:ensemble .!= 88, :ensemble .!= 86         \n",
    "sum_2_3 = combine(gdf, [:mean_MT_size] .=> [mean]);"
   ]
  },
  {
   "cell_type": "code",
   "execution_count": 4,
   "id": "cd7b508f",
   "metadata": {},
   "outputs": [
    {
     "data": {
      "text/plain": [
       "GLMakie.Screen(...)"
      ]
     },
     "metadata": {},
     "output_type": "display_data"
    }
   ],
   "source": [
    "#MT length over time\n",
    "f2_3 = Figure(resolution =(1200, 600))\n",
    "ax2_3 = Axis(f2_3[1,1]; xlabel = \"Timesteps\", ylabel = \"MT size\", title = \"Mean MT length over time (40x ensemble)\")\n",
    "range = collect(0.0:0.1:1.0)\n",
    "\n",
    "for (i,v) in enumerate(range)\n",
    "    sub_data = @subset(sum_2_3, :p_depolym_GDP .== v)\n",
    "    lines!(ax2_3, sub_data.step, sub_data.mean_MT_size_mean, label = \"$v\", color = co.tab20[i])\n",
    "end\n",
    "\n",
    "\n",
    "Legend(f2_3[2,1], ax2_3, \"p_depolym_GDP\", orientation = :horizontal, tellwidth = false, tellheight = true)\n",
    "\n",
    "display(f2_3)"
   ]
  },
  {
   "cell_type": "code",
   "execution_count": 40,
   "metadata": {},
   "outputs": [
    {
     "data": {
      "text/plain": [
       "GLMakie.Screen(...)"
      ]
     },
     "metadata": {},
     "output_type": "display_data"
    }
   ],
   "source": [
    "#MT length over time for single ensemble\n",
    "f2_3_1 = Figure(resolution =(1200, 600))\n",
    "ax2_3_1 = Axis(f2_3_1[1,1]; xlabel = \"Timesteps\", ylabel = \"MT size\", title = \"Mean MT length over time (10x ensemble) - excluded ensemble..\")\n",
    "range = [0.5]#collect(0.0:0.1:1.0)\n",
    "\n",
    "for (i,v) in enumerate(range)\n",
    "    sub_data = @subset(data2_3, :p_depolym_GDP .== v, :ensemble .== 6)\n",
    "    lines!(ax2_3_1, sub_data.step, sub_data.mean_MT_size, label = \"$v\", color = co.tab20[i])\n",
    "end\n",
    "\n",
    "\n",
    "Legend(f2_3_1[2,1], ax2_3_1, \"p_depolym_GDP\", orientation = :horizontal, tellwidth = false, tellheight = true)\n",
    "\n",
    "display(f2_3_1)"
   ]
  },
  {
   "cell_type": "markdown",
   "metadata": {},
   "source": [
    "### 2.4 Ensemble for p_polym\n",
    "runtime 239 min"
   ]
  },
  {
   "cell_type": "code",
   "execution_count": 2,
   "metadata": {},
   "outputs": [],
   "source": [
    "@everywhere begin\n",
    "    models = [initialize(;\n",
    "            Nstarts = 1,\n",
    "            periodic = true,\n",
    "            numagents = 1000,\n",
    "            griddims = (100,100), \n",
    "            p_polym = x,\n",
    "            p_hyd = 0.024,\n",
    "            p_GTP_exchange = 0.01,\n",
    "            p_depolym_GTP = 0.0,\n",
    "            p_depolym_GDP = 0.1)  \n",
    "        for x in repeat(collect([0:0.1:1]...), 40)]\n",
    "    mdata = [mean_MT_size, (:p_depolym_GDP)]\n",
    "    mlabels = [\"mean MT length\", \"p_depolym_GDP\"]\n",
    "end\n",
    "data_ens = ensemblerun!(models, agent_step!, model_step!, 10000; mdata, parallel = true)\n",
    "serialize(\"data/growthrate_test_data_p_polym_40ensemble_1Nstart_10ksteps.jls\", data_ens[2])"
   ]
  },
  {
   "cell_type": "code",
   "execution_count": 4,
   "metadata": {},
   "outputs": [
    {
     "data": {
      "text/html": [
       "<div class=\"data-frame\"><p>4,400,440 rows × 5 columns</p><table class=\"data-frame\"><thead><tr><th></th><th>step</th><th>mean_MT_size</th><th>p_depolym_GDP</th><th>ensemble</th><th>p_polym</th></tr><tr><th></th><th title=\"Int64\">Int64</th><th title=\"Float64\">Float64</th><th title=\"Float64\">Float64</th><th title=\"Int64\">Int64</th><th title=\"Float64\">Float64</th></tr></thead><tbody><tr><th>1</th><td>0</td><td>1.0</td><td>0.1</td><td>1</td><td>0.0</td></tr><tr><th>2</th><td>1</td><td>1.0</td><td>0.1</td><td>1</td><td>0.0</td></tr><tr><th>3</th><td>2</td><td>1.0</td><td>0.1</td><td>1</td><td>0.0</td></tr><tr><th>4</th><td>3</td><td>1.0</td><td>0.1</td><td>1</td><td>0.0</td></tr><tr><th>5</th><td>4</td><td>1.0</td><td>0.1</td><td>1</td><td>0.0</td></tr><tr><th>6</th><td>5</td><td>1.0</td><td>0.1</td><td>1</td><td>0.0</td></tr><tr><th>7</th><td>6</td><td>1.0</td><td>0.1</td><td>1</td><td>0.0</td></tr><tr><th>8</th><td>7</td><td>1.0</td><td>0.1</td><td>1</td><td>0.0</td></tr><tr><th>9</th><td>8</td><td>1.0</td><td>0.1</td><td>1</td><td>0.0</td></tr><tr><th>10</th><td>9</td><td>1.0</td><td>0.1</td><td>1</td><td>0.0</td></tr><tr><th>11</th><td>10</td><td>1.0</td><td>0.1</td><td>1</td><td>0.0</td></tr><tr><th>12</th><td>11</td><td>1.0</td><td>0.1</td><td>1</td><td>0.0</td></tr><tr><th>13</th><td>12</td><td>1.0</td><td>0.1</td><td>1</td><td>0.0</td></tr><tr><th>14</th><td>13</td><td>1.0</td><td>0.1</td><td>1</td><td>0.0</td></tr><tr><th>15</th><td>14</td><td>1.0</td><td>0.1</td><td>1</td><td>0.0</td></tr><tr><th>16</th><td>15</td><td>1.0</td><td>0.1</td><td>1</td><td>0.0</td></tr><tr><th>17</th><td>16</td><td>1.0</td><td>0.1</td><td>1</td><td>0.0</td></tr><tr><th>18</th><td>17</td><td>1.0</td><td>0.1</td><td>1</td><td>0.0</td></tr><tr><th>19</th><td>18</td><td>1.0</td><td>0.1</td><td>1</td><td>0.0</td></tr><tr><th>20</th><td>19</td><td>1.0</td><td>0.1</td><td>1</td><td>0.0</td></tr><tr><th>21</th><td>20</td><td>1.0</td><td>0.1</td><td>1</td><td>0.0</td></tr><tr><th>22</th><td>21</td><td>1.0</td><td>0.1</td><td>1</td><td>0.0</td></tr><tr><th>23</th><td>22</td><td>1.0</td><td>0.1</td><td>1</td><td>0.0</td></tr><tr><th>24</th><td>23</td><td>1.0</td><td>0.1</td><td>1</td><td>0.0</td></tr><tr><th>&vellip;</th><td>&vellip;</td><td>&vellip;</td><td>&vellip;</td><td>&vellip;</td><td>&vellip;</td></tr></tbody></table></div>"
      ],
      "text/latex": [
       "\\begin{tabular}{r|ccccc}\n",
       "\t& step & mean\\_MT\\_size & p\\_depolym\\_GDP & ensemble & p\\_polym\\\\\n",
       "\t\\hline\n",
       "\t& Int64 & Float64 & Float64 & Int64 & Float64\\\\\n",
       "\t\\hline\n",
       "\t1 & 0 & 1.0 & 0.1 & 1 & 0.0 \\\\\n",
       "\t2 & 1 & 1.0 & 0.1 & 1 & 0.0 \\\\\n",
       "\t3 & 2 & 1.0 & 0.1 & 1 & 0.0 \\\\\n",
       "\t4 & 3 & 1.0 & 0.1 & 1 & 0.0 \\\\\n",
       "\t5 & 4 & 1.0 & 0.1 & 1 & 0.0 \\\\\n",
       "\t6 & 5 & 1.0 & 0.1 & 1 & 0.0 \\\\\n",
       "\t7 & 6 & 1.0 & 0.1 & 1 & 0.0 \\\\\n",
       "\t8 & 7 & 1.0 & 0.1 & 1 & 0.0 \\\\\n",
       "\t9 & 8 & 1.0 & 0.1 & 1 & 0.0 \\\\\n",
       "\t10 & 9 & 1.0 & 0.1 & 1 & 0.0 \\\\\n",
       "\t11 & 10 & 1.0 & 0.1 & 1 & 0.0 \\\\\n",
       "\t12 & 11 & 1.0 & 0.1 & 1 & 0.0 \\\\\n",
       "\t13 & 12 & 1.0 & 0.1 & 1 & 0.0 \\\\\n",
       "\t14 & 13 & 1.0 & 0.1 & 1 & 0.0 \\\\\n",
       "\t15 & 14 & 1.0 & 0.1 & 1 & 0.0 \\\\\n",
       "\t16 & 15 & 1.0 & 0.1 & 1 & 0.0 \\\\\n",
       "\t17 & 16 & 1.0 & 0.1 & 1 & 0.0 \\\\\n",
       "\t18 & 17 & 1.0 & 0.1 & 1 & 0.0 \\\\\n",
       "\t19 & 18 & 1.0 & 0.1 & 1 & 0.0 \\\\\n",
       "\t20 & 19 & 1.0 & 0.1 & 1 & 0.0 \\\\\n",
       "\t21 & 20 & 1.0 & 0.1 & 1 & 0.0 \\\\\n",
       "\t22 & 21 & 1.0 & 0.1 & 1 & 0.0 \\\\\n",
       "\t23 & 22 & 1.0 & 0.1 & 1 & 0.0 \\\\\n",
       "\t24 & 23 & 1.0 & 0.1 & 1 & 0.0 \\\\\n",
       "\t$\\dots$ & $\\dots$ & $\\dots$ & $\\dots$ & $\\dots$ & $\\dots$ \\\\\n",
       "\\end{tabular}\n"
      ],
      "text/plain": [
       "\u001b[1m4400440×5 DataFrame\u001b[0m\n",
       "\u001b[1m     Row \u001b[0m│\u001b[1m step  \u001b[0m\u001b[1m mean_MT_size \u001b[0m\u001b[1m p_depolym_GDP \u001b[0m\u001b[1m ensemble \u001b[0m\u001b[1m p_polym \u001b[0m\n",
       "\u001b[1m         \u001b[0m│\u001b[90m Int64 \u001b[0m\u001b[90m Float64      \u001b[0m\u001b[90m Float64       \u001b[0m\u001b[90m Int64    \u001b[0m\u001b[90m Float64 \u001b[0m\n",
       "─────────┼───────────────────────────────────────────────────────\n",
       "       1 │     0           1.0            0.1         1      0.0\n",
       "       2 │     1           1.0            0.1         1      0.0\n",
       "       3 │     2           1.0            0.1         1      0.0\n",
       "       4 │     3           1.0            0.1         1      0.0\n",
       "       5 │     4           1.0            0.1         1      0.0\n",
       "       6 │     5           1.0            0.1         1      0.0\n",
       "       7 │     6           1.0            0.1         1      0.0\n",
       "       8 │     7           1.0            0.1         1      0.0\n",
       "    ⋮    │   ⋮         ⋮              ⋮           ⋮         ⋮\n",
       " 4400434 │  9994         100.0            0.1       440      1.0\n",
       " 4400435 │  9995         100.0            0.1       440      1.0\n",
       " 4400436 │  9996         100.0            0.1       440      1.0\n",
       " 4400437 │  9997         100.0            0.1       440      1.0\n",
       " 4400438 │  9998         100.0            0.1       440      1.0\n",
       " 4400439 │  9999         100.0            0.1       440      1.0\n",
       " 4400440 │ 10000         100.0            0.1       440      1.0\n",
       "\u001b[36m                                             4400425 rows omitted\u001b[0m"
      ]
     },
     "metadata": {},
     "output_type": "display_data"
    }
   ],
   "source": [
    "data2_4_1 = deserialize(\"data/growthrate_test_data_p_polym_40ensemble_1Nstart_10ksteps.jls\")\n",
    "ensemble_p_polym = repeat(collect(0.0:0.1:1.0), 40)\n",
    "ensembles = collect(1:440)\n",
    "df = DataFrame(ensemble = ensembles, p_polym = ensemble_p_polym)\n",
    "data2_4 = innerjoin(data2_4_1, df, on = :ensemble)"
   ]
  },
  {
   "cell_type": "code",
   "execution_count": 11,
   "metadata": {},
   "outputs": [
    {
     "data": {
      "text/html": [
       "<div class=\"data-frame\"><p>10 rows × 9 columns (omitted printing of 4 columns)</p><table class=\"data-frame\"><thead><tr><th></th><th>p_polym</th><th>velocity_grow_mean</th><th>velocity_cat_mean</th><th>grow_frequency_mean</th><th>cat_frequency_mean</th></tr><tr><th></th><th title=\"Float64\">Float64</th><th title=\"Float64\">Float64</th><th title=\"Float64\">Float64</th><th title=\"Float64\">Float64</th><th title=\"Float64\">Float64</th></tr></thead><tbody><tr><th>1</th><td>0.1</td><td>0.00776544</td><td>0.0</td><td>0.0010225</td><td>0.0</td></tr><tr><th>2</th><td>0.2</td><td>0.00573337</td><td>0.0</td><td>0.0005825</td><td>0.0</td></tr><tr><th>3</th><td>0.3</td><td>0.00487024</td><td>-0.0111446</td><td>0.000265</td><td>2.25e-5</td></tr><tr><th>4</th><td>0.4</td><td>0.0060028</td><td>-0.0278088</td><td>0.0001975</td><td>7.25e-5</td></tr><tr><th>5</th><td>0.5</td><td>0.0105231</td><td>-0.0388052</td><td>0.0002075</td><td>0.00011</td></tr><tr><th>6</th><td>0.6</td><td>0.0131673</td><td>-0.0204317</td><td>0.000165</td><td>6.0e-5</td></tr><tr><th>7</th><td>0.7</td><td>0.0178795</td><td>-0.0174029</td><td>0.00015</td><td>5.0e-5</td></tr><tr><th>8</th><td>0.8</td><td>0.0227403</td><td>-0.0107418</td><td>0.00014</td><td>4.0e-5</td></tr><tr><th>9</th><td>0.9</td><td>0.0241031</td><td>-0.00853414</td><td>0.0001225</td><td>2.25e-5</td></tr><tr><th>10</th><td>1.0</td><td>0.0278419</td><td>-0.0063755</td><td>0.0001225</td><td>2.25e-5</td></tr></tbody></table></div>"
      ],
      "text/latex": [
       "\\begin{tabular}{r|cccccc}\n",
       "\t& p\\_polym & velocity\\_grow\\_mean & velocity\\_cat\\_mean & grow\\_frequency\\_mean & cat\\_frequency\\_mean & \\\\\n",
       "\t\\hline\n",
       "\t& Float64 & Float64 & Float64 & Float64 & Float64 & \\\\\n",
       "\t\\hline\n",
       "\t1 & 0.1 & 0.00776544 & 0.0 & 0.0010225 & 0.0 & $\\dots$ \\\\\n",
       "\t2 & 0.2 & 0.00573337 & 0.0 & 0.0005825 & 0.0 & $\\dots$ \\\\\n",
       "\t3 & 0.3 & 0.00487024 & -0.0111446 & 0.000265 & 2.25e-5 & $\\dots$ \\\\\n",
       "\t4 & 0.4 & 0.0060028 & -0.0278088 & 0.0001975 & 7.25e-5 & $\\dots$ \\\\\n",
       "\t5 & 0.5 & 0.0105231 & -0.0388052 & 0.0002075 & 0.00011 & $\\dots$ \\\\\n",
       "\t6 & 0.6 & 0.0131673 & -0.0204317 & 0.000165 & 6.0e-5 & $\\dots$ \\\\\n",
       "\t7 & 0.7 & 0.0178795 & -0.0174029 & 0.00015 & 5.0e-5 & $\\dots$ \\\\\n",
       "\t8 & 0.8 & 0.0227403 & -0.0107418 & 0.00014 & 4.0e-5 & $\\dots$ \\\\\n",
       "\t9 & 0.9 & 0.0241031 & -0.00853414 & 0.0001225 & 2.25e-5 & $\\dots$ \\\\\n",
       "\t10 & 1.0 & 0.0278419 & -0.0063755 & 0.0001225 & 2.25e-5 & $\\dots$ \\\\\n",
       "\\end{tabular}\n"
      ],
      "text/plain": [
       "\u001b[1m10×9 DataFrame\u001b[0m\n",
       "\u001b[1m Row \u001b[0m│\u001b[1m p_polym \u001b[0m\u001b[1m velocity_grow_mean \u001b[0m\u001b[1m velocity_cat_mean \u001b[0m\u001b[1m grow_frequency_mean \u001b[0m\u001b[1m ca\u001b[0m ⋯\n",
       "\u001b[1m     \u001b[0m│\u001b[90m Float64 \u001b[0m\u001b[90m Float64            \u001b[0m\u001b[90m Float64           \u001b[0m\u001b[90m Float64             \u001b[0m\u001b[90m Fl\u001b[0m ⋯\n",
       "─────┼──────────────────────────────────────────────────────────────────────────\n",
       "   1 │     0.1          0.00776544         0.0                   0.0010225     ⋯\n",
       "   2 │     0.2          0.00573337         0.0                   0.0005825\n",
       "   3 │     0.3          0.00487024        -0.0111446             0.000265\n",
       "   4 │     0.4          0.0060028         -0.0278088             0.0001975\n",
       "   5 │     0.5          0.0105231         -0.0388052             0.0002075     ⋯\n",
       "   6 │     0.6          0.0131673         -0.0204317             0.000165\n",
       "   7 │     0.7          0.0178795         -0.0174029             0.00015\n",
       "   8 │     0.8          0.0227403         -0.0107418             0.00014\n",
       "   9 │     0.9          0.0241031         -0.00853414            0.0001225     ⋯\n",
       "  10 │     1.0          0.0278419         -0.0063755             0.0001225\n",
       "\u001b[36m                                                               5 columns omitted\u001b[0m"
      ]
     },
     "metadata": {},
     "output_type": "display_data"
    }
   ],
   "source": [
    "mean_gr_velocity_per_ensemble = []\n",
    "mean_cat_velocity_per_ensemble = []\n",
    "gr_frequency = []\n",
    "cat_frequency = []\n",
    "ensemble_p_polym = repeat(collect(0.1:0.1:1.0), 40)\n",
    "data2_4_2 = @subset(data2_4, :p_polym .!= 0.0)\n",
    "for i in 1:440 #number of ensembles\n",
    "    if i ∉ [(1+n*11) for n in 0:39]\n",
    "    sub_df_velocity = velocity!(growth_classification!(@subset(data2_4, :ensemble .== i)))    \n",
    "    push!(mean_gr_velocity_per_ensemble, mean_velocity_grow(sub_df_velocity))\n",
    "    push!(mean_cat_velocity_per_ensemble, mean_velocity_cat(sub_df_velocity))\n",
    "    \n",
    "    push!(gr_frequency, count(i->(i > 0), sub_df_velocity.velocity)/10000)\n",
    "    push!(cat_frequency, count(i->(i < 0), sub_df_velocity.velocity)/10000)\n",
    "\n",
    "    end\n",
    "end\n",
    "\n",
    "summary = DataFrame(p_polym = ensemble_p_polym, velocity_grow = mean_gr_velocity_per_ensemble,\n",
    " velocity_cat = mean_cat_velocity_per_ensemble, grow_frequency = gr_frequency, cat_frequency = cat_frequency )\n",
    "gdf = groupby(summary, :p_polym)\n",
    "final = combine(gdf, [:velocity_grow , :velocity_cat, :grow_frequency, :cat_frequency] .=> [mean std])\n"
   ]
  },
  {
   "cell_type": "code",
   "execution_count": 36,
   "metadata": {},
   "outputs": [],
   "source": [
    "#Growth and Catastrophe velocities plotted\n",
    "fig2_4 = Figure(resolution = (600,600))\n",
    "ax2_4 = Axis(fig2_4[1,1], xticks = LinearTicks(13), yticks = LinearTicks(7), ylabel = \"Mean Velocity [tub/step]\", xlabel = \"p_polym\")\n",
    "\n",
    "barplot!(ax2_4, final.p_polym, final.velocity_grow_mean, label = \"Growth\", color = :green, fillto = 0, strokecolor = :black, strokewidth = 2)\n",
    "errorbars!(ax2_4, final.p_polym, final.velocity_grow_mean, [0 for i in 1:nrow(final)], final.velocity_grow_std, color = :black, whiskerwidth = 10)\n",
    "barplot!(ax2_4, final.p_polym, final.velocity_cat_mean, label = \"Catastrophe\", color = :red, fillto = 0, strokecolor = :black, strokewidth = 2)\n",
    "errorbars!(ax2_4, final.p_polym, final.velocity_cat_mean, final.velocity_cat_std, [0 for i in 1:nrow(final)], color = :black, whiskerwidth = 10)\n",
    "\n",
    "hlines!(ax2_4, 0, color = :black)\n",
    "axislegend(ax2_4, position = :lt)\n",
    "fig2_4"
   ]
  },
  {
   "cell_type": "code",
   "execution_count": 72,
   "metadata": {},
   "outputs": [],
   "source": [
    "#Growth and Catastrophe Frequencies plotted\n",
    "fig2 = Figure(resolution = (1200,600))\n",
    "ax2 = Axis(fig2[1,1], xticks = LinearTicks(13), yticks = LinearTicks(7), xlabel = \"p_polym\")\n",
    "ax2_2 = Axis(fig2[1,2], xticks = LinearTicks(13), yticks = LinearTicks(7), xlabel = \"p_polym\")\n",
    "ylims!(ax2, 0, 0.0013)\n",
    "ylims!(ax2_2, 0, 0.0013)\n",
    "barplot!(ax2_2, final.p_polym, final.grow_frequency_mean, label = \"Growth\", color = :green, fillto = 0, strokecolor = :black, strokewidth = 2)\n",
    "errorbars!(ax2_2, final.p_polym, final.grow_frequency_mean, final.grow_frequency_std, color = :black, whiskerwidth = 10)\n",
    "barplot!(ax2, final.p_polym, final.cat_frequency_mean, label = \"Catastrophe\", color = :red, fillto = 0, strokecolor = :black, strokewidth = 2)\n",
    "errorbars!(ax2, final.p_polym, final.cat_frequency_mean, final.cat_frequency_std, color = :black, whiskerwidth = 10)\n",
    "\n",
    "axislegend(ax2)\n",
    "axislegend(ax2_2)\n",
    "Label(fig2[0,1:2], \"Growth and Catastrophe Frequencies [1/step]\", textsize = 30)\n",
    "fig2"
   ]
  },
  {
   "cell_type": "code",
   "execution_count": 30,
   "id": "e3947fc2-d908-4313-9d44-94d92a230c08",
   "metadata": {},
   "outputs": [
    {
     "data": {
      "text/html": [
       "<div class=\"data-frame\"><p>110,011 rows × 3 columns</p><table class=\"data-frame\"><thead><tr><th></th><th>step</th><th>p_polym</th><th>mean_MT_size_mean</th></tr><tr><th></th><th title=\"Int64\">Int64</th><th title=\"Float64\">Float64</th><th title=\"Float64\">Float64</th></tr></thead><tbody><tr><th>1</th><td>0</td><td>0.0</td><td>1.0</td></tr><tr><th>2</th><td>1</td><td>0.0</td><td>1.0</td></tr><tr><th>3</th><td>2</td><td>0.0</td><td>1.0</td></tr><tr><th>4</th><td>3</td><td>0.0</td><td>1.0</td></tr><tr><th>5</th><td>4</td><td>0.0</td><td>1.0</td></tr><tr><th>6</th><td>5</td><td>0.0</td><td>1.0</td></tr><tr><th>7</th><td>6</td><td>0.0</td><td>1.0</td></tr><tr><th>8</th><td>7</td><td>0.0</td><td>1.0</td></tr><tr><th>9</th><td>8</td><td>0.0</td><td>1.0</td></tr><tr><th>10</th><td>9</td><td>0.0</td><td>1.0</td></tr><tr><th>11</th><td>10</td><td>0.0</td><td>1.0</td></tr><tr><th>12</th><td>11</td><td>0.0</td><td>1.0</td></tr><tr><th>13</th><td>12</td><td>0.0</td><td>1.0</td></tr><tr><th>14</th><td>13</td><td>0.0</td><td>1.0</td></tr><tr><th>15</th><td>14</td><td>0.0</td><td>1.0</td></tr><tr><th>16</th><td>15</td><td>0.0</td><td>1.0</td></tr><tr><th>17</th><td>16</td><td>0.0</td><td>1.0</td></tr><tr><th>18</th><td>17</td><td>0.0</td><td>1.0</td></tr><tr><th>19</th><td>18</td><td>0.0</td><td>1.0</td></tr><tr><th>20</th><td>19</td><td>0.0</td><td>1.0</td></tr><tr><th>21</th><td>20</td><td>0.0</td><td>1.0</td></tr><tr><th>22</th><td>21</td><td>0.0</td><td>1.0</td></tr><tr><th>23</th><td>22</td><td>0.0</td><td>1.0</td></tr><tr><th>24</th><td>23</td><td>0.0</td><td>1.0</td></tr><tr><th>&vellip;</th><td>&vellip;</td><td>&vellip;</td><td>&vellip;</td></tr></tbody></table></div>"
      ],
      "text/latex": [
       "\\begin{tabular}{r|ccc}\n",
       "\t& step & p\\_polym & mean\\_MT\\_size\\_mean\\\\\n",
       "\t\\hline\n",
       "\t& Int64 & Float64 & Float64\\\\\n",
       "\t\\hline\n",
       "\t1 & 0 & 0.0 & 1.0 \\\\\n",
       "\t2 & 1 & 0.0 & 1.0 \\\\\n",
       "\t3 & 2 & 0.0 & 1.0 \\\\\n",
       "\t4 & 3 & 0.0 & 1.0 \\\\\n",
       "\t5 & 4 & 0.0 & 1.0 \\\\\n",
       "\t6 & 5 & 0.0 & 1.0 \\\\\n",
       "\t7 & 6 & 0.0 & 1.0 \\\\\n",
       "\t8 & 7 & 0.0 & 1.0 \\\\\n",
       "\t9 & 8 & 0.0 & 1.0 \\\\\n",
       "\t10 & 9 & 0.0 & 1.0 \\\\\n",
       "\t11 & 10 & 0.0 & 1.0 \\\\\n",
       "\t12 & 11 & 0.0 & 1.0 \\\\\n",
       "\t13 & 12 & 0.0 & 1.0 \\\\\n",
       "\t14 & 13 & 0.0 & 1.0 \\\\\n",
       "\t15 & 14 & 0.0 & 1.0 \\\\\n",
       "\t16 & 15 & 0.0 & 1.0 \\\\\n",
       "\t17 & 16 & 0.0 & 1.0 \\\\\n",
       "\t18 & 17 & 0.0 & 1.0 \\\\\n",
       "\t19 & 18 & 0.0 & 1.0 \\\\\n",
       "\t20 & 19 & 0.0 & 1.0 \\\\\n",
       "\t21 & 20 & 0.0 & 1.0 \\\\\n",
       "\t22 & 21 & 0.0 & 1.0 \\\\\n",
       "\t23 & 22 & 0.0 & 1.0 \\\\\n",
       "\t24 & 23 & 0.0 & 1.0 \\\\\n",
       "\t$\\dots$ & $\\dots$ & $\\dots$ & $\\dots$ \\\\\n",
       "\\end{tabular}\n"
      ],
      "text/plain": [
       "\u001b[1m110011×3 DataFrame\u001b[0m\n",
       "\u001b[1m    Row \u001b[0m│\u001b[1m step  \u001b[0m\u001b[1m p_polym \u001b[0m\u001b[1m mean_MT_size_mean \u001b[0m\n",
       "\u001b[1m        \u001b[0m│\u001b[90m Int64 \u001b[0m\u001b[90m Float64 \u001b[0m\u001b[90m Float64           \u001b[0m\n",
       "────────┼───────────────────────────────────\n",
       "      1 │     0      0.0                1.0\n",
       "      2 │     1      0.0                1.0\n",
       "      3 │     2      0.0                1.0\n",
       "      4 │     3      0.0                1.0\n",
       "      5 │     4      0.0                1.0\n",
       "      6 │     5      0.0                1.0\n",
       "      7 │     6      0.0                1.0\n",
       "      8 │     7      0.0                1.0\n",
       "   ⋮    │   ⋮       ⋮             ⋮\n",
       " 110005 │  9994      1.0              100.0\n",
       " 110006 │  9995      1.0              100.0\n",
       " 110007 │  9996      1.0              100.0\n",
       " 110008 │  9997      1.0              100.0\n",
       " 110009 │  9998      1.0              100.0\n",
       " 110010 │  9999      1.0              100.0\n",
       " 110011 │ 10000      1.0              100.0\n",
       "\u001b[36m                         109996 rows omitted\u001b[0m"
      ]
     },
     "metadata": {},
     "output_type": "display_data"
    }
   ],
   "source": [
    "gdf = groupby(data2_4, [:step, :p_polym]) #:ensemble .!= 88, :ensemble .!= 86         \n",
    "sum_2_4 = combine(gdf, [:mean_MT_size] .=> [mean])"
   ]
  },
  {
   "cell_type": "code",
   "execution_count": 32,
   "id": "cd7b508f",
   "metadata": {},
   "outputs": [
    {
     "data": {
      "text/plain": [
       "GLMakie.Screen(...)"
      ]
     },
     "metadata": {},
     "output_type": "display_data"
    }
   ],
   "source": [
    "#MT length over time\n",
    "f2_4 = Figure(resolution =(1200, 600))\n",
    "ax2_4 = Axis(f2_4[1,1]; xlabel = \"Timesteps\", ylabel = \"MT size\", title = \"Mean MT length over time (10x ensemble) - excluded ensemble..\")\n",
    "range = collect(0.0:0.1:0.1)\n",
    "\n",
    "for (i,v) in enumerate(range)\n",
    "    sub_data = @subset(sum_2_4, :p_polym .== v)\n",
    "    lines!(ax2_4, sub_data.step, sub_data.mean_MT_size_mean, label = \"$v\", color = co.tab20[i])\n",
    "end\n",
    "\n",
    "\n",
    "Legend(f2_4[2,1], ax2_4, \"p_polym\", orientation = :horizontal, tellwidth = false, tellheight = true)\n",
    "\n",
    "display(f2_4)"
   ]
  },
  {
   "cell_type": "markdown",
   "metadata": {},
   "source": [
    "### 2.5 Ensemble for p_hyd\n",
    "runtime 11 min"
   ]
  },
  {
   "cell_type": "code",
   "execution_count": 2,
   "metadata": {},
   "outputs": [],
   "source": [
    "@everywhere begin\n",
    "    models = [initialize(;\n",
    "            Nstarts = 4,\n",
    "            periodic = true,\n",
    "            numagents = 1000,\n",
    "            griddims = (100,100), \n",
    "            p_polym = 1.0,\n",
    "            p_hyd = x,\n",
    "            p_GTP_exchange = 0.01,\n",
    "            p_depolym_GTP = 0.0,\n",
    "            p_depolym_GDP = 0.5)  \n",
    "        for x in repeat(collect([0.003:0.003:0.03]...), 10)]\n",
    "    mdata = [mean_MT_size, MT_size_each, (:p_hyd)]\n",
    "    mlabels = [\"mean MT length\", \"MT_size_each\", \"p_hyd\"]\n",
    "end\n",
    "data_ens = ensemblerun!(models, agent_step!, model_step!, 10000; mdata, parallel = true)\n",
    "serialize(\"data/growthrate_test_data_p_hyd_10ensemble_4Nstart_10ksteps.jls\", data_ens[2])"
   ]
  },
  {
   "cell_type": "code",
   "execution_count": 17,
   "metadata": {},
   "outputs": [
    {
     "data": {
      "text/html": [
       "<div class=\"data-frame\"><p>10 rows × 9 columns (omitted printing of 4 columns)</p><table class=\"data-frame\"><thead><tr><th></th><th>p_hyd</th><th>velocity_grow_mean</th><th>velocity_cat_mean</th><th>grow_frequency_mean</th><th>cat_frequency_mean</th></tr><tr><th></th><th title=\"Float64\">Float64</th><th title=\"Float64\">Float64</th><th title=\"Float64\">Float64</th><th title=\"Float64\">Float64</th><th title=\"Float64\">Float64</th></tr></thead><tbody><tr><th>1</th><td>0.003</td><td>0.0304711</td><td>-0.00414573</td><td>0.000215</td><td>5.0e-6</td></tr><tr><th>2</th><td>0.006</td><td>0.0279269</td><td>-0.0240775</td><td>0.0002525</td><td>6.75e-5</td></tr><tr><th>3</th><td>0.009</td><td>0.0264913</td><td>-0.0603015</td><td>0.00031</td><td>0.000175</td></tr><tr><th>4</th><td>0.012</td><td>0.0276195</td><td>-0.0714016</td><td>0.000665</td><td>0.0005475</td></tr><tr><th>5</th><td>0.015</td><td>0.0290934</td><td>-0.0722715</td><td>0.0008975</td><td>0.000805</td></tr><tr><th>6</th><td>0.018</td><td>0.0308432</td><td>-0.0671354</td><td>0.00112</td><td>0.001045</td></tr><tr><th>7</th><td>0.021</td><td>0.0300291</td><td>-0.0603746</td><td>0.001155</td><td>0.001095</td></tr><tr><th>8</th><td>0.024</td><td>0.028982</td><td>-0.0539565</td><td>0.00123</td><td>0.00118</td></tr><tr><th>9</th><td>0.027</td><td>0.0290557</td><td>-0.0475653</td><td>0.0012875</td><td>0.0012225</td></tr><tr><th>10</th><td>0.03</td><td>0.0260075</td><td>-0.0419633</td><td>0.001275</td><td>0.001225</td></tr></tbody></table></div>"
      ],
      "text/latex": [
       "\\begin{tabular}{r|cccccc}\n",
       "\t& p\\_hyd & velocity\\_grow\\_mean & velocity\\_cat\\_mean & grow\\_frequency\\_mean & cat\\_frequency\\_mean & \\\\\n",
       "\t\\hline\n",
       "\t& Float64 & Float64 & Float64 & Float64 & Float64 & \\\\\n",
       "\t\\hline\n",
       "\t1 & 0.003 & 0.0304711 & -0.00414573 & 0.000215 & 5.0e-6 & $\\dots$ \\\\\n",
       "\t2 & 0.006 & 0.0279269 & -0.0240775 & 0.0002525 & 6.75e-5 & $\\dots$ \\\\\n",
       "\t3 & 0.009 & 0.0264913 & -0.0603015 & 0.00031 & 0.000175 & $\\dots$ \\\\\n",
       "\t4 & 0.012 & 0.0276195 & -0.0714016 & 0.000665 & 0.0005475 & $\\dots$ \\\\\n",
       "\t5 & 0.015 & 0.0290934 & -0.0722715 & 0.0008975 & 0.000805 & $\\dots$ \\\\\n",
       "\t6 & 0.018 & 0.0308432 & -0.0671354 & 0.00112 & 0.001045 & $\\dots$ \\\\\n",
       "\t7 & 0.021 & 0.0300291 & -0.0603746 & 0.001155 & 0.001095 & $\\dots$ \\\\\n",
       "\t8 & 0.024 & 0.028982 & -0.0539565 & 0.00123 & 0.00118 & $\\dots$ \\\\\n",
       "\t9 & 0.027 & 0.0290557 & -0.0475653 & 0.0012875 & 0.0012225 & $\\dots$ \\\\\n",
       "\t10 & 0.03 & 0.0260075 & -0.0419633 & 0.001275 & 0.001225 & $\\dots$ \\\\\n",
       "\\end{tabular}\n"
      ],
      "text/plain": [
       "\u001b[1m10×9 DataFrame\u001b[0m\n",
       "\u001b[1m Row \u001b[0m│\u001b[1m p_hyd   \u001b[0m\u001b[1m velocity_grow_mean \u001b[0m\u001b[1m velocity_cat_mean \u001b[0m\u001b[1m grow_frequency_mean \u001b[0m\u001b[1m ca\u001b[0m ⋯\n",
       "\u001b[1m     \u001b[0m│\u001b[90m Float64 \u001b[0m\u001b[90m Float64            \u001b[0m\u001b[90m Float64           \u001b[0m\u001b[90m Float64             \u001b[0m\u001b[90m Fl\u001b[0m ⋯\n",
       "─────┼──────────────────────────────────────────────────────────────────────────\n",
       "   1 │   0.003           0.0304711        -0.00414573            0.000215      ⋯\n",
       "   2 │   0.006           0.0279269        -0.0240775             0.0002525\n",
       "   3 │   0.009           0.0264913        -0.0603015             0.00031\n",
       "   4 │   0.012           0.0276195        -0.0714016             0.000665\n",
       "   5 │   0.015           0.0290934        -0.0722715             0.0008975     ⋯\n",
       "   6 │   0.018           0.0308432        -0.0671354             0.00112\n",
       "   7 │   0.021           0.0300291        -0.0603746             0.001155\n",
       "   8 │   0.024           0.028982         -0.0539565             0.00123\n",
       "   9 │   0.027           0.0290557        -0.0475653             0.0012875     ⋯\n",
       "  10 │   0.03            0.0260075        -0.0419633             0.001275\n",
       "\u001b[36m                                                               5 columns omitted\u001b[0m"
      ]
     },
     "metadata": {},
     "output_type": "display_data"
    }
   ],
   "source": [
    "data2_5 = deserialize(\"data/growthrate_test_data_p_hyd_10ensemble_4Nstart_10ksteps.jls\")\n",
    "\n",
    "mean_gr_velocity_per_ensemble = []\n",
    "gr_frequency = []\n",
    "mean_cat_velocity_per_ensemble = []\n",
    "cat_frequency = []\n",
    "ensemble_p_hyd = repeat(collect(0.003:0.003:0.03), 40)\n",
    "\n",
    "for i in 1:4 #number of Nstarts/MTs per ensemble\n",
    "    data2_5.mean_MT_size = [x[i] for x in data2_5.MT_size_each]\n",
    "    for e in 1:100 #number of total ensembles        \n",
    "        sub_df_velocity = velocity(growth_classification!(@subset(data2_5, :ensemble .== e), section_size = 200))\n",
    "            \n",
    "        push!(mean_gr_velocity_per_ensemble, mean_velocity_grow(sub_df_velocity))\n",
    "        push!(mean_cat_velocity_per_ensemble, mean_velocity_cat(sub_df_velocity))\n",
    "\n",
    "        push!(gr_frequency, count(i->(i > 0), sub_df_velocity.velocity)/10000)\n",
    "        push!(cat_frequency, count(i->(i < 0), sub_df_velocity.velocity)/10000)\n",
    "        \n",
    "    end\n",
    "end\n",
    "\n",
    "summary2_5 = DataFrame(p_hyd = ensemble_p_hyd, velocity_grow = mean_gr_velocity_per_ensemble,\n",
    " velocity_cat = mean_cat_velocity_per_ensemble, grow_frequency = gr_frequency, cat_frequency = cat_frequency)\n",
    "gdf2_5 = groupby(summary2_5, :p_hyd)\n",
    "final2_5 = combine(gdf2_5, [:velocity_grow , :velocity_cat, :grow_frequency, :cat_frequency] .=> [mean std])\n"
   ]
  },
  {
   "cell_type": "code",
   "execution_count": 19,
   "metadata": {},
   "outputs": [],
   "source": [
    "#Growth and Catastrophe velocities plotted\n",
    "fig2_5 = Figure(resolution = (750,600))\n",
    "ax2_5 = Axis(fig2_5[1,1], xticks = LinearTicks(12), yticks = LinearTicks(7), ylabel = \"Mean Velocity [tub/step]\", xlabel = \"p_hyd\")\n",
    "\n",
    "barplot!(ax2_5, final2_5.p_hyd, final2_5.velocity_grow_mean, label = \"Growth\", color = :green, fillto = 0, strokecolor = :black, strokewidth = 2)\n",
    "errorbars!(ax2_5, final2_5.p_hyd, final2_5.velocity_grow_mean, [0 for i in 1:nrow(final2_5)], final2_5.velocity_grow_std, color = :black, whiskerwidth = 10)\n",
    "barplot!(ax2_5, final2_5.p_hyd, final2_5.velocity_cat_mean, label = \"Catastrophe\", color = :red, fillto = 0, strokecolor = :black, strokewidth = 2)\n",
    "errorbars!(ax2_5, final2_5.p_hyd, final2_5.velocity_cat_mean, final2_5.velocity_cat_std, [0 for i in 1:nrow(final2_5)], color = :black, whiskerwidth = 10)\n",
    "\n",
    "hlines!(ax2_5, 0, color = :black)\n",
    "axislegend(ax2_5, position = :rb)\n",
    "fig2_5"
   ]
  },
  {
   "cell_type": "code",
   "execution_count": 22,
   "metadata": {},
   "outputs": [],
   "source": [
    "#Growth and Catastrophe Frequencies plotted\n",
    "fig2 = Figure(resolution = (1200,600))\n",
    "ax2 = Axis(fig2[1,1], xticks = LinearTicks(12), yticks = LinearTicks(7), xlabel = \"p_hyd\")\n",
    "ax2_2 = Axis(fig2[1,2], xticks = LinearTicks(12), yticks = LinearTicks(7), xlabel = \"p_hyd\")\n",
    "ylims!(ax2, 0, 0.0015)\n",
    "ylims!(ax2_2, 0, 0.0015)\n",
    "barplot!(ax2_2, final2_5.p_hyd, final2_5.grow_frequency_mean, label = \"Growth\", color = :green, fillto = 0, strokecolor = :black, strokewidth = 2)\n",
    "errorbars!(ax2_2, final2_5.p_hyd, final2_5.grow_frequency_mean, final2_5.grow_frequency_std, color = :black, whiskerwidth = 10)\n",
    "barplot!(ax2, final2_5.p_hyd, final2_5.cat_frequency_mean, label = \"Catastrophe\", color = :red, fillto = 0, strokecolor = :black, strokewidth = 2)\n",
    "errorbars!(ax2, final2_5.p_hyd, final2_5.cat_frequency_mean, final2_5.cat_frequency_std, color = :black, whiskerwidth = 10)\n",
    "\n",
    "#hlines!(ax2, 0, color = :black)\n",
    "axislegend(ax2, position = :lt)\n",
    "axislegend(ax2_2, position = :lt)\n",
    "Label(fig2[0,1:2], \"Growth and Catastrophe Frequencies [1/step]\", textsize = 30)\n",
    "fig2"
   ]
  },
  {
   "cell_type": "code",
   "execution_count": 32,
   "metadata": {},
   "outputs": [
    {
     "data": {
      "text/plain": [
       "GLMakie.Screen(...)"
      ]
     },
     "metadata": {},
     "output_type": "display_data"
    }
   ],
   "source": [
    "#MT length over time\n",
    "data2_5 = deserialize(\"data/growthrate_test_data_p_hyd_10ensemble_4Nstart_10ksteps.jls\")\n",
    "gdf = groupby(data2_5, [:step, :p_hyd])   \n",
    "sum_2_5 = combine(gdf, [:mean_MT_size] .=> [mean])\n",
    "\n",
    "f2_5_2 = Figure(resolution =(1200, 600))\n",
    "ax2_5_2 = Axis(f2_5_2[1,1]; xlabel = \"Timesteps\", ylabel = \"MT size\", title = \"MT length over time (40x ensemble)\")\n",
    "range = collect(0.003:0.003:0.03)\n",
    "\n",
    "for (i,v) in enumerate(range)\n",
    "    sub_data = @subset(sum_2_5, :p_hyd .== v)\n",
    "    lines!(ax2_5_2, sub_data.step, sub_data.mean_MT_size_mean, label = \"$v\", color = co.tab20[i])\n",
    "end\n",
    "\n",
    "\n",
    "Legend(f2_5_2[2,1], ax2_5_2, \"p_hyd\", orientation = :horizontal, tellwidth = false, tellheight = true)\n",
    "\n",
    "display(f2_5_2)"
   ]
  },
  {
   "cell_type": "markdown",
   "metadata": {},
   "source": [
    "### 2.6 Ensemble for p_GTP_exchange\n",
    "runtime 12 min?"
   ]
  },
  {
   "cell_type": "code",
   "execution_count": 2,
   "metadata": {},
   "outputs": [],
   "source": [
    "@everywhere begin\n",
    "    models = [initialize(;\n",
    "            Nstarts = 4,\n",
    "            periodic = true,\n",
    "            numagents = 1000,\n",
    "            griddims = (100,100), \n",
    "            p_polym = 1.0,\n",
    "            p_hyd = 0.024,\n",
    "            p_GTP_exchange = x,\n",
    "            p_depolym_GTP = 0.0,\n",
    "            p_depolym_GDP = 0.5)  \n",
    "        for x in repeat([0.0, 0.01, 0.025, 0.05, 0.075, 0.1, 0.15, 0.2, 0.4, 0.6, 1.0], 10)]\n",
    "    mdata = [mean_MT_size, MT_size_each, (:p_GTP_exchange)]\n",
    "    mlabels = [\"mean MT length\", \"MT_size_each\", \"p_GTP_exchange\"]\n",
    "end\n",
    "data_ens = ensemblerun!(models, agent_step!, model_step!, 10000; mdata, parallel = true)\n",
    "serialize(\"data/growthrate_test_data_p_GTP_exchange_10ensemble_4Nstart_10ksteps.jls\", data_ens[2])"
   ]
  },
  {
   "cell_type": "code",
   "execution_count": 23,
   "metadata": {},
   "outputs": [
    {
     "data": {
      "text/html": [
       "<div class=\"data-frame\"><p>11 rows × 9 columns (omitted printing of 4 columns)</p><table class=\"data-frame\"><thead><tr><th></th><th>p_GTP_exchange</th><th>velocity_grow_mean</th><th>velocity_cat_mean</th><th>grow_frequency_mean</th><th>cat_frequency_mean</th></tr><tr><th></th><th title=\"Float64\">Float64</th><th title=\"Float64\">Float64</th><th title=\"Float64\">Float64</th><th title=\"Float64\">Float64</th><th title=\"Float64\">Float64</th></tr></thead><tbody><tr><th>1</th><td>0.0</td><td>0.0132623</td><td>-0.0254109</td><td>0.00113</td><td>0.001035</td></tr><tr><th>2</th><td>0.01</td><td>0.0300312</td><td>-0.0505631</td><td>0.001285</td><td>0.001225</td></tr><tr><th>3</th><td>0.025</td><td>0.0314295</td><td>-0.060253</td><td>0.0012775</td><td>0.00122</td></tr><tr><th>4</th><td>0.05</td><td>0.0309928</td><td>-0.0571765</td><td>0.0012175</td><td>0.0011425</td></tr><tr><th>5</th><td>0.075</td><td>0.0302161</td><td>-0.0577994</td><td>0.0011</td><td>0.00104</td></tr><tr><th>6</th><td>0.1</td><td>0.0300922</td><td>-0.055339</td><td>0.001025</td><td>0.00095</td></tr><tr><th>7</th><td>0.15</td><td>0.0290939</td><td>-0.0560114</td><td>0.0009575</td><td>0.0008675</td></tr><tr><th>8</th><td>0.2</td><td>0.0263811</td><td>-0.0516643</td><td>0.000825</td><td>0.000735</td></tr><tr><th>9</th><td>0.4</td><td>0.0235211</td><td>-0.0500538</td><td>0.0004925</td><td>0.0004</td></tr><tr><th>10</th><td>0.6</td><td>0.0230623</td><td>-0.0467704</td><td>0.000365</td><td>0.00026</td></tr><tr><th>11</th><td>1.0</td><td>0.0212923</td><td>-0.0274497</td><td>0.0001875</td><td>7.75e-5</td></tr></tbody></table></div>"
      ],
      "text/latex": [
       "\\begin{tabular}{r|cccccc}\n",
       "\t& p\\_GTP\\_exchange & velocity\\_grow\\_mean & velocity\\_cat\\_mean & grow\\_frequency\\_mean & cat\\_frequency\\_mean & \\\\\n",
       "\t\\hline\n",
       "\t& Float64 & Float64 & Float64 & Float64 & Float64 & \\\\\n",
       "\t\\hline\n",
       "\t1 & 0.0 & 0.0132623 & -0.0254109 & 0.00113 & 0.001035 & $\\dots$ \\\\\n",
       "\t2 & 0.01 & 0.0300312 & -0.0505631 & 0.001285 & 0.001225 & $\\dots$ \\\\\n",
       "\t3 & 0.025 & 0.0314295 & -0.060253 & 0.0012775 & 0.00122 & $\\dots$ \\\\\n",
       "\t4 & 0.05 & 0.0309928 & -0.0571765 & 0.0012175 & 0.0011425 & $\\dots$ \\\\\n",
       "\t5 & 0.075 & 0.0302161 & -0.0577994 & 0.0011 & 0.00104 & $\\dots$ \\\\\n",
       "\t6 & 0.1 & 0.0300922 & -0.055339 & 0.001025 & 0.00095 & $\\dots$ \\\\\n",
       "\t7 & 0.15 & 0.0290939 & -0.0560114 & 0.0009575 & 0.0008675 & $\\dots$ \\\\\n",
       "\t8 & 0.2 & 0.0263811 & -0.0516643 & 0.000825 & 0.000735 & $\\dots$ \\\\\n",
       "\t9 & 0.4 & 0.0235211 & -0.0500538 & 0.0004925 & 0.0004 & $\\dots$ \\\\\n",
       "\t10 & 0.6 & 0.0230623 & -0.0467704 & 0.000365 & 0.00026 & $\\dots$ \\\\\n",
       "\t11 & 1.0 & 0.0212923 & -0.0274497 & 0.0001875 & 7.75e-5 & $\\dots$ \\\\\n",
       "\\end{tabular}\n"
      ],
      "text/plain": [
       "\u001b[1m11×9 DataFrame\u001b[0m\n",
       "\u001b[1m Row \u001b[0m│\u001b[1m p_GTP_exchange \u001b[0m\u001b[1m velocity_grow_mean \u001b[0m\u001b[1m velocity_cat_mean \u001b[0m\u001b[1m grow_frequency_m\u001b[0m ⋯\n",
       "\u001b[1m     \u001b[0m│\u001b[90m Float64        \u001b[0m\u001b[90m Float64            \u001b[0m\u001b[90m Float64           \u001b[0m\u001b[90m Float64         \u001b[0m ⋯\n",
       "─────┼──────────────────────────────────────────────────────────────────────────\n",
       "   1 │          0.0             0.0132623         -0.0254109            0.0011 ⋯\n",
       "   2 │          0.01            0.0300312         -0.0505631            0.0012\n",
       "   3 │          0.025           0.0314295         -0.060253             0.0012\n",
       "   4 │          0.05            0.0309928         -0.0571765            0.0012\n",
       "   5 │          0.075           0.0302161         -0.0577994            0.0011 ⋯\n",
       "   6 │          0.1             0.0300922         -0.055339             0.0010\n",
       "   7 │          0.15            0.0290939         -0.0560114            0.0009\n",
       "   8 │          0.2             0.0263811         -0.0516643            0.0008\n",
       "   9 │          0.4             0.0235211         -0.0500538            0.0004 ⋯\n",
       "  10 │          0.6             0.0230623         -0.0467704            0.0003\n",
       "  11 │          1.0             0.0212923         -0.0274497            0.0001\n",
       "\u001b[36m                                                               6 columns omitted\u001b[0m"
      ]
     },
     "metadata": {},
     "output_type": "display_data"
    }
   ],
   "source": [
    "data2_6 = deserialize(\"data/growthrate_test_data_p_GTP_exchange_10ensemble_4Nstart_10ksteps.jls\")\n",
    "\n",
    "mean_gr_velocity_per_ensemble = []\n",
    "gr_frequency = []\n",
    "mean_cat_velocity_per_ensemble = []\n",
    "cat_frequency = []\n",
    "ensemble_p_GTP_exchange = repeat([0.0, 0.01, 0.025, 0.05, 0.075, 0.1, 0.15, 0.2, 0.4, 0.6, 1.0], 40)\n",
    "\n",
    "for i in 1:4 #number of Nstarts/MTs per ensemble\n",
    "    data2_6.mean_MT_size = [x[i] for x in data2_6.MT_size_each]\n",
    "    for e in 1:110 #number of total ensembles        \n",
    "        sub_df_velocity = velocity(growth_classification!(@subset(data2_6, :ensemble .== e), section_size = 200))\n",
    "            \n",
    "        push!(mean_gr_velocity_per_ensemble, mean_velocity_grow(sub_df_velocity))\n",
    "        push!(mean_cat_velocity_per_ensemble, mean_velocity_cat(sub_df_velocity))\n",
    "\n",
    "        push!(gr_frequency, count(i->(i > 0), sub_df_velocity.velocity)/10000)\n",
    "        push!(cat_frequency, count(i->(i < 0), sub_df_velocity.velocity)/10000)\n",
    "        \n",
    "    end\n",
    "end\n",
    "\n",
    "summary2_6 = DataFrame(p_GTP_exchange = ensemble_p_GTP_exchange, velocity_grow = mean_gr_velocity_per_ensemble,\n",
    " velocity_cat = mean_cat_velocity_per_ensemble, grow_frequency = gr_frequency, cat_frequency = cat_frequency)\n",
    "gdf2_6 = groupby(summary2_6, :p_GTP_exchange)\n",
    "final2_6 = combine(gdf2_6, [:velocity_grow , :velocity_cat, :grow_frequency, :cat_frequency] .=> [mean std])\n"
   ]
  },
  {
   "cell_type": "code",
   "execution_count": 24,
   "metadata": {},
   "outputs": [],
   "source": [
    "#Growth and Catastrophe velocities plotted\n",
    "fig2_6 = Figure(resolution = (600,600))\n",
    "ax2_6 = Axis(fig2_6[1,1], xticks = LinearTicks(13), yticks = LinearTicks(7), ylabel = \"Mean Velocity [tub/step]\", xlabel = \"p_GTP_exchange\")\n",
    "\n",
    "barplot!(ax2_6, final2_6.p_GTP_exchange, final2_6.velocity_grow_mean, label = \"Growth\", color = :green, fillto = 0, strokecolor = :black, strokewidth = 2, gap = 0, width = 0.04)\n",
    "errorbars!(ax2_6, final2_6.p_GTP_exchange, final2_6.velocity_grow_mean, [0 for i in 1:nrow(final2_6)], final2_6.velocity_grow_std, color = :black, whiskerwidth = 10)\n",
    "barplot!(ax2_6, final2_6.p_GTP_exchange, final2_6.velocity_cat_mean, label = \"Catastrophe\", color = :red, fillto = 0, strokecolor = :black, strokewidth = 2, gap = 0, width = 0.04)\n",
    "errorbars!(ax2_6, final2_6.p_GTP_exchange, final2_6.velocity_cat_mean, final2_6.velocity_cat_std, [0 for i in 1:nrow(final2_6)], color = :black, whiskerwidth = 10)\n",
    "\n",
    "hlines!(ax2_6, 0, color = :black)\n",
    "axislegend(ax2_6, position = :rb)\n",
    "fig2_6"
   ]
  },
  {
   "cell_type": "code",
   "execution_count": 36,
   "metadata": {},
   "outputs": [],
   "source": [
    "#Growth and Catastrophe Frequencies plotted\n",
    "fig2 = Figure(resolution = (1200,600))\n",
    "ax2 = Axis(fig2[1,1], xticks = LinearTicks(12), yticks = LinearTicks(7), xlabel = \"p_GTP_exchange\")\n",
    "ax2_2 = Axis(fig2[1,2], xticks = LinearTicks(12), yticks = LinearTicks(7), xlabel = \"p_GTP_exchange\")\n",
    "ylims!(ax2, 0, 0.00135)\n",
    "ylims!(ax2_2, 0, 0.00135)\n",
    "barplot!(ax2_2, final2_6.p_GTP_exchange, final2_6.grow_frequency_mean, label = \"Growth\", color = :green, fillto = 0, strokecolor = :black, strokewidth = 2, gap = 0, width = 0.04)\n",
    "errorbars!(ax2_2, final2_6.p_GTP_exchange, final2_6.grow_frequency_mean, final2_6.grow_frequency_std, color = :black, whiskerwidth = 10)\n",
    "barplot!(ax2, final2_6.p_GTP_exchange, final2_6.cat_frequency_mean, label = \"Catastrophe\", color = :red, fillto = 0, strokecolor = :black, strokewidth = 2, gap = 0, width = 0.04)\n",
    "errorbars!(ax2, final2_6.p_GTP_exchange, final2_6.cat_frequency_mean, final2_6.cat_frequency_std, color = :black, whiskerwidth = 10)\n",
    "\n",
    "#hlines!(ax2, 0, color = :black)\n",
    "axislegend(ax2, position = :lt)\n",
    "axislegend(ax2_2, position = :lt)\n",
    "Label(fig2[0,1:2], \"Growth and Catastrophe Frequencies [1/step]\", textsize = 30)\n",
    "fig2"
   ]
  },
  {
   "cell_type": "code",
   "execution_count": 37,
   "metadata": {},
   "outputs": [
    {
     "data": {
      "text/plain": [
       "GLMakie.Screen(...)"
      ]
     },
     "metadata": {},
     "output_type": "display_data"
    }
   ],
   "source": [
    "#MT length over time\n",
    "data2_6 = deserialize(\"data/growthrate_test_data_p_GTP_exchange_10ensemble_4Nstart_10ksteps.jls\")\n",
    "\n",
    "gdf = groupby(data2_6, [:step, :p_GTP_exchange])   \n",
    "sum_2_6 = combine(gdf, [:mean_MT_size] .=> [mean])\n",
    "\n",
    "f2_6_2 = Figure(resolution =(1200, 600))\n",
    "ax2_6_2 = Axis(f2_6_2[1,1]; xlabel = \"Timesteps\", ylabel = \"MT size\", title = \"MT length over time (40x ensemble)\")\n",
    "range = [0.0, 0.01, 0.025, 0.05, 0.075, 0.1, 0.15, 0.2, 0.4, 0.6, 1.0]\n",
    "\n",
    "for (i,v) in enumerate(range)\n",
    "    sub_data = @subset(sum_2_6, :p_GTP_exchange .== v)\n",
    "    lines!(ax2_6_2, sub_data.step, sub_data.mean_MT_size_mean, label = \"$v\", color = co.tab20[i])\n",
    "end\n",
    "\n",
    "\n",
    "Legend(f2_6_2[2,1], ax2_6_2, \"p_GTP_exchange\", orientation = :horizontal, tellwidth = false, tellheight = true)\n",
    "\n",
    "display(f2_6_2)"
   ]
  },
  {
   "cell_type": "markdown",
   "metadata": {},
   "source": [
    "#### 2.6.2 Repeat with other parameter values"
   ]
  },
  {
   "cell_type": "code",
   "execution_count": 48,
   "metadata": {},
   "outputs": [],
   "source": [
    "@everywhere begin\n",
    "    models = [initialize(;\n",
    "            Nstarts = 4,\n",
    "            periodic = true,\n",
    "            numagents = 1000,\n",
    "            griddims = (100,100), \n",
    "            p_polym = 1.0,\n",
    "            p_hyd = 0.024,\n",
    "            p_GTP_exchange = x,\n",
    "            p_depolym_GTP = 0.0,\n",
    "            p_depolym_GDP = 0.5)  \n",
    "        for x in repeat(collect([0.0:0.05:0.5]...), 10)]\n",
    "    mdata = [mean_MT_size, MT_size_each, (:p_GTP_exchange)]\n",
    "    mlabels = [\"mean MT length\", \"MT_size_each\", \"p_GTP_exchange\"]\n",
    "end\n",
    "data_ens = ensemblerun!(models, agent_step!, model_step!, 10000; mdata, parallel = true)\n",
    "serialize(\"data/growthrate_test_data_p_GTP_exchange_other_range_10ensemble_4Nstart_10ksteps.jls\", data_ens[2])"
   ]
  },
  {
   "cell_type": "code",
   "execution_count": 25,
   "metadata": {},
   "outputs": [
    {
     "data": {
      "text/html": [
       "<div class=\"data-frame\"><p>11 rows × 9 columns (omitted printing of 4 columns)</p><table class=\"data-frame\"><thead><tr><th></th><th>p_GTP_exchange</th><th>velocity_grow_mean</th><th>velocity_cat_mean</th><th>grow_frequency_mean</th><th>cat_frequency_mean</th></tr><tr><th></th><th title=\"Float64\">Float64</th><th title=\"Float64\">Float64</th><th title=\"Float64\">Float64</th><th title=\"Float64\">Float64</th><th title=\"Float64\">Float64</th></tr></thead><tbody><tr><th>1</th><td>0.0</td><td>0.0129851</td><td>-0.0262891</td><td>0.0010325</td><td>0.00095</td></tr><tr><th>2</th><td>0.05</td><td>0.0306802</td><td>-0.0589072</td><td>0.001205</td><td>0.001125</td></tr><tr><th>3</th><td>0.1</td><td>0.0302874</td><td>-0.0599792</td><td>0.001125</td><td>0.00107</td></tr><tr><th>4</th><td>0.15</td><td>0.0287994</td><td>-0.0595411</td><td>0.001005</td><td>0.0009225</td></tr><tr><th>5</th><td>0.2</td><td>0.0275248</td><td>-0.0570654</td><td>0.00082</td><td>0.0007425</td></tr><tr><th>6</th><td>0.25</td><td>0.026575</td><td>-0.0542872</td><td>0.0008775</td><td>0.0007875</td></tr><tr><th>7</th><td>0.3</td><td>0.024305</td><td>-0.0557971</td><td>0.0006525</td><td>0.0005575</td></tr><tr><th>8</th><td>0.35</td><td>0.0242</td><td>-0.0532674</td><td>0.0005825</td><td>0.0004975</td></tr><tr><th>9</th><td>0.4</td><td>0.0243592</td><td>-0.0483476</td><td>0.0005075</td><td>0.0003975</td></tr><tr><th>10</th><td>0.45</td><td>0.0231351</td><td>-0.0515498</td><td>0.0005</td><td>0.0004025</td></tr><tr><th>11</th><td>0.5</td><td>0.0222042</td><td>-0.0487635</td><td>0.00043</td><td>0.000335</td></tr></tbody></table></div>"
      ],
      "text/latex": [
       "\\begin{tabular}{r|cccccc}\n",
       "\t& p\\_GTP\\_exchange & velocity\\_grow\\_mean & velocity\\_cat\\_mean & grow\\_frequency\\_mean & cat\\_frequency\\_mean & \\\\\n",
       "\t\\hline\n",
       "\t& Float64 & Float64 & Float64 & Float64 & Float64 & \\\\\n",
       "\t\\hline\n",
       "\t1 & 0.0 & 0.0129851 & -0.0262891 & 0.0010325 & 0.00095 & $\\dots$ \\\\\n",
       "\t2 & 0.05 & 0.0306802 & -0.0589072 & 0.001205 & 0.001125 & $\\dots$ \\\\\n",
       "\t3 & 0.1 & 0.0302874 & -0.0599792 & 0.001125 & 0.00107 & $\\dots$ \\\\\n",
       "\t4 & 0.15 & 0.0287994 & -0.0595411 & 0.001005 & 0.0009225 & $\\dots$ \\\\\n",
       "\t5 & 0.2 & 0.0275248 & -0.0570654 & 0.00082 & 0.0007425 & $\\dots$ \\\\\n",
       "\t6 & 0.25 & 0.026575 & -0.0542872 & 0.0008775 & 0.0007875 & $\\dots$ \\\\\n",
       "\t7 & 0.3 & 0.024305 & -0.0557971 & 0.0006525 & 0.0005575 & $\\dots$ \\\\\n",
       "\t8 & 0.35 & 0.0242 & -0.0532674 & 0.0005825 & 0.0004975 & $\\dots$ \\\\\n",
       "\t9 & 0.4 & 0.0243592 & -0.0483476 & 0.0005075 & 0.0003975 & $\\dots$ \\\\\n",
       "\t10 & 0.45 & 0.0231351 & -0.0515498 & 0.0005 & 0.0004025 & $\\dots$ \\\\\n",
       "\t11 & 0.5 & 0.0222042 & -0.0487635 & 0.00043 & 0.000335 & $\\dots$ \\\\\n",
       "\\end{tabular}\n"
      ],
      "text/plain": [
       "\u001b[1m11×9 DataFrame\u001b[0m\n",
       "\u001b[1m Row \u001b[0m│\u001b[1m p_GTP_exchange \u001b[0m\u001b[1m velocity_grow_mean \u001b[0m\u001b[1m velocity_cat_mean \u001b[0m\u001b[1m grow_frequency_m\u001b[0m ⋯\n",
       "\u001b[1m     \u001b[0m│\u001b[90m Float64        \u001b[0m\u001b[90m Float64            \u001b[0m\u001b[90m Float64           \u001b[0m\u001b[90m Float64         \u001b[0m ⋯\n",
       "─────┼──────────────────────────────────────────────────────────────────────────\n",
       "   1 │           0.0            0.0129851         -0.0262891            0.0010 ⋯\n",
       "   2 │           0.05           0.0306802         -0.0589072            0.0012\n",
       "   3 │           0.1            0.0302874         -0.0599792            0.0011\n",
       "   4 │           0.15           0.0287994         -0.0595411            0.0010\n",
       "   5 │           0.2            0.0275248         -0.0570654            0.0008 ⋯\n",
       "   6 │           0.25           0.026575          -0.0542872            0.0008\n",
       "   7 │           0.3            0.024305          -0.0557971            0.0006\n",
       "   8 │           0.35           0.0242            -0.0532674            0.0005\n",
       "   9 │           0.4            0.0243592         -0.0483476            0.0005 ⋯\n",
       "  10 │           0.45           0.0231351         -0.0515498            0.0005\n",
       "  11 │           0.5            0.0222042         -0.0487635            0.0004\n",
       "\u001b[36m                                                               6 columns omitted\u001b[0m"
      ]
     },
     "metadata": {},
     "output_type": "display_data"
    }
   ],
   "source": [
    "data2_6_2 = deserialize(\"data/growthrate_test_data_p_GTP_exchange_other_range_10ensemble_4Nstart_10ksteps.jls\")\n",
    "\n",
    "mean_gr_velocity_per_ensemble = []\n",
    "gr_frequency = []\n",
    "mean_cat_velocity_per_ensemble = []\n",
    "cat_frequency = []\n",
    "ensemble_p_GTP_exchange = repeat(collect(0.0:0.05:0.5), 40)\n",
    "\n",
    "for i in 1:4 #number of Nstarts/MTs per ensemble\n",
    "    data2_6_2.mean_MT_size = [x[i] for x in data2_6_2.MT_size_each]\n",
    "    for e in 1:110 #number of total ensembles        \n",
    "        sub_df_velocity = velocity(growth_classification!(@subset(data2_6_2, :ensemble .== e), section_size = 200))\n",
    "            \n",
    "        push!(mean_gr_velocity_per_ensemble, mean_velocity_grow(sub_df_velocity))\n",
    "        push!(mean_cat_velocity_per_ensemble, mean_velocity_cat(sub_df_velocity))\n",
    "\n",
    "        push!(gr_frequency, count(i->(i > 0), sub_df_velocity.velocity)/10000)\n",
    "        push!(cat_frequency, count(i->(i < 0), sub_df_velocity.velocity)/10000)\n",
    "        \n",
    "    end\n",
    "end\n",
    "\n",
    "summary2_6_2 = DataFrame(p_GTP_exchange = ensemble_p_GTP_exchange, velocity_grow = mean_gr_velocity_per_ensemble,\n",
    " velocity_cat = mean_cat_velocity_per_ensemble, grow_frequency = gr_frequency, cat_frequency = cat_frequency)\n",
    "gdf2_6_2 = groupby(summary2_6_2, :p_GTP_exchange)\n",
    "final2_6_2 = combine(gdf2_6_2, [:velocity_grow , :velocity_cat, :grow_frequency, :cat_frequency] .=> [mean std])\n"
   ]
  },
  {
   "cell_type": "code",
   "execution_count": 26,
   "metadata": {},
   "outputs": [],
   "source": [
    "#Growth and Catastrophe velocities plotted\n",
    "fig2_6_2 = Figure(resolution = (600,600))\n",
    "ax2_6_2 = Axis(fig2_6_2[1,1], xticks = LinearTicks(13), yticks = LinearTicks(7), ylabel = \"Mean Velocity [tub/step]\", xlabel = \"p_GTP_exchange\")\n",
    "\n",
    "barplot!(ax2_6_2, final2_6_2.p_GTP_exchange, final2_6_2.velocity_grow_mean, label = \"Growth\", color = :green, fillto = 0, strokecolor = :black, strokewidth = 2, gap = 0, width = 0.04)\n",
    "errorbars!(ax2_6_2, final2_6_2.p_GTP_exchange, final2_6_2.velocity_grow_mean, [0 for i in 1:nrow(final2_6_2)], final2_6_2.velocity_grow_std, color = :black, whiskerwidth = 10)\n",
    "barplot!(ax2_6_2, final2_6_2.p_GTP_exchange, final2_6_2.velocity_cat_mean, label = \"Catastrophe\", color = :red, fillto = 0, strokecolor = :black, strokewidth = 2, gap = 0, width = 0.04)\n",
    "errorbars!(ax2_6_2, final2_6_2.p_GTP_exchange, final2_6_2.velocity_cat_mean, final2_6_2.velocity_cat_std, [0 for i in 1:nrow(final2_6_2)], color = :black, whiskerwidth = 10)\n",
    "\n",
    "hlines!(ax2_6_2, 0, color = :black)\n",
    "axislegend(ax2_6_2, position = :rb)\n",
    "fig2_6_2"
   ]
  },
  {
   "cell_type": "code",
   "execution_count": 29,
   "metadata": {},
   "outputs": [],
   "source": [
    "#Growth and Catastrophe Frequencies plotted\n",
    "fig2 = Figure(resolution = (1200,600))\n",
    "ax2 = Axis(fig2[1,1], xticks = LinearTicks(12), yticks = LinearTicks(7), xlabel = \"p_GTP_exchange\")\n",
    "ax2_2 = Axis(fig2[1,2], xticks = LinearTicks(12), yticks = LinearTicks(7), xlabel = \"p_GTP_exchange\")\n",
    "ylims!(ax2, 0, 0.0015)\n",
    "ylims!(ax2_2, 0, 0.0015)\n",
    "barplot!(ax2_2, final2_6_2.p_GTP_exchange, final2_6_2.grow_frequency_mean, label = \"Growth\", color = :green, fillto = 0, strokecolor = :black, strokewidth = 2, gap = 0, width = 0.04)\n",
    "errorbars!(ax2_2, final2_6_2.p_GTP_exchange, final2_6_2.grow_frequency_mean, final2_6_2.grow_frequency_std, color = :black, whiskerwidth = 10)\n",
    "barplot!(ax2, final2_6_2.p_GTP_exchange, final2_6_2.cat_frequency_mean, label = \"Catastrophe\", color = :red, fillto = 0, strokecolor = :black, strokewidth = 2, gap = 0, width = 0.04)\n",
    "errorbars!(ax2, final2_6_2.p_GTP_exchange, final2_6_2.cat_frequency_mean, final2_6_2.cat_frequency_std, color = :black, whiskerwidth = 10)\n",
    "\n",
    "\n",
    "axislegend(ax2, position = :rt)\n",
    "axislegend(ax2_2, position = :rt)\n",
    "Label(fig2[0,1:2], \"Growth and Catastrophe Frequencies [1/step]\", textsize = 30)\n",
    "fig2"
   ]
  },
  {
   "cell_type": "code",
   "execution_count": 56,
   "metadata": {},
   "outputs": [
    {
     "data": {
      "text/plain": [
       "GLMakie.Screen(...)"
      ]
     },
     "metadata": {},
     "output_type": "display_data"
    }
   ],
   "source": [
    "#MT length over time\n",
    "data2_6_2 = deserialize(\"data/growthrate_test_data_p_GTP_exchange_other_range_10ensemble_4Nstart_10ksteps.jls\")\n",
    "\n",
    "gdf = groupby(data2_6_2, [:step, :p_GTP_exchange])   \n",
    "sum_2_6_2 = combine(gdf, [:mean_MT_size] .=> [mean])\n",
    "\n",
    "f2_6_2_2 = Figure(resolution =(1200, 600))\n",
    "ax2_6_2_2 = Axis(f2_6_2_2[1,1]; xlabel = \"Timesteps\", ylabel = \"MT size\", title = \"MT length over time (40x ensemble)\")\n",
    "range = collect(0.0:0.05:0.5)\n",
    "\n",
    "for (i,v) in enumerate(range)\n",
    "    sub_data = @subset(sum_2_6_2, :p_GTP_exchange .== v)\n",
    "    lines!(ax2_6_2_2, sub_data.step, sub_data.mean_MT_size_mean, label = \"$v\", color = co.tab20[i])\n",
    "end\n",
    "\n",
    "\n",
    "Legend(f2_6_2_2[2,1], ax2_6_2_2, \"p_GTP_exchange\", orientation = :horizontal, tellwidth = false, tellheight = true)\n",
    "\n",
    "display(f2_6_2_2)"
   ]
  },
  {
   "cell_type": "markdown",
   "metadata": {},
   "source": [
    "### 2.7 Ensemble for numagents\n",
    "runtime 12 min?"
   ]
  },
  {
   "cell_type": "code",
   "execution_count": 3,
   "metadata": {},
   "outputs": [],
   "source": [
    "@everywhere begin\n",
    "    models = [initialize(;\n",
    "            Nstarts = 4,\n",
    "            periodic = true,\n",
    "            numagents = x,\n",
    "            griddims = (100,100), \n",
    "            p_polym = 1.0,\n",
    "            p_hyd = 0.024,\n",
    "            p_GTP_exchange = 0.01,\n",
    "            p_depolym_GTP = 0.0,\n",
    "            p_depolym_GDP = 0.5)  \n",
    "        for x in repeat(collect(400:200:1800), 10)]\n",
    "    mdata = [mean_MT_size, MT_size_each, (:numagents)]\n",
    "    mlabels = [\"mean MT length\", \"MT_size_each\", \"numagents\"]\n",
    "end\n",
    "data_ens = ensemblerun!(models, agent_step!, model_step!, 10000; mdata, parallel = true)\n",
    "serialize(\"data/growthrate_test_data_numagents_10ensemble_4Nstart_10ksteps.jls\", data_ens[2])"
   ]
  },
  {
   "cell_type": "code",
   "execution_count": 30,
   "metadata": {},
   "outputs": [
    {
     "data": {
      "text/html": [
       "<div class=\"data-frame\"><p>8 rows × 9 columns (omitted printing of 4 columns)</p><table class=\"data-frame\"><thead><tr><th></th><th>numagents</th><th>velocity_grow_mean</th><th>velocity_cat_mean</th><th>grow_frequency_mean</th><th>cat_frequency_mean</th></tr><tr><th></th><th title=\"Int64\">Int64</th><th title=\"Float64\">Float64</th><th title=\"Float64\">Float64</th><th title=\"Float64\">Float64</th><th title=\"Float64\">Float64</th></tr></thead><tbody><tr><th>1</th><td>400</td><td>0.00591</td><td>-0.0197756</td><td>0.00076</td><td>9.25e-5</td></tr><tr><th>2</th><td>600</td><td>0.00985572</td><td>-0.0387967</td><td>0.0007025</td><td>0.000435</td></tr><tr><th>3</th><td>800</td><td>0.0193419</td><td>-0.0468317</td><td>0.0010375</td><td>0.0009575</td></tr><tr><th>4</th><td>1000</td><td>0.0297098</td><td>-0.050239</td><td>0.00125</td><td>0.00118</td></tr><tr><th>5</th><td>1200</td><td>0.0388824</td><td>-0.0585172</td><td>0.00121</td><td>0.001165</td></tr><tr><th>6</th><td>1400</td><td>0.0440689</td><td>-0.0590016</td><td>0.0010075</td><td>0.000935</td></tr><tr><th>7</th><td>1600</td><td>0.0499941</td><td>-0.0512732</td><td>0.0006125</td><td>0.0005375</td></tr><tr><th>8</th><td>1800</td><td>0.0591696</td><td>-0.0497129</td><td>0.0003625</td><td>0.000275</td></tr></tbody></table></div>"
      ],
      "text/latex": [
       "\\begin{tabular}{r|cccccc}\n",
       "\t& numagents & velocity\\_grow\\_mean & velocity\\_cat\\_mean & grow\\_frequency\\_mean & cat\\_frequency\\_mean & \\\\\n",
       "\t\\hline\n",
       "\t& Int64 & Float64 & Float64 & Float64 & Float64 & \\\\\n",
       "\t\\hline\n",
       "\t1 & 400 & 0.00591 & -0.0197756 & 0.00076 & 9.25e-5 & $\\dots$ \\\\\n",
       "\t2 & 600 & 0.00985572 & -0.0387967 & 0.0007025 & 0.000435 & $\\dots$ \\\\\n",
       "\t3 & 800 & 0.0193419 & -0.0468317 & 0.0010375 & 0.0009575 & $\\dots$ \\\\\n",
       "\t4 & 1000 & 0.0297098 & -0.050239 & 0.00125 & 0.00118 & $\\dots$ \\\\\n",
       "\t5 & 1200 & 0.0388824 & -0.0585172 & 0.00121 & 0.001165 & $\\dots$ \\\\\n",
       "\t6 & 1400 & 0.0440689 & -0.0590016 & 0.0010075 & 0.000935 & $\\dots$ \\\\\n",
       "\t7 & 1600 & 0.0499941 & -0.0512732 & 0.0006125 & 0.0005375 & $\\dots$ \\\\\n",
       "\t8 & 1800 & 0.0591696 & -0.0497129 & 0.0003625 & 0.000275 & $\\dots$ \\\\\n",
       "\\end{tabular}\n"
      ],
      "text/plain": [
       "\u001b[1m8×9 DataFrame\u001b[0m\n",
       "\u001b[1m Row \u001b[0m│\u001b[1m numagents \u001b[0m\u001b[1m velocity_grow_mean \u001b[0m\u001b[1m velocity_cat_mean \u001b[0m\u001b[1m grow_frequency_mean \u001b[0m\u001b[1m \u001b[0m ⋯\n",
       "\u001b[1m     \u001b[0m│\u001b[90m Int64     \u001b[0m\u001b[90m Float64            \u001b[0m\u001b[90m Float64           \u001b[0m\u001b[90m Float64             \u001b[0m\u001b[90m \u001b[0m ⋯\n",
       "─────┼──────────────────────────────────────────────────────────────────────────\n",
       "   1 │       400          0.00591            -0.0197756            0.00076     ⋯\n",
       "   2 │       600          0.00985572         -0.0387967            0.0007025\n",
       "   3 │       800          0.0193419          -0.0468317            0.0010375\n",
       "   4 │      1000          0.0297098          -0.050239             0.00125\n",
       "   5 │      1200          0.0388824          -0.0585172            0.00121     ⋯\n",
       "   6 │      1400          0.0440689          -0.0590016            0.0010075\n",
       "   7 │      1600          0.0499941          -0.0512732            0.0006125\n",
       "   8 │      1800          0.0591696          -0.0497129            0.0003625\n",
       "\u001b[36m                                                               5 columns omitted\u001b[0m"
      ]
     },
     "metadata": {},
     "output_type": "display_data"
    }
   ],
   "source": [
    "data2_7 = deserialize(\"data/growthrate_test_data_numagents_10ensemble_4Nstart_10ksteps.jls\")\n",
    "\n",
    "mean_gr_velocity_per_ensemble = []\n",
    "gr_frequency = []\n",
    "mean_cat_velocity_per_ensemble = []\n",
    "cat_frequency = []\n",
    "ensemble_numagents = repeat(collect(400:200:1800), 40)\n",
    "\n",
    "for i in 1:4 #number of Nstarts/MTs per ensemble\n",
    "    data2_7.mean_MT_size = [x[i] for x in data2_7.MT_size_each]\n",
    "    for e in 1:80 #number of total ensembles        \n",
    "        sub_df_velocity = velocity(growth_classification!(@subset(data2_7, :ensemble .== e), section_size = 200))\n",
    "            \n",
    "        push!(mean_gr_velocity_per_ensemble, mean_velocity_grow(sub_df_velocity))\n",
    "        push!(mean_cat_velocity_per_ensemble, mean_velocity_cat(sub_df_velocity))\n",
    "\n",
    "        push!(gr_frequency, count(i->(i > 0), sub_df_velocity.velocity)/10000)\n",
    "        push!(cat_frequency, count(i->(i < 0), sub_df_velocity.velocity)/10000)\n",
    "        \n",
    "    end\n",
    "end\n",
    "\n",
    "summary2_7 = DataFrame(numagents = ensemble_numagents, velocity_grow = mean_gr_velocity_per_ensemble,\n",
    " velocity_cat = mean_cat_velocity_per_ensemble, grow_frequency = gr_frequency, cat_frequency = cat_frequency)\n",
    "gdf2_7 = groupby(summary2_7, :numagents)\n",
    "final2_7 = combine(gdf2_7, [:velocity_grow , :velocity_cat, :grow_frequency, :cat_frequency] .=> [mean std])\n"
   ]
  },
  {
   "cell_type": "code",
   "execution_count": 34,
   "metadata": {},
   "outputs": [],
   "source": [
    "#Growth and Catastrophe velocities plotted\n",
    "fig2_7 = Figure(resolution = (600,600))\n",
    "ax2_7 = Axis(fig2_7[1,1], xticks = LinearTicks(10), yticks = LinearTicks(7), ylabel = \"Mean Velocity [tub/step]\", xlabel = \"numagents\")\n",
    "\n",
    "barplot!(ax2_7, final2_7.numagents, final2_7.velocity_grow_mean, label = \"Growth\", color = :green, fillto = 0, strokecolor = :black, strokewidth = 2)\n",
    "errorbars!(ax2_7, final2_7.numagents, final2_7.velocity_grow_mean, [0 for i in 1:nrow(final2_7)], final2_7.velocity_grow_std, color = :black, whiskerwidth = 10)\n",
    "barplot!(ax2_7, final2_7.numagents, final2_7.velocity_cat_mean, label = \"Catastrophe\", color = :red, fillto = 0, strokecolor = :black, strokewidth = 2)\n",
    "errorbars!(ax2_7, final2_7.numagents, final2_7.velocity_cat_mean, final2_7.velocity_cat_std, [0 for i in 1:nrow(final2_7)], color = :black, whiskerwidth = 10)\n",
    "\n",
    "hlines!(ax2_7, 0, color = :black)\n",
    "axislegend(ax2_7, position = :lt)\n",
    "fig2_7"
   ]
  },
  {
   "cell_type": "code",
   "execution_count": 33,
   "metadata": {},
   "outputs": [],
   "source": [
    "#Growth and Catastrophe Frequencies plotted\n",
    "fig2 = Figure(resolution = (1200,600))\n",
    "ax2 = Axis(fig2[1,1], xticks = LinearTicks(10), yticks = LinearTicks(7), xlabel = \"numagents\")\n",
    "ax2_2 = Axis(fig2[1,2], xticks = LinearTicks(10), yticks = LinearTicks(7), xlabel = \"numagents\")\n",
    "ylims!(ax2, 0, 0.0015)\n",
    "ylims!(ax2_2, 0, 0.0015)\n",
    "barplot!(ax2_2, final2_7.numagents, final2_7.grow_frequency_mean, label = \"Growth\", color = :green, fillto = 0, strokecolor = :black, strokewidth = 2)\n",
    "errorbars!(ax2_2, final2_7.numagents, final2_7.grow_frequency_mean, final2_7.grow_frequency_std, color = :black, whiskerwidth = 10)\n",
    "barplot!(ax2, final2_7.numagents, final2_7.cat_frequency_mean, label = \"Catastrophe\", color = :red, fillto = 0, strokecolor = :black, strokewidth = 2)\n",
    "errorbars!(ax2, final2_7.numagents, final2_7.cat_frequency_mean, final2_7.cat_frequency_std, color = :black, whiskerwidth = 10)\n",
    "\n",
    "axislegend(ax2, position = :lt)\n",
    "axislegend(ax2_2, position = :lt)\n",
    "Label(fig2[0,1:2], \"Growth and Catastrophe Frequencies [1/step]\", textsize = 30)\n",
    "fig2"
   ]
  },
  {
   "cell_type": "code",
   "execution_count": 44,
   "metadata": {},
   "outputs": [
    {
     "data": {
      "text/plain": [
       "GLMakie.Screen(...)"
      ]
     },
     "metadata": {},
     "output_type": "display_data"
    }
   ],
   "source": [
    "#MT length over time\n",
    "data2_7 = deserialize(\"data/growthrate_test_data_numagents_10ensemble_4Nstart_10ksteps.jls\")\n",
    "\n",
    "gdf = groupby(data2_7, [:step, :numagents])   \n",
    "sum_2_7 = combine(gdf, [:mean_MT_size] .=> [mean])\n",
    "\n",
    "f2_7_2 = Figure(resolution =(1200, 600))\n",
    "ax2_7_2 = Axis(f2_7_2[1,1]; xlabel = \"Timesteps\", ylabel = \"MT size\", title = \"MT length over time (40x ensemble)\")\n",
    "range = collect(400:200:1800)\n",
    "\n",
    "for (i,v) in enumerate(range)\n",
    "    sub_data = @subset(sum_2_7, :numagents .== v)\n",
    "    lines!(ax2_7_2, sub_data.step, sub_data.mean_MT_size_mean, label = \"$v\", color = co.tab20[i])\n",
    "end\n",
    "\n",
    "\n",
    "Legend(f2_7_2[2,1], ax2_7_2, \"numagents\", orientation = :horizontal, tellwidth = false, tellheight = true)\n",
    "\n",
    "display(f2_7_2)"
   ]
  },
  {
   "cell_type": "markdown",
   "metadata": {},
   "source": [
    "### 3. Other Plotting"
   ]
  },
  {
   "cell_type": "code",
   "execution_count": 9,
   "metadata": {},
   "outputs": [],
   "source": [
    "f3_1 = Figure(resolution = (1000,500))\n",
    "ax3_1 = Axis(f3_1[1, 1], xlabel = \"Timesteps\", ylabel = \"MT size\",  title = \"p_depolym_GDP = 0.4\", xticks = LinearTicks(5))\n",
    "\n",
    "plot_data = growth_classification!(@subset(data2_3, :ensemble .== 5), section_size = 200) \n",
    "    for n in collect(1:200:10001)\n",
    "        if plot_data.growthclass[n] == -1.0\n",
    "            vspan!(ax3_1, n, n+199, color = (:red, 0.5))\n",
    "        elseif plot_data.growthclass[n] == 1.0\n",
    "            vspan!(ax3_1, n, n+199, color = (:green, 0.5))\n",
    "        end\n",
    "    end\n",
    "    for i in collect(1:200:10001)\n",
    "        vlines!(ax3_1, i, color = :black)\n",
    "    end\n",
    "lines!(ax3_1, plot_data.step, plot_data.mean_MT_size, color = :black, linewidth = 2)\n",
    "f3_1"
   ]
  }
 ],
 "metadata": {
  "kernelspec": {
   "display_name": "Julia 1.7.1",
   "language": "julia",
   "name": "julia-1.7"
  },
  "language_info": {
   "file_extension": ".jl",
   "mimetype": "application/julia",
   "name": "julia",
   "version": "1.7.1"
  },
  "orig_nbformat": 4
 },
 "nbformat": 4,
 "nbformat_minor": 2
}
