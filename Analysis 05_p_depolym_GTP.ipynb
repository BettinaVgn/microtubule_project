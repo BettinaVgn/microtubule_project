{
 "cells": [
  {
   "cell_type": "markdown",
   "id": "a52f7db7-17f3-4997-aca8-01b7346cdf7e",
   "metadata": {
    "tags": []
   },
   "source": [
    "# Analysis / Plotting - Notebook 05 - p_depolym_GTP\n",
    "Author: Bettina Vignolo\n",
    "\n",
    "This notebook was created to perform several smaller experiments with the microtubule model and analyze the results. It focuses on ```p_depolym_GTP``` and how this parameter influences MT length"
   ]
  },
  {
   "cell_type": "code",
   "execution_count": 1,
   "id": "6ded767a-42f3-4ac3-94dc-9acf6c6bf5bf",
   "metadata": {},
   "outputs": [
    {
     "data": {
      "text/plain": [
       "MT_size_each (generic function with 1 method)"
      ]
     },
     "metadata": {},
     "output_type": "display_data"
    }
   ],
   "source": [
    "# load Packages:\n",
    "using Agents\n",
    "using Statistics\n",
    "using DataFrames\n",
    "using Distributions\n",
    "using StatsBase\n",
    "using DrWatson: @dict\n",
    "using Serialization\n",
    "using InteractiveDynamics\n",
    "using GLMakie\n",
    "import ColorSchemes as co\n",
    "using DataFramesMeta\n",
    "\n",
    "# load Functions:\n",
    "include(\"01_Agent.jl\")\n",
    "include(\"02_Initialization.jl\")\n",
    "include(\"03_AgentStep.jl\")\n",
    "include(\"04_ModelStep.jl\")\n",
    "include(\"05_Analysis.jl\")"
   ]
  },
  {
   "cell_type": "code",
   "execution_count": 1,
   "id": "d5f86efe",
   "metadata": {},
   "outputs": [],
   "source": [
    "using Distributed\n",
    "addprocs(4)\n",
    "\n",
    "@everywhere begin\n",
    "    # load Packages:\n",
    "    using Agents\n",
    "    using Statistics\n",
    "    using DataFrames\n",
    "    using Distributions\n",
    "    using StatsBase\n",
    "    using DrWatson: @dict\n",
    "    using Serialization\n",
    "    using InteractiveDynamics\n",
    "    using GLMakie\n",
    "    import ColorSchemes as co\n",
    "    using DataFramesMeta\n",
    "\n",
    "    # load Functions:\n",
    "    include(\"01_Agent.jl\")\n",
    "    include(\"02_Initialization.jl\")\n",
    "    include(\"03_AgentStep.jl\")\n",
    "    include(\"04_ModelStep.jl\")\n",
    "    include(\"05_Analysis.jl\")\n",
    "end    "
   ]
  },
  {
   "cell_type": "markdown",
   "id": "d9d31100-a440-453f-a5c0-554db5b21a6a",
   "metadata": {
    "tags": []
   },
   "source": [
    "## 1. Scanning for ideal range\n"
   ]
  },
  {
   "cell_type": "markdown",
   "id": "59f290f1",
   "metadata": {},
   "source": [
    "### 1.1 First try with 10 different p_depolym_GTP"
   ]
  },
  {
   "cell_type": "code",
   "execution_count": 2,
   "id": "f697d8a0-6c4e-406c-8877-9abcc5f2cb1c",
   "metadata": {
    "tags": []
   },
   "outputs": [
    {
     "name": "stderr",
     "output_type": "stream",
     "text": [
      "\r\u001b[32mProgress:  18%|████████                                 |  ETA: 0:01:52\u001b[39m\u001b[K"
     ]
    },
    {
     "name": "stderr",
     "output_type": "stream",
     "text": [
      "\r\u001b[32mProgress: 100%|█████████████████████████████████████████| Time: 0:01:45\u001b[39m\u001b[K\n"
     ]
    }
   ],
   "source": [
    "parameters=Dict(\n",
    "            :griddims => (100,100),\n",
    "            :periodic => true,\n",
    "            :Nstarts => 4,\n",
    "            :numagents => 1000, \n",
    "            :p_hyd => 0.024,                     #chosen based on Analysis 02               \n",
    "            :p_polym=> 1.0,       \n",
    "            :p_depolym_GTP => collect([0.0:0.1:1.0]...), #11 different probabilities\n",
    "            :p_depolym_GDP => 0.5,               #chosen based on Analysis 01  \n",
    "            :p_GTP_exchange => 0.01              #chosen based on Analysis 03\n",
    "    )\n",
    "# Model Data:\n",
    "mdata = [mean_MT_size]\n",
    "# Run Model \n",
    "_ , paramdata = paramscan(parameters, initialize; mdata, agent_step!, model_step!, n=10000)\n",
    "serialize(\"data/paramscan_p_depolym_GTP_10kSteps.jls\", paramdata)"
   ]
  },
  {
   "cell_type": "code",
   "execution_count": 11,
   "id": "ac315007-0692-4ef9-998b-7e92e71501f8",
   "metadata": {
    "jupyter": {
     "source_hidden": true
    },
    "tags": []
   },
   "outputs": [],
   "source": [
    "data1 = deserialize(\"data/paramscan_p_depolym_GTP_10kSteps.jls\"); #110.011 rows\n",
    "f1 = Figure(resolution =(1200, 400))\n",
    "ax1 = Axis(f1[1,1]; xlabel = \"Timesteps\", ylabel = \"MT size\", title = \"Mean MT length over time\")\n",
    "range = collect(0.0:0.1:1.0)\n",
    "\n",
    "for (i,v) in enumerate(range)\n",
    "    sub_data = @subset(data1, :p_depolym_GTP .== v)\n",
    "    lines!(ax1, sub_data.step, sub_data.mean_MT_size, label = \"$v\", color = co.tab20[i])\n",
    "end\n",
    "\n",
    "\n",
    "Legend(f1[2,1], ax1, \"p_depolym_GTP\", orientation = :horizontal, tellwidth = false, tellheight = true)\n",
    "\n",
    "f1"
   ]
  },
  {
   "cell_type": "markdown",
   "id": "59f290f1",
   "metadata": {},
   "source": [
    "### 1.2 Repeat with p_depolym_GTP between 0 and 0.1"
   ]
  },
  {
   "cell_type": "code",
   "execution_count": 8,
   "id": "f697d8a0-6c4e-406c-8877-9abcc5f2cb1c",
   "metadata": {
    "tags": []
   },
   "outputs": [
    {
     "name": "stderr",
     "output_type": "stream",
     "text": [
      "\r\u001b[32mProgress:  18%|████████                                 |  ETA: 0:01:19\u001b[39m\u001b[K"
     ]
    },
    {
     "name": "stderr",
     "output_type": "stream",
     "text": [
      "\r\u001b[32mProgress: 100%|█████████████████████████████████████████| Time: 0:01:42\u001b[39m\u001b[K\n"
     ]
    }
   ],
   "source": [
    "parameters=Dict(\n",
    "            :griddims => (100,100),\n",
    "            :periodic => true,\n",
    "            :Nstarts => 4,\n",
    "            :numagents => 1000, \n",
    "            :p_hyd => 0.024,                     #chosen based on Analysis 02               \n",
    "            :p_polym=> 1.0,       \n",
    "            :p_depolym_GTP => collect([0.0:0.01:0.1]...), #11 different probabilities\n",
    "            :p_depolym_GDP => 0.5,               #chosen based on Analysis 01  \n",
    "            :p_GTP_exchange => 0.01)              #chosen based on Analysis 03\n",
    "# Model Data:\n",
    "mdata = [mean_MT_size]\n",
    "# Run Model \n",
    "_ , paramdata = paramscan(parameters, initialize; mdata, agent_step!, model_step!, n=10000)\n",
    "serialize(\"data/paramscan_smaller_p_depolym_GTP_10kSteps.jls\", paramdata)"
   ]
  },
  {
   "cell_type": "code",
   "execution_count": 3,
   "id": "ac315007-0692-4ef9-998b-7e92e71501f8",
   "metadata": {
    "jupyter": {
     "source_hidden": true
    },
    "tags": []
   },
   "outputs": [],
   "source": [
    "data1_2 = deserialize(\"data/paramscan_smaller_p_depolym_GTP_10kSteps.jls\"); #110.011 rows\n",
    "f1_2 = Figure(resolution =(1200, 400))\n",
    "ax1_2 = Axis(f1_2[1,1]; xlabel = \"Timesteps\", ylabel = \"MT size\", title = \"Mean MT length over time\")\n",
    "range = collect(0.0:0.01:0.1)\n",
    "ylims!(ax1_2,0,100)\n",
    "for (i,v) in enumerate(range)\n",
    "    sub_data = @subset(data1_2, :p_depolym_GTP .== v)\n",
    "    lines!(ax1_2, sub_data.step, sub_data.mean_MT_size, label = \"$v\", color = co.tab20[i])\n",
    "end\n",
    "\n",
    "\n",
    "Legend(f1_2[2,1], ax1_2, \"p_depolym_GTP\", orientation = :horizontal, tellwidth = false, tellheight = true)\n",
    "\n",
    "f1_2"
   ]
  },
  {
   "cell_type": "markdown",
   "id": "017b5b34-a27a-4ddb-90aa-4ee366f5c875",
   "metadata": {},
   "source": [
    "### 1.3 Repeat 1.1 but with 10 ensembles\n",
    "runtime 12min"
   ]
  },
  {
   "cell_type": "code",
   "execution_count": 19,
   "id": "7ce13fd3-1ca6-4d0f-a74a-7f4fb102ddd5",
   "metadata": {
    "tags": []
   },
   "outputs": [],
   "source": [
    "@everywhere begin\n",
    "    models = [initialize(;\n",
    "            Nstarts = 4,\n",
    "            periodic = true,\n",
    "            numagents = 1000,\n",
    "            griddims = (100,100), \n",
    "            p_polym = 1.0,\n",
    "            p_hyd = 0.024,\n",
    "            p_GTP_exchange = 0.01,\n",
    "            p_depolym_GTP = x,\n",
    "            p_depolym_GDP = 0.1)  \n",
    "        for x in repeat(collect([0.0:0.1:1.0]...), 10)]\n",
    "\n",
    "    mdata = [mean_MT_size, (:p_depolym_GTP)]\n",
    "    mlabels = [\"mean MT length\", \"p_depolym_GTP\"]\n",
    "end\n",
    "data_ens = ensemblerun!(models, agent_step!, model_step!, 10000; mdata, parallel = true)\n",
    "serialize(\"data/paramscan_p_depolym_GTP_10ensemble_10kSteps.jls\", data_ens[2])"
   ]
  },
  {
   "cell_type": "code",
   "execution_count": 20,
   "id": "e3947fc2-d908-4313-9d44-94d92a230c08",
   "metadata": {},
   "outputs": [],
   "source": [
    "data1_3 = deserialize(\"data/paramscan_p_depolym_GTP_10ensemble_10kSteps.jls\")\n",
    "gdf = groupby(data1_3, [:step, :p_depolym_GTP]) #@subset(data1_3, :ensemble .!= 88, :ensemble .!= 86)\n",
    "sum_1_3 = combine(gdf, [:mean_MT_size] .=> [mean]);"
   ]
  },
  {
   "cell_type": "code",
   "execution_count": 22,
   "id": "cd7b508f",
   "metadata": {},
   "outputs": [
    {
     "data": {
      "text/plain": [
       "GLMakie.Screen(...)"
      ]
     },
     "metadata": {},
     "output_type": "display_data"
    }
   ],
   "source": [
    "#MT length over time\n",
    "f1_3 = Figure(resolution =(1200, 600))\n",
    "ax1_3 = Axis(f1_3[1,1]; xlabel = \"Timesteps\", ylabel = \"MT size\", title = \"Mean MT length over time (10x ensemble) - excluded ensemble\")\n",
    "range = collect(0.0:0.1:1.0)\n",
    "\n",
    "for (i,v) in enumerate(range)\n",
    "    sub_data = @subset(sum_1_3, :p_depolym_GTP .== v)\n",
    "    lines!(ax1_3, sub_data.step, sub_data.mean_MT_size_mean, label = \"$v\", color = co.tab20[i])\n",
    "end\n",
    "\n",
    "\n",
    "Legend(f1_3[2,1], ax1_3, \"p_depolym_GTP\", orientation = :horizontal, tellwidth = false, tellheight = true)\n",
    "\n",
    "display(f1_3)"
   ]
  },
  {
   "cell_type": "code",
   "execution_count": 26,
   "id": "be432225",
   "metadata": {},
   "outputs": [],
   "source": [
    "#Mean Length\n",
    "f2_3 = Figure(resolution = (800, 600)) \n",
    "range = collect(0.0:0.1:1.0)\n",
    "\n",
    "ax2_3 = Axis(f2_3[1,1]; titel = \"Avg of MT lengths\", xlabel = \"p_depolym_GTP\", ylabel =\"Mean MT length\", xticks = LinearTicks(11), yticks = LinearTicks(5), yticklabelcolor = :green,  ylabelcolor = :green)\n",
    "\n",
    "means = Float64[]\n",
    "stds = Float64[]\n",
    "for (i,v) in enumerate(range)\n",
    "    df_sub = @subset(sum_1_3, :step .>= 5000, :p_depolym_GTP .== v)  \n",
    "    append!(means, mean(df_sub.mean_MT_size_mean))\n",
    "    append!(stds, std(df_sub.mean_MT_size_mean))\n",
    "end\n",
    "\n",
    "l1 = lines!(ax2_3, range, means, color = :green)\n",
    "l2 = errorbars!(ax2_3, range, means, stds, color = :red, whiskerwidth = 10)\n",
    "\n",
    "Legend(f2_3[2,1], [l1, l2], [\"Mean\", \"Std\"], orientation = :horizontal, tellwidth = false, tellheight = true)\n",
    "\n",
    "f2_3"
   ]
  },
  {
   "cell_type": "code",
   "execution_count": null,
   "id": "930d690a",
   "metadata": {},
   "outputs": [
    {
     "data": {
      "image/png": "[encoded data removed]",
      "text/plain": [
       "Figure()"
      ]
     },
     "metadata": {},
     "output_type": "display_data"
    }
   ],
   "source": [
    "#Histogramm\n",
    "f2_8 = Figure(resolution = (1000, 400)) \n",
    "range = collect(0.0:0.1:1.0)\n",
    "ax2_8 = Axis(f2_8[1,1]; xlabel = \"MT Length\", title = \"Mean MT Length Distributions for each p_polym (beginning at step 50000)\")\n",
    "hideydecorations!(ax2_8)\n",
    "xlims!(ax2_8, 0, 100)\n",
    "\n",
    "for (i,v) in enumerate(range)\n",
    "    df_sub = @subset(sum_1_3, :step .>= 50000, :p_polym .== v) \n",
    "    hist!(ax2_8, df_sub.mean_MT_size_mean; bins = 100, scale_to=0.003, direction=:y, label = \"$v\", color = co.tab20[i])\n",
    "end\n",
    "\n",
    "Legend(f2_8[2,1], ax2_8, \"p_polym\", merge = true, orientation = :horizontal, tellwidth = false, tellheight = true)\n",
    "\n",
    "f2_8"
   ]
  },
  {
   "cell_type": "markdown",
   "id": "017b5b34-a27a-4ddb-90aa-4ee366f5c875",
   "metadata": {},
   "source": [
    "### 1.4 Repeat 1.2 but with 10 ensembles\n",
    "runtime 15min\n"
   ]
  },
  {
   "cell_type": "code",
   "execution_count": 5,
   "id": "7ce13fd3-1ca6-4d0f-a74a-7f4fb102ddd5",
   "metadata": {
    "tags": []
   },
   "outputs": [],
   "source": [
    "@everywhere begin\n",
    "    models = [initialize(;\n",
    "            Nstarts = 4,\n",
    "            periodic = true,\n",
    "            numagents = 1000,\n",
    "            griddims = (100,100), \n",
    "            p_polym = 1.0,\n",
    "            p_hyd = 0.024,\n",
    "            p_GTP_exchange = 0.01,\n",
    "            p_depolym_GTP = x,\n",
    "            p_depolym_GDP = 0.1)  \n",
    "        for x in repeat(collect([0.0:0.01:0.1]...), 10)]\n",
    "\n",
    "    mdata = [mean_MT_size, (:p_depolym_GTP)]\n",
    "end\n",
    "data_ens = ensemblerun!(models, agent_step!, model_step!, 10000; mdata, parallel = true)\n",
    "serialize(\"data/paramscan_smaller_p_depolym_GTP_10ensemble_10kSteps.jls\", data_ens[2])"
   ]
  },
  {
   "cell_type": "code",
   "execution_count": 6,
   "id": "e3947fc2-d908-4313-9d44-94d92a230c08",
   "metadata": {},
   "outputs": [],
   "source": [
    "data1_4 = deserialize(\"data/paramscan_smaller_p_depolym_GTP_10ensemble_10kSteps.jls\")\n",
    "gdf = groupby(data1_4, [:step, :p_depolym_GTP]) #@subset(data1_4, :ensemble .!= 88, :ensemble .!= 86)\n",
    "sum_1_4 = combine(gdf, [:mean_MT_size] .=> [mean]);"
   ]
  },
  {
   "cell_type": "code",
   "execution_count": 10,
   "id": "cd7b508f",
   "metadata": {},
   "outputs": [
    {
     "data": {
      "text/plain": [
       "GLMakie.Screen(...)"
      ]
     },
     "metadata": {},
     "output_type": "display_data"
    }
   ],
   "source": [
    "#MT length over time\n",
    "f1_4 = Figure(resolution =(1200, 600))\n",
    "ax1_4 = Axis(f1_4[1,1]; xlabel = \"Timesteps\", ylabel = \"MT size\", title = \"Mean MT length over time (10x ensemble) - excluded ensemble\")\n",
    "range = collect(0.0:0.02:0.1)\n",
    "\n",
    "for (i,v) in enumerate(range)\n",
    "    sub_data = @subset(sum_1_4, :p_depolym_GTP .== v)\n",
    "    lines!(ax1_4, sub_data.step, sub_data.mean_MT_size_mean, label = \"$v\", color = co.tab20[i])\n",
    "end\n",
    "Legend(f1_4[2,1], ax1_4, \"p_depolym_GTP\", orientation = :horizontal, tellwidth = false, tellheight = true)\n",
    "\n",
    "display(f1_4)"
   ]
  },
  {
   "cell_type": "code",
   "execution_count": 12,
   "id": "be432225",
   "metadata": {},
   "outputs": [],
   "source": [
    "#Mean Length\n",
    "f2_4 = Figure(resolution = (800, 600)) \n",
    "range = collect(0.0:0.01:0.1)\n",
    "\n",
    "ax2_4 = Axis(f2_4[1,1]; titel = \"Avg of MT lengths\", xlabel = \"p_depolym_GTP\", ylabel =\"Mean MT length\", xticks = LinearTicks(11), yticks = LinearTicks(5), yticklabelcolor = :green,  ylabelcolor = :green)\n",
    "\n",
    "means = Float64[]\n",
    "stds = Float64[]\n",
    "for (i,v) in enumerate(range)\n",
    "    df_sub = @subset(sum_1_4, :step .>= 5000, :p_depolym_GTP .== v)  \n",
    "    append!(means, mean(df_sub.mean_MT_size_mean))\n",
    "    append!(stds, std(df_sub.mean_MT_size_mean))\n",
    "end\n",
    "\n",
    "l1 = lines!(ax2_4, range, means, color = :green)\n",
    "l2 = errorbars!(ax2_4, range, means, stds, color = :red, whiskerwidth = 10)\n",
    "\n",
    "Legend(f2_4[2,1], [l1, l2], [\"Mean\", \"Std\"], orientation = :horizontal, tellwidth = false, tellheight = true)\n",
    "\n",
    "f2_4"
   ]
  },
  {
   "cell_type": "markdown",
   "id": "017b5b34-a27a-4ddb-90aa-4ee366f5c875",
   "metadata": {},
   "source": [
    "### 1.5 10 ensembles, 100k steps\n",
    "runtime ?\n"
   ]
  },
  {
   "cell_type": "code",
   "execution_count": 2,
   "id": "7ce13fd3-1ca6-4d0f-a74a-7f4fb102ddd5",
   "metadata": {
    "tags": []
   },
   "outputs": [],
   "source": [
    "@everywhere begin\n",
    "    models = [initialize(;\n",
    "            Nstarts = 4,\n",
    "            periodic = true,\n",
    "            numagents = 1000,\n",
    "            griddims = (100,100), \n",
    "            p_polym = 1.0,\n",
    "            p_hyd = 0.024,\n",
    "            p_GTP_exchange = 0.01,\n",
    "            p_depolym_GTP = x,\n",
    "            p_depolym_GDP = 0.1)  \n",
    "        for x in repeat(collect([0.0:0.03:0.27]...), 10)]\n",
    "    mdata = [mean_MT_size, (:p_depolym_GTP)]\n",
    "end\n",
    "data_ens = ensemblerun!(models, agent_step!, model_step!, 100000; mdata, parallel = true)\n",
    "serialize(\"data/paramscan_smaller_p_depolym_GTP_10ensemble_100kSteps.jls\", data_ens[2])"
   ]
  },
  {
   "cell_type": "code",
   "execution_count": 3,
   "id": "e3947fc2-d908-4313-9d44-94d92a230c08",
   "metadata": {},
   "outputs": [],
   "source": [
    "data1_5 = deserialize(\"data/paramscan_smaller_p_depolym_GTP_10ensemble_100kSteps.jls\")\n",
    "gdf = groupby(data1_5, [:step, :p_depolym_GTP]) #@subset(data1_5, :ensemble .!= 88, :ensemble .!= 86)\n",
    "sum_1_5 = combine(gdf, [:mean_MT_size] .=> [mean]);"
   ]
  },
  {
   "cell_type": "code",
   "execution_count": 4,
   "id": "cd7b508f",
   "metadata": {},
   "outputs": [
    {
     "data": {
      "text/plain": [
       "GLMakie.Screen(...)"
      ]
     },
     "metadata": {},
     "output_type": "display_data"
    }
   ],
   "source": [
    "#MT length over time\n",
    "f1_5 = Figure(resolution =(1200, 600))\n",
    "ax1_5 = Axis(f1_5[1,1]; xlabel = \"Timesteps\", ylabel = \"MT size\", title = \"Mean MT length over time (10x ensemble) - excluded ensemble\")\n",
    "range = collect(0.0:0.03:0.27)\n",
    "\n",
    "for (i,v) in enumerate(range)\n",
    "    sub_data = @subset(sum_1_5, :p_depolym_GTP .== v)\n",
    "    lines!(ax1_5, sub_data.step, sub_data.mean_MT_size_mean, label = \"$v\", color = co.tab20[i])\n",
    "end\n",
    "\n",
    "\n",
    "Legend(f1_5[2,1], ax1_5, \"p_depolym_GTP\", orientation = :horizontal, tellwidth = false, tellheight = true)\n",
    "\n",
    "display(f1_5)"
   ]
  },
  {
   "cell_type": "code",
   "execution_count": 5,
   "id": "be432225",
   "metadata": {},
   "outputs": [],
   "source": [
    "#Mean Length\n",
    "f2_5 = Figure(resolution = (800, 600)) \n",
    "range = collect(0.0:0.03:0.27)\n",
    "\n",
    "ax2_5 = Axis(f2_5[1,1]; titel = \"Avg of MT lengths\", xlabel = \"p_depolym_GTP\", ylabel =\"Mean MT length\", xticks = LinearTicks(11), yticks = LinearTicks(5), yticklabelcolor = :green,  ylabelcolor = :green)\n",
    "\n",
    "means = Float64[]\n",
    "stds = Float64[]\n",
    "for (i,v) in enumerate(range)\n",
    "    df_sub = @subset(sum_1_5, :step .>= 50000, :p_depolym_GTP .== v)  \n",
    "    append!(means, mean(df_sub.mean_MT_size_mean))\n",
    "    append!(stds, std(df_sub.mean_MT_size_mean))\n",
    "end\n",
    "\n",
    "l1 = lines!(ax2_5, range, means, color = :green)\n",
    "l2 = errorbars!(ax2_5, range, means, stds, color = :red, whiskerwidth = 10)\n",
    "\n",
    "Legend(f2_5[2,1], [l1, l2], [\"Mean\", \"Std\"], orientation = :horizontal, tellwidth = false, tellheight = true)\n",
    "\n",
    "f2_5"
   ]
  }
 ],
 "metadata": {
  "kernelspec": {
   "display_name": "Julia 1.7.1",
   "language": "julia",
   "name": "julia-1.7"
  },
  "language_info": {
   "file_extension": ".jl",
   "mimetype": "application/julia",
   "name": "julia",
   "version": "1.7.1"
  }
 },
 "nbformat": 4,
 "nbformat_minor": 5
}
